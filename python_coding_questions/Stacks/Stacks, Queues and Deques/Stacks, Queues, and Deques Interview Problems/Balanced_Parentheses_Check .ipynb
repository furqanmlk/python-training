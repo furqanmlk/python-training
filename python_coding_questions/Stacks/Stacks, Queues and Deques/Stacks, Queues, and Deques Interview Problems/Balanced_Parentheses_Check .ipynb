{
 "cells": [
  {
   "cell_type": "code",
   "execution_count": null,
   "metadata": {},
   "outputs": [],
   "source": [
    "def is_balanced_parentheses(s):\n",
    "    stack = []\n",
    "    opening = \"({[\"  # Opening brackets\n",
    "    closing = \")}]\"  # Corresponding closing brackets\n",
    "\n",
    "    for char in s:\n",
    "        if char in opening:\n",
    "            stack.append(char)\n",
    "        elif char in closing:\n",
    "            # Check if the stack is empty before popping\n",
    "            if not stack:\n",
    "                return False\n",
    "\n",
    "            # Compare the last opened bracket with the current closing bracket\n",
    "            last_opened = stack.pop()\n",
    "            if opening.index(last_opened) != closing.index(char):\n",
    "                return False\n",
    "\n",
    "    # The stack should be empty if all brackets are balanced\n",
    "    return len(stack) == 0\n"
   ]
  },
  {
   "cell_type": "code",
   "execution_count": 2,
   "metadata": {},
   "outputs": [
    {
     "name": "stdout",
     "output_type": "stream",
     "text": [
      "True\n"
     ]
    }
   ],
   "source": [
    "test_string = \"(({}))\"  # Balanced parentheses\n",
    "print(is_balanced_parentheses(test_string))  # Output: True"
   ]
  },
  {
   "cell_type": "code",
   "execution_count": 3,
   "metadata": {},
   "outputs": [
    {
     "name": "stdout",
     "output_type": "stream",
     "text": [
      "False\n"
     ]
    }
   ],
   "source": [
    "test_string = \"({[}])\"  # Unbalanced parentheses\n",
    "print(is_balanced_parentheses(test_string))  # Output: False"
   ]
  }
 ],
 "metadata": {
  "kernelspec": {
   "display_name": "Python 3",
   "language": "python",
   "name": "python3"
  },
  "language_info": {
   "codemirror_mode": {
    "name": "ipython",
    "version": 3
   },
   "file_extension": ".py",
   "mimetype": "text/x-python",
   "name": "python",
   "nbconvert_exporter": "python",
   "pygments_lexer": "ipython3",
   "version": "3.10.11"
  },
  "orig_nbformat": 4
 },
 "nbformat": 4,
 "nbformat_minor": 2
}
