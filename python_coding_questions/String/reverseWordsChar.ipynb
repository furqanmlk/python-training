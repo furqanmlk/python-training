{
 "cells": [
  {
   "attachments": {},
   "cell_type": "markdown",
   "metadata": {},
   "source": [
    "## REVERSE Words and Char of string\n",
    "    Input:\n",
    "\"This is my Python\"\n",
    "\n",
    "     Output:\n",
    "\"nohtyP ym si siht\""
   ]
  },
  {
   "cell_type": "code",
   "execution_count": 7,
   "metadata": {},
   "outputs": [
    {
     "name": "stdout",
     "output_type": "stream",
     "text": [
      "sihT si ym nohtyP \n"
     ]
    }
   ],
   "source": [
    "def revWordChar(mySentance):\n",
    "    splitted = mySentance.split()\n",
    "    output = \"\"\n",
    "    for eachWord in splitted:\n",
    "        output+=eachWord[::-1] + \" \"\n",
    "    return output\n",
    "\n",
    "print (revWordChar(\"This is my Python\"))"
   ]
  },
  {
   "cell_type": "code",
   "execution_count": null,
   "metadata": {},
   "outputs": [],
   "source": [
    "def revWordCharJoin(mySentance):\n",
    "    splitted = mySentance.split()\n",
    "    l = []\n",
    "    for eachWord in splitted:\n",
    "        l.append(eachWord[::-1])\n",
    "    \n",
    "    return ' '.join(l)\n",
    "\n",
    "print (revWordCharJoin(\"This is my Python\"))"
   ]
  },
  {
   "attachments": {},
   "cell_type": "markdown",
   "metadata": {},
   "source": [
    "##  REVERSE every second word present in the given string\n",
    "    Input:\n",
    "\"first second third second fifth second\"\n",
    "\n",
    "    Output:\n",
    "\"first dnoces third dnoces fifth dnoces\""
   ]
  },
  {
   "cell_type": "code",
   "execution_count": 1,
   "metadata": {},
   "outputs": [
    {
     "name": "stdout",
     "output_type": "stream",
     "text": [
      "first dnoces third dnoces fifth dnoces\n"
     ]
    }
   ],
   "source": [
    "\n",
    "def revSecWord(mySentance):\n",
    "    splitted = mySentance.split()\n",
    "\n",
    "    for i in range(len(splitted)):\n",
    "        if(i%2):\n",
    "            splitted[i] = splitted[i][::-1]\n",
    "\n",
    "    return ' '.join(splitted)\n",
    "\n",
    "\n",
    "print (revSecWord(\"first second third second fifth second\"))\n",
    "\n"
   ]
  },
  {
   "cell_type": "code",
   "execution_count": null,
   "metadata": {},
   "outputs": [],
   "source": []
  }
 ],
 "metadata": {
  "kernelspec": {
   "display_name": "Python 3",
   "language": "python",
   "name": "python3"
  },
  "language_info": {
   "codemirror_mode": {
    "name": "ipython",
    "version": 3
   },
   "file_extension": ".py",
   "mimetype": "text/x-python",
   "name": "python",
   "nbconvert_exporter": "python",
   "pygments_lexer": "ipython3",
   "version": "3.11.2"
  },
  "orig_nbformat": 4
 },
 "nbformat": 4,
 "nbformat_minor": 2
}
