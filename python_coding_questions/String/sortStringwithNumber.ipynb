{
 "cells": [
  {
   "attachments": {},
   "cell_type": "markdown",
   "metadata": {},
   "source": [
    "## String Comression Questions\n",
    "__[sort-string-with-number](#sort-string-with-number)__\n",
    "\n",
    "__[print-occurance-of-char](#print-occurance-of-char)__\n",
    "\n",
    "__[print-occurance-of-char-in-sorted-order](#print-occurance-of-char-in-sorted-order)__\n",
    "\n",
    "__[print-char](#print-char)__\n"
   ]
  },
  {
   "attachments": {},
   "cell_type": "markdown",
   "metadata": {},
   "source": [
    "### Sort String with Number\n",
    "\n"
   ]
  },
  {
   "attachments": {},
   "cell_type": "markdown",
   "metadata": {},
   "source": [
    "    input: \n",
    "B4A1D3\n",
    "    \n",
    "    output: \n",
    "ABD134"
   ]
  },
  {
   "cell_type": "code",
   "execution_count": 6,
   "metadata": {},
   "outputs": [
    {
     "data": {
      "text/plain": [
       "'ABD134'"
      ]
     },
     "execution_count": 6,
     "metadata": {},
     "output_type": "execute_result"
    }
   ],
   "source": [
    "def sortStringWithNum(st):\n",
    "    ch = []\n",
    "    num = []\n",
    "    for i in st:\n",
    "        if(i.isalpha()):\n",
    "            ch.append(i)\n",
    "        else:\n",
    "            num.append(i)\n",
    "    ch.sort()\n",
    "    num.sort()\n",
    "    return ''.join(ch + num)\n",
    "\n",
    "sortStringWithNum(\"B4A1D3\")\n"
   ]
  },
  {
   "cell_type": "code",
   "execution_count": null,
   "metadata": {},
   "outputs": [],
   "source": [
    "def sortStringWithNum(myString):\n",
    "    alpha = []\n",
    "    digit = []\n",
    "    for ch in myString:\n",
    "        if(ch.isalpha()):\n",
    "            alpha.append(ch)\n",
    "        else:\n",
    "            digit.append(ch)\n",
    "    print (alpha)\n",
    "    print (digit)\n",
    "    test = ''.join(sorted(alpha) + sorted(digit))\n",
    "    print (test)\n",
    "\n",
    "sortStringWithNum(\"B4A1D3\")"
   ]
  },
  {
   "attachments": {},
   "cell_type": "markdown",
   "metadata": {},
   "source": [
    " ### Print occurance of char"
   ]
  },
  {
   "attachments": {},
   "cell_type": "markdown",
   "metadata": {},
   "source": [
    "    input: \n",
    "a4b3c4\n",
    "\n",
    "    output:\n",
    "aaaabbbcccc"
   ]
  },
  {
   "cell_type": "code",
   "execution_count": null,
   "metadata": {},
   "outputs": [],
   "source": [
    "def printChar(myString):\n",
    "    char = \"\"\n",
    "    output = \"\"\n",
    "    for ch in myString:\n",
    "        if ch.isalpha():\n",
    "            char= ch\n",
    "        else:\n",
    "            output+=int(ch)*char\n",
    "    print (output)\n",
    "\n",
    "printChar(\"a4b3c4\")\n"
   ]
  },
  {
   "attachments": {},
   "cell_type": "markdown",
   "metadata": {},
   "source": [
    "### Print occurance of char in sorted order"
   ]
  },
  {
   "attachments": {},
   "cell_type": "markdown",
   "metadata": {},
   "source": [
    "    input: \n",
    "a4z3c4\n",
    "\n",
    "    output: \n",
    "aaaacccczzz (Sorted)"
   ]
  },
  {
   "cell_type": "code",
   "execution_count": null,
   "metadata": {},
   "outputs": [],
   "source": [
    "def printCharSorted(myString):\n",
    "    char = \"\"\n",
    "    output = \"\"\n",
    "    for ch in myString:\n",
    "        if ch.isalpha():\n",
    "            char = ch\n",
    "        else:\n",
    "            output+=int(ch)*char\n",
    "    sorti = sorted(output)\n",
    "    print (''.join(sorti))\n",
    "\n",
    "printCharSorted(\"a4bz3c4\")"
   ]
  },
  {
   "attachments": {},
   "cell_type": "markdown",
   "metadata": {},
   "source": [
    "### Print char with number of occurance"
   ]
  },
  {
   "attachments": {},
   "cell_type": "markdown",
   "metadata": {},
   "source": [
    "    input: \n",
    "aaaabbbcccc\n",
    "\n",
    "    output: \n",
    "4a3b4c"
   ]
  },
  {
   "cell_type": "code",
   "execution_count": null,
   "metadata": {},
   "outputs": [],
   "source": [
    "def countChar(myString):\n",
    "    char = myString[0]\n",
    "    count = 0\n",
    "    output = \"\"\n",
    "    for ch in myString:\n",
    "        if ch == char:\n",
    "            count+=1\n",
    "        else:\n",
    "            output+=str(count)+char\n",
    "            count=1\n",
    "            char = ch\n",
    "    output+=str(count)+char\n",
    "    print (output)\n",
    "\n",
    "countChar(\"aaaabbbccccaaa\")"
   ]
  },
  {
   "attachments": {},
   "cell_type": "markdown",
   "metadata": {},
   "source": [
    "### Swap first two char of two string"
   ]
  },
  {
   "attachments": {},
   "cell_type": "markdown",
   "metadata": {},
   "source": [
    "Write a Python program to get a single string from two given strings, separated by a space and swap the first two characters of each string.<br>\n",
    "> Sample String : 'abc', 'xyz'\n",
    "\n",
    "> Expected Result : 'xyc abz'"
   ]
  },
  {
   "cell_type": "code",
   "execution_count": 3,
   "metadata": {},
   "outputs": [
    {
     "data": {
      "text/plain": [
       "[2, 3, 4]"
      ]
     },
     "execution_count": 3,
     "metadata": {},
     "output_type": "execute_result"
    }
   ],
   "source": [
    "[0,1,2,3,4][2:]"
   ]
  },
  {
   "cell_type": "code",
   "execution_count": 5,
   "metadata": {},
   "outputs": [
    {
     "name": "stdout",
     "output_type": "stream",
     "text": [
      "xyc abz\n"
     ]
    }
   ],
   "source": [
    "# Using Slice\n",
    "def swapFirst2Char(str1,str2):\n",
    "    return str2[:2]+str1[2:]+' '+str1[:2]+str2[2:]\n",
    "\n",
    "print(swapFirst2Char('abc','xyz'))\n",
    "# Expected Result : 'xyc abz'\n",
    "\n"
   ]
  },
  {
   "cell_type": "code",
   "execution_count": 12,
   "metadata": {},
   "outputs": [
    {
     "name": "stdout",
     "output_type": "stream",
     "text": [
      "xyc abz\n"
     ]
    }
   ],
   "source": [
    "def swapFirst2Char(str1,str2):\n",
    "    firstList = []\n",
    "    secondList = []\n",
    "    for i in range(len(str1)):\n",
    "        if(i == 0 or i == 1):\n",
    "            firstList.append(str2[i])\n",
    "            secondList.append(str1[i])\n",
    "        else:\n",
    "            firstList.append(str1[i])\n",
    "            secondList.append(str2[i])\n",
    "    firstList.append(\" \")\n",
    "    return ''.join(firstList+secondList)\n",
    "\n",
    "print(swapFirst2Char('abc','xyz'))\n",
    "# Expected Result : 'xyc abz'"
   ]
  },
  {
   "attachments": {},
   "cell_type": "markdown",
   "metadata": {},
   "source": []
  },
  {
   "attachments": {},
   "cell_type": "markdown",
   "metadata": {},
   "source": [
    "### Add - before each non vowel char"
   ]
  },
  {
   "attachments": {},
   "cell_type": "markdown",
   "metadata": {},
   "source": [
    "Write a Python program that takes a string and returns - on both sides of each element, which are not vowels.<br>\n",
    "> Sample Data:<br>\n",
    "    \"Green\" -> \"-G--r-ee-n-\" <br>\n",
    "    \"White\" -> \"-W--h-i-t-e\" <br>\n",
    "    \"aeiou\" -> \"aeiou\""
   ]
  },
  {
   "cell_type": "code",
   "execution_count": 4,
   "metadata": {},
   "outputs": [
    {
     "data": {
      "text/plain": [
       "'aeiou'"
      ]
     },
     "execution_count": 4,
     "metadata": {},
     "output_type": "execute_result"
    }
   ],
   "source": [
    "def addBeforeAndAfter(st):\n",
    "    vowels = ['a','e','i','o','u']\n",
    "    finalist = []\n",
    "    for i in st:\n",
    "        if i not in vowels:\n",
    "            finalist.append('-'+i+'-')\n",
    "        else:\n",
    "            finalist.append(i)\n",
    "    return ''.join(finalist)\n",
    "\n",
    "addBeforeAndAfter('Green')\n",
    "addBeforeAndAfter('White')\n",
    "addBeforeAndAfter('aeiou')\n"
   ]
  },
  {
   "attachments": {},
   "cell_type": "markdown",
   "metadata": {},
   "source": [
    "### Remove consecutive char and replace with space"
   ]
  },
  {
   "attachments": {},
   "cell_type": "markdown",
   "metadata": {},
   "source": [
    "Write a Python program to remove repeated consecutive characters and replace them with single letters and print a updated string.<br>\n",
    "> Sample Data:\n",
    " - (\"Red Green White\") -> \"Red Gren White\"\n",
    " - (\"aabbbcdeffff\") -> \"abcdef\"\n",
    " - (\"Yellowwooddoor\") -> \"Yelowodor\""
   ]
  },
  {
   "cell_type": "code",
   "execution_count": 9,
   "metadata": {},
   "outputs": [
    {
     "data": {
      "text/plain": [
       "'Red Gren White'"
      ]
     },
     "execution_count": 9,
     "metadata": {},
     "output_type": "execute_result"
    }
   ],
   "source": [
    "def replaceWithSpace(st):\n",
    "    result = []\n",
    "    for i in st:\n",
    "        if len(result) == 0 or result[-1] != i:\n",
    "            result.append(i)\n",
    "    \n",
    "    return ''.join(result)\n",
    "\n",
    "\n",
    "# replaceWithSpace('Green')\n",
    "replaceWithSpace('Red Green White')\n",
    "# replaceWithSpace('aabbbcdeffff')\n",
    "# replaceWithSpace('Yellowwooddoor')\n"
   ]
  },
  {
   "attachments": {},
   "cell_type": "markdown",
   "metadata": {},
   "source": []
  }
 ],
 "metadata": {
  "kernelspec": {
   "display_name": "Python 3",
   "language": "python",
   "name": "python3"
  },
  "language_info": {
   "codemirror_mode": {
    "name": "ipython",
    "version": 3
   },
   "file_extension": ".py",
   "mimetype": "text/x-python",
   "name": "python",
   "nbconvert_exporter": "python",
   "pygments_lexer": "ipython3",
   "version": "3.11.2"
  },
  "orig_nbformat": 4
 },
 "nbformat": 4,
 "nbformat_minor": 2
}
