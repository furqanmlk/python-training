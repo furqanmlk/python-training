{
 "cells": [
  {
   "attachments": {},
   "cell_type": "markdown",
   "metadata": {},
   "source": [
    "## Merge two strings\n",
    "> Merge two strings  char by char\n",
    "\n",
    "> __input:__ <br>\n",
    "s1='MIKE'<br>\n",
    "s2='TOM'\n",
    "\n",
    "> __output:__ <br>\n",
    "'MTIOKME'\n"
   ]
  },
  {
   "cell_type": "code",
   "execution_count": 5,
   "metadata": {},
   "outputs": [
    {
     "name": "stdout",
     "output_type": "stream",
     "text": [
      "MTIOKMEOP\n"
     ]
    }
   ],
   "source": [
    "s1 = 'MIKE'\n",
    "s2 = 'TOM'\n",
    "\n",
    "i=0\n",
    "j=0\n",
    "output=\"\"\n",
    "while (i < len(s1) or j < len(s2)):\n",
    "    if(i < len(s1)):\n",
    "        output += s1[i]\n",
    "        i+=1\n",
    "    if(j < len(s2)):\n",
    "        output += s2[j]\n",
    "        j+=1\n",
    "\n",
    "print(output)\n",
    "\n"
   ]
  },
  {
   "cell_type": "code",
   "execution_count": null,
   "metadata": {},
   "outputs": [],
   "source": [
    "def mergeStr(string1,string2):\n",
    "    output = \"\"\n",
    "    i=0\n",
    "    j=0\n",
    "    while (i < len(string1) or (j < len(string2))):\n",
    "        if(i<len(string1)):\n",
    "            output+=string1[i]\n",
    "            i+=1\n",
    "        if(j<len(string2)):\n",
    "            output+=string2[j]\n",
    "            j+=1\n",
    "\n",
    "\n",
    "    print (output)\n",
    "\n",
    "mergeStr(\"MIKE\",\"TOMEOPO\")"
   ]
  }
 ],
 "metadata": {
  "kernelspec": {
   "display_name": "Python 3",
   "language": "python",
   "name": "python3"
  },
  "language_info": {
   "codemirror_mode": {
    "name": "ipython",
    "version": 3
   },
   "file_extension": ".py",
   "mimetype": "text/x-python",
   "name": "python",
   "nbconvert_exporter": "python",
   "pygments_lexer": "ipython3",
   "version": "3.11.2"
  },
  "orig_nbformat": 4
 },
 "nbformat": 4,
 "nbformat_minor": 2
}
