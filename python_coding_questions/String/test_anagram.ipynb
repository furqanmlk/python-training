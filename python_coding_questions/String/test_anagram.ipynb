{
 "cells": [
  {
   "attachments": {},
   "cell_type": "markdown",
   "metadata": {},
   "source": [
    "### Test Anagram"
   ]
  },
  {
   "attachments": {},
   "cell_type": "markdown",
   "metadata": {},
   "source": [
    "\n",
    "intput: dog\n",
    "\n",
    "output: god\n"
   ]
  },
  {
   "cell_type": "code",
   "execution_count": null,
   "metadata": {},
   "outputs": [],
   "source": [
    "def anagram01(st1,st2): \n",
    "    \n",
    "    st1 = st1.replace(' ','').lower()\n",
    "    st2 = st2.replace(' ','').lower()\n",
    "\n",
    "    if(len(st1) != len(st2)):\n",
    "        return False\n",
    "\n",
    "    for c in st1:\n",
    "        if c not in st2:\n",
    "            return False\n",
    "    \n",
    "    for c in st2:\n",
    "        if c not in st1:\n",
    "            return False\n",
    "\n",
    "    return True\n",
    "\n",
    "\n",
    "def anagram02(st1,st2):\n",
    "\n",
    "    st1 = st1.replace(' ','').lower()\n",
    "    st2 = st2.replace(' ','').lower()\n",
    "\n",
    "    count = {}\n",
    "\n",
    "    for ch in st1:\n",
    "        # checking if each char in st1 exists in count\n",
    "        if ch in count:\n",
    "            count[ch] += 1 # ch is in count add 1\n",
    "        else:\n",
    "            count[ch] = 1 # ch is not in count assign 1\n",
    "        \n",
    "    # at this point count dict updated with occurrance of each char in st1\n",
    "\n",
    "    # now checking if all char in st2 exist in count dict with thier occurance \n",
    "    \n",
    "    for ch in st2:\n",
    "        if ch in count:\n",
    "            count[ch] -= 1\n",
    "        else:\n",
    "            return False\n",
    "    \n",
    "    for v in count.values():\n",
    "        if v != 0:\n",
    "            return False\n",
    "    \n",
    "    return True\n",
    "\n",
    "\n"
   ]
  },
  {
   "cell_type": "code",
   "execution_count": 3,
   "metadata": {},
   "outputs": [],
   "source": [
    "import unittest\n",
    "class TestAnagram(unittest.TestCase):\n",
    "\n",
    "    def test_anagram(self):\n",
    "        # self.assertFalse(anagram01(\"hello\",\"helgo\"),False)\n",
    "        self.assertTrue(anagram01('abc','cba'))\n",
    "        # self.assertFalse(anagram01('aabbcc','aabbc'))\n",
    "        # self.assertFalse(anagram01('123','1 2'))\n",
    "        # self.assertTrue(anagram01('go go go','gggooo'))\n",
    "        # self.assertTrue(anagram01('hi man','hi     man'))\n",
    "\n",
    "test = TestAnagram()\n",
    "test.test_anagram()"
   ]
  },
  {
   "cell_type": "code",
   "execution_count": null,
   "metadata": {},
   "outputs": [],
   "source": []
  }
 ],
 "metadata": {
  "kernelspec": {
   "display_name": "Python 3",
   "language": "python",
   "name": "python3"
  },
  "language_info": {
   "codemirror_mode": {
    "name": "ipython",
    "version": 3
   },
   "file_extension": ".py",
   "mimetype": "text/x-python",
   "name": "python",
   "nbconvert_exporter": "python",
   "pygments_lexer": "ipython3",
   "version": "3.11.2"
  },
  "orig_nbformat": 4
 },
 "nbformat": 4,
 "nbformat_minor": 2
}
