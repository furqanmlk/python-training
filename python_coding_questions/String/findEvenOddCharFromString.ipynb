{
 "cells": [
  {
   "attachments": {},
   "cell_type": "markdown",
   "metadata": {},
   "source": [
    "## Find even odd char in string"
   ]
  },
  {
   "cell_type": "code",
   "execution_count": null,
   "metadata": {},
   "outputs": [],
   "source": [
    "\"\"\"\n",
    "input: '0123456789'\n",
    "output: Even Char are 02468\n",
    "        Odd Char are 13579\n",
    "\"\"\"\n",
    "\n",
    "def findEvenOddChar(myString):\n",
    "    evenStr = [\"Even Char are\"]\n",
    "    oddStr = [\"Odd Char are\"]\n",
    "    for i in range(len(myString)):\n",
    "        if(i%2):\n",
    "            oddStr.append(myString[i])\n",
    "        else:\n",
    "            evenStr.append(myString[i])\n",
    "    print (evenStr)\n",
    "    print (oddStr)\n",
    "\n",
    "\n",
    "findEvenOddChar(\"0123456789\")\n"
   ]
  },
  {
   "cell_type": "code",
   "execution_count": 8,
   "metadata": {},
   "outputs": [
    {
     "name": "stdout",
     "output_type": "stream",
     "text": [
      "Even Num are 02468\n",
      "Odd Num are 13579\n"
     ]
    }
   ],
   "source": [
    "# List Comprehension\n",
    "def findEvenOddChar(myString):\n",
    "    evenNum = [num for num in myString if int(num)%2==0]\n",
    "    oddNum = [num for num in myString if int(num)%2!=0]\n",
    "    print(f\"Even Num are {''.join(evenNum)}\")\n",
    "    print(f\"Odd Num are {''.join(oddNum)}\")\n",
    "\n",
    "findEvenOddChar(\"0123456789\")"
   ]
  },
  {
   "cell_type": "code",
   "execution_count": null,
   "metadata": {},
   "outputs": [],
   "source": []
  }
 ],
 "metadata": {
  "kernelspec": {
   "display_name": "Python 3",
   "language": "python",
   "name": "python3"
  },
  "language_info": {
   "codemirror_mode": {
    "name": "ipython",
    "version": 3
   },
   "file_extension": ".py",
   "mimetype": "text/x-python",
   "name": "python",
   "nbconvert_exporter": "python",
   "pygments_lexer": "ipython3",
   "version": "3.11.2"
  },
  "orig_nbformat": 4
 },
 "nbformat": 4,
 "nbformat_minor": 2
}
