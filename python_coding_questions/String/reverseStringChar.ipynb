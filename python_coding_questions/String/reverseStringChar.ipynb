{
 "cells": [
  {
   "attachments": {},
   "cell_type": "markdown",
   "metadata": {},
   "source": [
    "## Reverse String char\n",
    "> __Input:__\n",
    "\"testing\"\n",
    "\n",
    "> __Output:__\n",
    "\"gnitset\""
   ]
  },
  {
   "cell_type": "code",
   "execution_count": null,
   "metadata": {},
   "outputs": [],
   "source": [
    "def revStringWithSlice(mystring):\n",
    "    return mystring[::-1]\n",
    "\n",
    "print(revStringWithSlice(\"testing\"))"
   ]
  },
  {
   "cell_type": "code",
   "execution_count": null,
   "metadata": {},
   "outputs": [],
   "source": [
    "def revStringBuiltin(mystring):\n",
    "    return \"\".join(reversed(mystring))\n",
    "\n",
    "print(revStringBuiltin(\"testing\"))\n"
   ]
  },
  {
   "cell_type": "code",
   "execution_count": null,
   "metadata": {},
   "outputs": [],
   "source": [
    "def revStrWhile(mystring): # Time complexity of this function is O(n*n)\n",
    "    output =\"\"\n",
    "    i = len(mystring)-1\n",
    "    while (i >= 0): # O(n)\n",
    "        output+=mystring[i] # This line O(n), Cos it's adding the whole string that we've created \n",
    "                            # character by character to create a new copy of output.\n",
    "        i-=1\n",
    "    return output\n",
    "\n",
    "print(revStrWhile(\"testing\"))\n"
   ]
  },
  {
   "cell_type": "code",
   "execution_count": null,
   "metadata": {},
   "outputs": [],
   "source": [
    "def revStr(mystring): # this is function also has O(n*n)\n",
    "    output = \"\"\n",
    "    for x in mystring: \n",
    "        output = x + output \n",
    "    return output\n",
    "\n",
    "print(revStr(\"testing\"))\n"
   ]
  },
  {
   "cell_type": "code",
   "execution_count": 1,
   "metadata": {},
   "outputs": [
    {
     "name": "stdout",
     "output_type": "stream",
     "text": [
      "dcba\n",
      "gnitset\n"
     ]
    }
   ],
   "source": [
    "def revStrWithArray(mystring): # this function has O(n)\n",
    "    output =[]\n",
    "    listlen = len(mystring)-1\n",
    "    while listlen >= 0:\n",
    "        output.append(mystring[listlen])\n",
    "        listlen-=1\n",
    "    return ''.join(output)\n",
    "\n",
    "print(revStrWithArray(\"abcd\"))"
   ]
  },
  {
   "cell_type": "code",
   "execution_count": null,
   "metadata": {},
   "outputs": [],
   "source": []
  }
 ],
 "metadata": {
  "kernelspec": {
   "display_name": "Python 3",
   "language": "python",
   "name": "python3"
  },
  "language_info": {
   "codemirror_mode": {
    "name": "ipython",
    "version": 3
   },
   "file_extension": ".py",
   "mimetype": "text/x-python",
   "name": "python",
   "nbconvert_exporter": "python",
   "pygments_lexer": "ipython3",
   "version": "3.11.2"
  },
  "orig_nbformat": 4
 },
 "nbformat": 4,
 "nbformat_minor": 2
}
