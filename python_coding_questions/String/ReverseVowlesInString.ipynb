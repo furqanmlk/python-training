{
 "cells": [
  {
   "attachments": {},
   "cell_type": "markdown",
   "metadata": {},
   "source": [
    "## Reverse Vowles in string\n",
    "> __Input:__ <br>\n",
    "\"hello\"\n",
    "\"leetcode\"\n",
    "\n",
    "> __Output:__ <br>\n",
    "\"holle\"\n",
    "\"leotcede\""
   ]
  },
  {
   "cell_type": "code",
   "execution_count": 10,
   "metadata": {},
   "outputs": [
    {
     "name": "stdout",
     "output_type": "stream",
     "text": [
      "holle\n",
      "leotcede\n"
     ]
    }
   ],
   "source": [
    "def reverseVowel(st1):\n",
    "    vowels = ['a','e','i','o','u']\n",
    "    strlist = list(st1)\n",
    "    i = 0\n",
    "    j = len(strlist) - 1\n",
    "    while(i != j):\n",
    "        if(strlist[i] not in vowels): # l1: h i=1, l2: e i=1\n",
    "            i+=1\n",
    "        \n",
    "        elif(strlist[j] not in vowels): # l1: o j=len(st), l2: o j=same\n",
    "            j-=1\n",
    "        else:\n",
    "            temp = strlist[i]\n",
    "            strlist[i] = strlist[j]\n",
    "            strlist[j] = temp\n",
    "            i+=1\n",
    "            j-=1\n",
    "\n",
    "    return \"\".join(strlist)\n",
    "\n",
    "print(reverseVowel('hello'))\n",
    "print(reverseVowel('leetcode'))\n"
   ]
  },
  {
   "cell_type": "code",
   "execution_count": null,
   "metadata": {},
   "outputs": [],
   "source": [
    "def reverseVowel(strr):\n",
    "    vowels = ['a','e','i','o','u']\n",
    "    strr = list(strr)\n",
    "    start = 0\n",
    "    end = len(strr)-1\n",
    "    while start < end:\n",
    "        if strr[start] not in vowels: # start from the left\n",
    "            start +=1 # it is not vowel go to next\n",
    "        elif strr[end] not in vowels:\n",
    "            end -=1 # it is not vowel go to next\n",
    "        else:\n",
    "            # start and end are are vowel, swap them\n",
    "            strr[start], strr[end] = strr[end], strr[start]\n",
    "            start +=1\n",
    "            end -=1\n",
    "\n",
    "reverseVowel(\"hello\") # \"holle\"\n",
    "reverseVowel(\"leetcode\") # \"leotcede\""
   ]
  }
 ],
 "metadata": {
  "kernelspec": {
   "display_name": "Python 3",
   "language": "python",
   "name": "python3"
  },
  "language_info": {
   "codemirror_mode": {
    "name": "ipython",
    "version": 3
   },
   "file_extension": ".py",
   "mimetype": "text/x-python",
   "name": "python",
   "nbconvert_exporter": "python",
   "pygments_lexer": "ipython3",
   "version": "3.11.2"
  },
  "orig_nbformat": 4
 },
 "nbformat": 4,
 "nbformat_minor": 2
}
