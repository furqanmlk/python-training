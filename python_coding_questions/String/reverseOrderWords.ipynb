{
 "cells": [
  {
   "attachments": {},
   "cell_type": "markdown",
   "metadata": {},
   "source": [
    "## Reverse Order of the words in the sentence\n",
    "> __input:__ \n",
    "\"This is Python\"\n",
    "\n",
    "> __output:__\n",
    "\"Python is This\""
   ]
  },
  {
   "cell_type": "code",
   "execution_count": 14,
   "metadata": {},
   "outputs": [
    {
     "name": "stdout",
     "output_type": "stream",
     "text": [
      "Python is This\n"
     ]
    }
   ],
   "source": [
    "input = \"This is Python\"\n",
    "\n",
    "i= len(input) - 1\n",
    "word = \"\"\n",
    "output = []\n",
    "while(i >= 0):\n",
    "    if(input[i] != \" \"):\n",
    "        word=input[i] + word\n",
    "        if(i==0): # if index has reached at last element, append now or while loop will be exit\n",
    "            output.append(word)\n",
    "        i-=1\n",
    "        \n",
    "    else:\n",
    "        output.append(word)\n",
    "        word = \"\"\n",
    "        i-=1\n",
    "print(' '.join(output))\n",
    "\n",
    "\n",
    "\n"
   ]
  },
  {
   "cell_type": "code",
   "execution_count": 11,
   "metadata": {},
   "outputs": [
    {
     "name": "stdout",
     "output_type": "stream",
     "text": [
      "learn for language good is Python \n"
     ]
    }
   ],
   "source": [
    "\n",
    "\n",
    "def revWordOrderWhile(mySentance):\n",
    "    splited = mySentance.split()\n",
    "    output = \"\"\n",
    "    i = len(splited)-1\n",
    "    while i>=0 :  \n",
    "        output+=splited[i] + \" \"\n",
    "        i-=1\n",
    "    return output\n",
    "\n",
    "def revWordOrderSlice(mySentance):\n",
    "    splitted = mySentance.split() # this will create list \n",
    "    output = ' '.join(splitted[::-1]) # reversing list and joiing element with space\n",
    "    return output\n",
    "\n",
    "print (revWordOrderWhile(\"Python is good language for learn\") )"
   ]
  },
  {
   "cell_type": "code",
   "execution_count": null,
   "metadata": {},
   "outputs": [],
   "source": []
  }
 ],
 "metadata": {
  "kernelspec": {
   "display_name": "Python 3",
   "language": "python",
   "name": "python3"
  },
  "language_info": {
   "codemirror_mode": {
    "name": "ipython",
    "version": 3
   },
   "file_extension": ".py",
   "mimetype": "text/x-python",
   "name": "python",
   "nbconvert_exporter": "python",
   "pygments_lexer": "ipython3",
   "version": "3.11.2"
  },
  "orig_nbformat": 4
 },
 "nbformat": 4,
 "nbformat_minor": 2
}
