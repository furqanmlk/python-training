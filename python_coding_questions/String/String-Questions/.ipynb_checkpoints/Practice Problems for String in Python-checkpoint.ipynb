{
 "cells": [
  {
   "attachments": {},
   "cell_type": "markdown",
   "metadata": {},
   "source": [
    "# Exercise Problems for String in Python!\n",
    "\n",
    "Keep in mind: String in Python is very similar to List in Python."
   ]
  },
  {
   "attachments": {},
   "cell_type": "markdown",
   "metadata": {},
   "source": [
    "### Problem 1: Initialize a new string, \"ABC\", and store it in a new variable called a_string."
   ]
  },
  {
   "cell_type": "code",
   "execution_count": null,
   "metadata": {
    "collapsed": false
   },
   "outputs": [],
   "source": [
    "# Write your solution below:\n",
    "\n",
    "a_string = \"ABC\"\n",
    "\n",
    "print(\"a_string is: \")\n",
    "print(a_string) # This should print ABC."
   ]
  },
  {
   "attachments": {},
   "cell_type": "markdown",
   "metadata": {},
   "source": [
    "### Problem 2: From the string called b_string, defined below, retrieve and print the second character."
   ]
  },
  {
   "cell_type": "code",
   "execution_count": null,
   "metadata": {
    "collapsed": false
   },
   "outputs": [],
   "source": [
    "b_string = \"DEF\"\n",
    "\n",
    "print(\"b_string's second character is: (should be E)\")\n",
    "# Write your solution below:\n",
    "\n",
    "print(b_string[1])"
   ]
  },
  {
   "attachments": {},
   "cell_type": "markdown",
   "metadata": {},
   "source": [
    "### Problem 3: Iterate over each character in c_string and print it using the \"for character in ...\" syntax."
   ]
  },
  {
   "cell_type": "code",
   "execution_count": null,
   "metadata": {
    "collapsed": false
   },
   "outputs": [],
   "source": [
    "c_string = \"GHI\"\n",
    "# Write your solution below:\n",
    "for e in c_string:\n",
    "    print(e)\n",
    "\n",
    "\n",
    "print(\"Your solution should have printed G, H, and I.\")"
   ]
  },
  {
   "attachments": {},
   "cell_type": "markdown",
   "metadata": {},
   "source": [
    "### Problem 4: Iterate over each character in d_string and print it using the \"for i in range(...)\" syntax."
   ]
  },
  {
   "cell_type": "code",
   "execution_count": null,
   "metadata": {
    "collapsed": false
   },
   "outputs": [],
   "source": [
    "d_string = \"PQR\"\n",
    "# Write your solution below:\n",
    "for e in range(len(d_string)):\n",
    "    print(d_string[e])\n",
    "\n",
    "\n",
    "print(\"Your solution should have printed P, Q, and R.\")"
   ]
  },
  {
   "attachments": {},
   "cell_type": "markdown",
   "metadata": {},
   "source": [
    "### Problem 5: Write a function that takes two strings and returns True if they are reverses of each other.\n",
    "\n",
    "For example, \"ABC\" and \"CBA\" are reverses of each other.  Assume that the two strings are not empty and have the same length."
   ]
  },
  {
   "cell_type": "code",
   "execution_count": null,
   "metadata": {
    "collapsed": true
   },
   "outputs": [],
   "source": [
    "# Modify the following function:\n",
    "\n",
    "def check_condition(string_1, string_2):\n",
    "    if len(string_1) != len(string_2):\n",
    "        return False\n",
    "    if string_1 == string_2:\n",
    "        return False\n",
    "    return True\n",
    "\n",
    "def are_reverses_01(string_1, string_2):\n",
    "    if check_condition(string_1,string_2) == False :\n",
    "        return False\n",
    "        \n",
    "    return string_1[:] == string_2[::-1]\n",
    "    \n",
    "def are_reverses_02(string_1, string_2):\n",
    "    if check_condition(string_1,string_2) == False :\n",
    "        return False\n",
    "    \n",
    "    newStr = \"\"\n",
    "    for e in range(len(string_1)-1, -1, -1): #range([start], stop, [step])\n",
    "        newStr += string_1[e]\n",
    "\n",
    "    return newStr == string_2\n",
    "\n",
    "def are_reverses(string_1, string_2):\n",
    "    if check_condition(string_1,string_2) == False :\n",
    "        return False\n",
    "    \n",
    "    for e in range(len(string_1)):\n",
    "        e2 = len(string_2) -e -1\n",
    "        if string_1[e] != string_2[e2]:\n",
    "            return False\n",
    "    \n",
    "    return True\n",
    "\n"
   ]
  },
  {
   "attachments": {},
   "cell_type": "markdown",
   "metadata": {},
   "source": [
    "### Use the code below to test your function."
   ]
  },
  {
   "cell_type": "code",
   "execution_count": null,
   "metadata": {
    "collapsed": false
   },
   "outputs": [],
   "source": [
    "print('Are \"ABC\" and \"CBA\" reverses of each other? (Should be True.)')\n",
    "are_reverses(\"ABC\", \"CBA\")"
   ]
  },
  {
   "cell_type": "code",
   "execution_count": null,
   "metadata": {
    "collapsed": false
   },
   "outputs": [],
   "source": [
    "print('Are \"CBA\" and \"AAA\" reverses of each other? (Should be False.)')\n",
    "are_reverses(\"CBA\", \"AAA\")"
   ]
  },
  {
   "cell_type": "code",
   "execution_count": null,
   "metadata": {
    "collapsed": true
   },
   "outputs": [],
   "source": [
    "print(\"Should pring False\")\n",
    "are_reverses(\"abcd\",\"abc\")"
   ]
  },
  {
   "cell_type": "code",
   "execution_count": null,
   "metadata": {},
   "outputs": [],
   "source": [
    "print(\"Should pring False\")\n",
    "are_reverses(\"abc\",\"abc\")"
   ]
  },
  {
   "cell_type": "code",
   "execution_count": null,
   "metadata": {},
   "outputs": [],
   "source": []
  }
 ],
 "metadata": {
  "anaconda-cloud": {},
  "kernelspec": {
   "display_name": "Python 3",
   "language": "python",
   "name": "python3"
  },
  "language_info": {
   "codemirror_mode": {
    "name": "ipython",
    "version": 3
   },
   "file_extension": ".py",
   "mimetype": "text/x-python",
   "name": "python",
   "nbconvert_exporter": "python",
   "pygments_lexer": "ipython3",
   "version": "3.11.2"
  }
 },
 "nbformat": 4,
 "nbformat_minor": 1
}
