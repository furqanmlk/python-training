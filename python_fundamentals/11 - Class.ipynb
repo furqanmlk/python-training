{
 "cells": [
  {
   "attachments": {},
   "cell_type": "markdown",
   "id": "a34c27ca",
   "metadata": {},
   "source": [
    "## Class"
   ]
  },
  {
   "cell_type": "code",
   "execution_count": 1,
   "id": "5bafc8b3",
   "metadata": {},
   "outputs": [],
   "source": [
    "## Creating a custom Student class\n",
    "# We can create a class using the class keyword\n",
    "class Student:\n",
    "    pass\n",
    "\n",
    "# We can create instances of the class, or instances\n",
    "# of student objects basically by calling the class name followed\n",
    "# by () like below:\n",
    "mashrur = Student()\n",
    "john = Student()\n",
    "\n",
    "# Note above mashrur and john are separate instances of students\n",
    "# They are not the same object even though are both type student"
   ]
  },
  {
   "cell_type": "code",
   "execution_count": 2,
   "id": "23d03e52",
   "metadata": {},
   "outputs": [
    {
     "name": "stdout",
     "output_type": "stream",
     "text": [
      "mashrur hossain\n",
      "john doe\n"
     ]
    }
   ],
   "source": [
    "# You can add attributes to your objects like below, \n",
    "# note: We have not added attributes in class yet, but it will create\n",
    "mashrur.first_name = 'mashrur'\n",
    "mashrur.last_name = 'hossain'\n",
    "john.first_name = 'john'\n",
    "john.last_name = 'doe'\n",
    "\n",
    "# You can access the attributes associated with each student object\n",
    "print(mashrur.first_name, mashrur.last_name)\n",
    "print(john.first_name, john.last_name)"
   ]
  },
  {
   "attachments": {},
   "cell_type": "markdown",
   "id": "9254338c",
   "metadata": {},
   "source": [
    "### Instance Attributes"
   ]
  },
  {
   "cell_type": "code",
   "execution_count": null,
   "id": "8b35105c",
   "metadata": {},
   "outputs": [],
   "source": [
    "# You can use the special __init__() method to assign the attributes\n",
    "# when the instance of the object is created. It takes in a default\n",
    "# first argument which is called self by convention in python, self\n",
    "# is the object being created itself, followed by any other\n",
    "# attributes you wish to initialize. We modified the class like below:\n",
    "\n",
    "class Student:\n",
    "\n",
    "    def __init__(self, first, last, courses=None):\n",
    "        self.first_name = first\n",
    "        self.last_name = last\n",
    "        if courses == None:\n",
    "            self.courses = []\n",
    "        else:\n",
    "            self.courses = courses\n",
    "\n",
    "courses_1 = ['python','rails','javascript']\n",
    "courses_2 = ['java','rails','c']\n",
    "mashrur = Student('mashrur','hossain',courses_1)\n",
    "john = Student('john','doe',courses_2)\n",
    "print(mashrur.first_name, mashrur.last_name, mashrur.courses)\n",
    "print(john.first_name, john.last_name, john.courses)"
   ]
  },
  {
   "cell_type": "code",
   "execution_count": 3,
   "id": "fd097c8c",
   "metadata": {},
   "outputs": [
    {
     "name": "stdout",
     "output_type": "stream",
     "text": [
      "Rover\n",
      "4\n"
     ]
    }
   ],
   "source": [
    "class Dog:\n",
    "    def __init__(self, name):\n",
    "        self.name = name\n",
    "        self.legs = 4\n",
    "    \n",
    "    def speak(self):\n",
    "        print(self.name + ' says: Bark!')\n",
    "\n",
    "myDog = Dog('Rover')\n",
    "print(myDog.name) # Output: Rover\n",
    "print(myDog.legs) # Output: 4"
   ]
  },
  {
   "cell_type": "code",
   "execution_count": 2,
   "id": "3abfa4a3",
   "metadata": {},
   "outputs": [
    {
     "ename": "AttributeError",
     "evalue": "type object 'Dog' has no attribute 'legs'",
     "output_type": "error",
     "traceback": [
      "\u001b[0;31m---------------------------------------------------------------------------\u001b[0m",
      "\u001b[0;31mAttributeError\u001b[0m                            Traceback (most recent call last)",
      "Input \u001b[0;32mIn [2]\u001b[0m, in \u001b[0;36m<module>\u001b[0;34m\u001b[0m\n\u001b[0;32m----> 1\u001b[0m \u001b[43mDog\u001b[49m\u001b[38;5;241;43m.\u001b[39;49m\u001b[43mlegs\u001b[49m\n",
      "\u001b[0;31mAttributeError\u001b[0m: type object 'Dog' has no attribute 'legs'"
     ]
    }
   ],
   "source": [
    "# Any arrtibute in __init__ method are instance attribute\n",
    "# instace attribute can only be called by instance\n",
    "\n",
    "Dog.legs # AttributeError: type object 'Dog' has no attribute 'legs'"
   ]
  },
  {
   "attachments": {},
   "cell_type": "markdown",
   "id": "910762e2",
   "metadata": {},
   "source": [
    "### Static Attributes"
   ]
  },
  {
   "cell_type": "code",
   "execution_count": 3,
   "id": "d99d3ce6",
   "metadata": {},
   "outputs": [
    {
     "name": "stdout",
     "output_type": "stream",
     "text": [
      "Rover\n",
      "4\n"
     ]
    }
   ],
   "source": [
    "class Dog:\n",
    "    legs = 4\n",
    "    def __init__(self, name):\n",
    "        self.name = name\n",
    "    \n",
    "    def speak(self):\n",
    "        print(self.name + ' says: Bark!')\n",
    "\n",
    "myDog = Dog('Rover')\n",
    "print(myDog.name)\n",
    "print(myDog.legs)"
   ]
  },
  {
   "cell_type": "code",
   "execution_count": 4,
   "id": "10d39f55",
   "metadata": {},
   "outputs": [
    {
     "data": {
      "text/plain": [
       "4"
      ]
     },
     "execution_count": 4,
     "metadata": {},
     "output_type": "execute_result"
    }
   ],
   "source": [
    "Dog.legs"
   ]
  },
  {
   "cell_type": "code",
   "execution_count": 5,
   "id": "6c0e3e22",
   "metadata": {},
   "outputs": [],
   "source": [
    "Dog.legs = 3"
   ]
  },
  {
   "cell_type": "code",
   "execution_count": 6,
   "id": "c6358449",
   "metadata": {},
   "outputs": [
    {
     "name": "stdout",
     "output_type": "stream",
     "text": [
      "Rover\n",
      "3\n"
     ]
    }
   ],
   "source": [
    "myDog = Dog('Rover')\n",
    "print(myDog.name)\n",
    "print(myDog.legs)"
   ]
  },
  {
   "cell_type": "code",
   "execution_count": 11,
   "id": "f242ba14",
   "metadata": {},
   "outputs": [
    {
     "name": "stdout",
     "output_type": "stream",
     "text": [
      "Rover\n",
      "4\n"
     ]
    }
   ],
   "source": [
    "class Dog:\n",
    "    _legs = 4\n",
    "    def __init__(self, name):\n",
    "        self.name = name\n",
    "        \n",
    "    def getLegs(self):\n",
    "        return self._legs\n",
    "    \n",
    "    def speak(self):\n",
    "        print(self.name + ' says: Bark!')\n",
    "\n",
    "myDog = Dog('Rover')\n",
    "print(myDog.name)\n",
    "print(myDog.getLegs())"
   ]
  },
  {
   "cell_type": "code",
   "execution_count": 12,
   "id": "b914c567",
   "metadata": {},
   "outputs": [
    {
     "name": "stdout",
     "output_type": "stream",
     "text": [
      "Rover\n",
      "3\n",
      "4\n"
     ]
    }
   ],
   "source": [
    "myDog = Dog('Rover')\n",
    "myDog._legs = 3\n",
    "print(myDog.name)\n",
    "print(myDog.getLegs())\n",
    "print(Dog._legs)"
   ]
  },
  {
   "attachments": {},
   "cell_type": "markdown",
   "id": "1e44aedb",
   "metadata": {},
   "source": [
    "### Adding Methods to Class"
   ]
  },
  {
   "cell_type": "code",
   "execution_count": null,
   "id": "e7eb5e63",
   "metadata": {},
   "outputs": [],
   "source": [
    "## Adding methods to the student class\n",
    "\n",
    "# The add and remove course methods were added to the class\n",
    "# Plase see execution code to the bottom for demo purposes\n",
    "\n",
    "class Student:\n",
    "\n",
    "    def __init__(self, first, last, courses=None):\n",
    "        self.first_name = first\n",
    "        self.last_name = last\n",
    "        if courses == None:\n",
    "            self.courses = []\n",
    "        else:\n",
    "            self.courses = courses\n",
    "\n",
    "    def add_course(self, course):\n",
    "        if course not in self.courses:\n",
    "            self.courses.append(course)\n",
    "        else:\n",
    "            print(f\"{self.first_name} is already \\\n",
    "enrolled in the {course} course\")\n",
    "\n",
    "    def remove_course(self, course):\n",
    "        if course in self.courses:\n",
    "            self.courses.remove(course)\n",
    "        else:\n",
    "            print(f\"{course} not found\")\n",
    "\n",
    "courses_1 = ['python','rails','javascript']\n",
    "courses_2 = ['java','rails','c']\n",
    "mashrur = Student('mashrur','hossain',courses_1)\n",
    "john = Student('john','doe',courses_2)\n",
    "print(mashrur.first_name, mashrur.last_name, mashrur.courses)\n",
    "print(john.first_name, john.last_name, john.courses)\n",
    "print(\"Courses added to students\")\n",
    "\n",
    "mashrur.add_course('c')\n",
    "john.add_course('c++')\n",
    "print(mashrur.first_name, mashrur.last_name, mashrur.courses)\n",
    "print(john.first_name, john.last_name, john.courses)\n",
    "print(\"Courses removed from students\")\n",
    "\n",
    "mashrur.remove_course('rails')\n",
    "john.remove_course('java')\n",
    "print(mashrur.first_name, mashrur.last_name, mashrur.courses)\n",
    "print(john.first_name, john.last_name, john.courses)\n"
   ]
  },
  {
   "attachments": {},
   "cell_type": "markdown",
   "id": "dd50a14e",
   "metadata": {},
   "source": [
    "### Add Special Methods to Call\n",
    "\n",
    "> The __str__ and __repr__ methods are special methods used to provide string representations of objects.<br>\n",
    "These methods allow you to define how an object should be displayed as a string when using built-in functions like str() or print(). They serve different purposes:\n",
    "\n",
    "__str__ method: This method is used to return a human-readable string representation of the object. It is typically used for displaying the object to end-users.\n",
    "\n",
    "__repr__ method: This method is used to return a string representation that is primarily meant for developers and debugging purposes. It should ideally be unambiguous and contain all the information required to recreate the object."
   ]
  },
  {
   "cell_type": "code",
   "execution_count": null,
   "id": "3a495f27",
   "metadata": {},
   "outputs": [],
   "source": [
    "class Point:\n",
    "    def __init__(self, x, y):\n",
    "        self.x = x\n",
    "        self.y = y\n",
    "\n",
    "    def __str__(self):\n",
    "        return f\"Point({self.x}, {self.y})\"\n",
    "\n",
    "    def __repr__(self):\n",
    "        return f\"Point(x={self.x}, y={self.y})\"\n",
    "\n",
    "# Create an instance of the Point class\n",
    "p = Point(3, 4)\n",
    "\n",
    "# Print the object using str()\n",
    "print(str(p))\n",
    "# Output: Point(3, 4)\n",
    "\n",
    "# Print the object using repr()\n",
    "print(repr(p))\n",
    "# Output: Point(x=3, y=4)\n"
   ]
  },
  {
   "attachments": {},
   "cell_type": "markdown",
   "id": "0fa275e8",
   "metadata": {},
   "source": [
    "## Adding Read Write Function to Student Class\n",
    "> __[Read Write to File](files/python_fundamentals/12 - read-write-files.ipynb)__"
   ]
  },
  {
   "attachments": {},
   "cell_type": "markdown",
   "id": "7027159d",
   "metadata": {},
   "source": []
  }
 ],
 "metadata": {
  "kernelspec": {
   "display_name": "Python 3 (ipykernel)",
   "language": "python",
   "name": "python3"
  },
  "language_info": {
   "codemirror_mode": {
    "name": "ipython",
    "version": 3
   },
   "file_extension": ".py",
   "mimetype": "text/x-python",
   "name": "python",
   "nbconvert_exporter": "python",
   "pygments_lexer": "ipython3",
   "version": "3.10.11"
  }
 },
 "nbformat": 4,
 "nbformat_minor": 5
}
