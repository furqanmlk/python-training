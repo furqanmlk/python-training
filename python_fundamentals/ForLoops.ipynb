{
 "cells": [
  {
   "attachments": {},
   "cell_type": "markdown",
   "id": "6e97b9bf",
   "metadata": {},
   "source": [
    "## For"
   ]
  },
  {
   "cell_type": "code",
   "execution_count": 1,
   "id": "b4e0e4c3",
   "metadata": {},
   "outputs": [
    {
     "name": "stdout",
     "output_type": "stream",
     "text": [
      "Sum using list: 63\n"
     ]
    }
   ],
   "source": [
    "# For loops for iterating through iterables\n",
    "\n",
    "# For the list defined below, we explored two ways of iterating\n",
    "# through the list and calculating the sum of all elements in it\n",
    "l = [6, 8, 1, 4, 10, 7, 8, 9, 3, 2, 5]\n",
    "\n",
    "sum = 0\n",
    "for num in l:\n",
    "    sum += num\n",
    "print(f\"Sum using list: {sum}\")"
   ]
  },
  {
   "cell_type": "code",
   "execution_count": 2,
   "id": "138c00cc",
   "metadata": {},
   "outputs": [
    {
     "name": "stdout",
     "output_type": "stream",
     "text": [
      "Sum using range generator: 63\n"
     ]
    }
   ],
   "source": [
    "# Same calculation done using range generator, which gives us an iterable\n",
    "sum = 0\n",
    "for num in range(len(l)):\n",
    "    sum += l[num]\n",
    "print(f\"Sum using range generator: {sum}\")"
   ]
  },
  {
   "cell_type": "code",
   "execution_count": null,
   "id": "83acc43e",
   "metadata": {},
   "outputs": [],
   "source": [
    "# Range is very useful if you don't know ahead of time how many times\n",
    "# you want an iteration in a for loop to take place, example below\n",
    "# with an input received from the user\n",
    "run_times = int(input(\"How many times do you want the program to run? \"))\n",
    "for num in range(run_times):\n",
    "    print(f\"Run: {num+1}\")"
   ]
  },
  {
   "cell_type": "code",
   "execution_count": 3,
   "id": "5f28d4e3",
   "metadata": {},
   "outputs": [
    {
     "name": "stdout",
     "output_type": "stream",
     "text": [
      "[10, 13, 67, 70, 46, 11, 86, 16, 40, 3, 63, 83, 7, 59, 94, 17, 58, 14, 94, 51, 20, 40, 76, 15, 75]\n",
      "25\n"
     ]
    }
   ],
   "source": [
    "# You can generate a list of random integers using the range function\n",
    "# in combination with the randint function from the random module\n",
    "from random import randint\n",
    "l1 = []\n",
    "for num in range(25):\n",
    "    l1.append(randint(1, 100))\n",
    "print(l1)\n",
    "print(len(l1)) # Checking the number of integers generated"
   ]
  },
  {
   "attachments": {},
   "cell_type": "markdown",
   "id": "5e878a67",
   "metadata": {},
   "source": [
    "### List comprehension with For Loop"
   ]
  },
  {
   "cell_type": "code",
   "execution_count": 4,
   "id": "e36e7b4f",
   "metadata": {},
   "outputs": [
    {
     "name": "stdout",
     "output_type": "stream",
     "text": [
      "[72, 96, 62, 94, 38, 98, 52, 73, 34, 30, 84, 34, 23, 69, 95, 71, 91, 100, 57, 90, 94, 30, 29, 25, 82]\n",
      "25\n"
     ]
    }
   ],
   "source": [
    "# You can do the same using list comprehension in 1 line below\n",
    "l1 = [randint(1,100) for num in range(25)]\n",
    "print(l1)\n",
    "print(len(l1)) # Checking the number of integers generated"
   ]
  },
  {
   "cell_type": "code",
   "execution_count": 7,
   "id": "c72b7916",
   "metadata": {},
   "outputs": [
    {
     "name": "stdout",
     "output_type": "stream",
     "text": [
      "[2, 4, 6, 8, 10]\n"
     ]
    }
   ],
   "source": [
    "print(list(range(2,11,2)))"
   ]
  },
  {
   "cell_type": "code",
   "execution_count": 5,
   "id": "e8726684",
   "metadata": {},
   "outputs": [
    {
     "name": "stdout",
     "output_type": "stream",
     "text": [
      "Extension of .py means it's a python program\n",
      "Extension of .rb means it's a ruby program\n",
      "Extension of .js means it's a javascript program\n"
     ]
    }
   ],
   "source": [
    "# You can use the items method to get an iterable from a dictionary\n",
    "# then you can iterate through the tuples of key value pairs that\n",
    "# this provides to print them out, or use them in other ways\n",
    "\n",
    "my_dict = {'py': 'python', 'rb': 'ruby', 'js': 'javascript'}\n",
    "for k, v in my_dict.items():\n",
    "    print(f\"Extension of .{k} means it's a {v} program\")\n"
   ]
  },
  {
   "cell_type": "code",
   "execution_count": 6,
   "id": "5d4b6b1b",
   "metadata": {},
   "outputs": [
    {
     "name": "stdout",
     "output_type": "stream",
     "text": [
      "1\n",
      "2\n",
      "3\n",
      "4\n"
     ]
    }
   ],
   "source": [
    "myList = [1,2,3,4]\n",
    "for item in myList:\n",
    "    print(item)"
   ]
  },
  {
   "attachments": {},
   "cell_type": "markdown",
   "id": "905ce61c",
   "metadata": {},
   "source": [
    "### Pass"
   ]
  },
  {
   "cell_type": "code",
   "execution_count": 2,
   "id": "190c632c",
   "metadata": {},
   "outputs": [],
   "source": [
    "animalLookup = {\n",
    "    'a': ['aardvark', 'antelope'],\n",
    "    'b': ['bear'],\n",
    "    'c': ['cat'],\n",
    "    'd': ['dog'],\n",
    "}\n",
    "\n",
    "for letter, animals in animalLookup.items():\n",
    "    pass\n"
   ]
  },
  {
   "attachments": {},
   "cell_type": "markdown",
   "id": "aa2e7a59",
   "metadata": {},
   "source": [
    "### Continue"
   ]
  },
  {
   "cell_type": "code",
   "execution_count": 5,
   "id": "9bae4823",
   "metadata": {},
   "outputs": [
    {
     "name": "stdout",
     "output_type": "stream",
     "text": [
      "Only one animal! aardvark\n",
      "Only one animal! bear\n",
      "Only one animal! cat\n",
      "Only one animal! dog\n"
     ]
    }
   ],
   "source": [
    "for letter, animals in animalLookup.items():\n",
    "    if len(animals) > 1:\n",
    "        continue\n",
    "    print(f'Only one animal! {animals[0]}')"
   ]
  },
  {
   "attachments": {},
   "cell_type": "markdown",
   "id": "d6d0ce9c",
   "metadata": {},
   "source": [
    "### Break"
   ]
  },
  {
   "cell_type": "code",
   "execution_count": 9,
   "id": "725b3e12",
   "metadata": {},
   "outputs": [
    {
     "name": "stdout",
     "output_type": "stream",
     "text": [
      "Found 2 animals: ['aardvark', 'antelope']\n"
     ]
    }
   ],
   "source": [
    "for letter, animals in animalLookup.items():\n",
    "    if len(animals) > 1:\n",
    "        print(f'Found {len(animals)} animals: {animals}')\n",
    "        break"
   ]
  },
  {
   "attachments": {},
   "cell_type": "markdown",
   "id": "b48d42fc",
   "metadata": {},
   "source": [
    "### For / Else"
   ]
  },
  {
   "cell_type": "code",
   "execution_count": 10,
   "id": "4d74a187",
   "metadata": {},
   "outputs": [
    {
     "name": "stdout",
     "output_type": "stream",
     "text": [
      "2 is prime!\n",
      "3 is prime!\n",
      "5 is prime!\n",
      "7 is prime!\n",
      "11 is prime!\n",
      "13 is prime!\n",
      "17 is prime!\n",
      "19 is prime!\n",
      "23 is prime!\n",
      "29 is prime!\n",
      "31 is prime!\n",
      "37 is prime!\n",
      "41 is prime!\n",
      "43 is prime!\n",
      "47 is prime!\n",
      "53 is prime!\n",
      "59 is prime!\n",
      "61 is prime!\n",
      "67 is prime!\n",
      "71 is prime!\n",
      "73 is prime!\n",
      "79 is prime!\n",
      "83 is prime!\n",
      "89 is prime!\n",
      "97 is prime!\n"
     ]
    }
   ],
   "source": [
    "for number in range(2, 100):\n",
    "    for factor in range(2, int(number ** 0.5) + 1):\n",
    "        if number % factor == 0:\n",
    "            break\n",
    "    else:\n",
    "        print(f'{number} is prime!')\n",
    "        "
   ]
  },
  {
   "cell_type": "code",
   "execution_count": 11,
   "id": "92996fbd",
   "metadata": {},
   "outputs": [
    {
     "name": "stdout",
     "output_type": "stream",
     "text": [
      "2 is prime!\n",
      "3 is prime!\n",
      "4 is prime!\n",
      "5 is prime!\n",
      "6 is prime!\n",
      "7 is prime!\n",
      "8 is prime!\n",
      "9 is prime!\n",
      "10 is prime!\n",
      "11 is prime!\n",
      "12 is prime!\n",
      "13 is prime!\n",
      "14 is prime!\n",
      "15 is prime!\n",
      "16 is prime!\n",
      "17 is prime!\n",
      "18 is prime!\n",
      "19 is prime!\n",
      "20 is prime!\n",
      "21 is prime!\n",
      "22 is prime!\n",
      "23 is prime!\n",
      "24 is prime!\n",
      "25 is prime!\n",
      "26 is prime!\n",
      "27 is prime!\n",
      "28 is prime!\n",
      "29 is prime!\n",
      "30 is prime!\n",
      "31 is prime!\n",
      "32 is prime!\n",
      "33 is prime!\n",
      "34 is prime!\n",
      "35 is prime!\n",
      "36 is prime!\n",
      "37 is prime!\n",
      "38 is prime!\n",
      "39 is prime!\n",
      "40 is prime!\n",
      "41 is prime!\n",
      "42 is prime!\n",
      "43 is prime!\n",
      "44 is prime!\n",
      "45 is prime!\n",
      "46 is prime!\n",
      "47 is prime!\n",
      "48 is prime!\n",
      "49 is prime!\n",
      "50 is prime!\n",
      "51 is prime!\n",
      "52 is prime!\n",
      "53 is prime!\n",
      "54 is prime!\n",
      "55 is prime!\n",
      "56 is prime!\n",
      "57 is prime!\n",
      "58 is prime!\n",
      "59 is prime!\n",
      "60 is prime!\n",
      "61 is prime!\n",
      "62 is prime!\n",
      "63 is prime!\n",
      "64 is prime!\n",
      "65 is prime!\n",
      "66 is prime!\n",
      "67 is prime!\n",
      "68 is prime!\n",
      "69 is prime!\n",
      "70 is prime!\n",
      "71 is prime!\n",
      "72 is prime!\n",
      "73 is prime!\n",
      "74 is prime!\n",
      "75 is prime!\n",
      "76 is prime!\n",
      "77 is prime!\n",
      "78 is prime!\n",
      "79 is prime!\n",
      "80 is prime!\n",
      "81 is prime!\n",
      "82 is prime!\n",
      "83 is prime!\n",
      "84 is prime!\n",
      "85 is prime!\n",
      "86 is prime!\n",
      "87 is prime!\n",
      "88 is prime!\n",
      "89 is prime!\n",
      "90 is prime!\n",
      "91 is prime!\n",
      "92 is prime!\n",
      "93 is prime!\n",
      "94 is prime!\n",
      "95 is prime!\n",
      "96 is prime!\n",
      "97 is prime!\n",
      "98 is prime!\n",
      "99 is prime!\n"
     ]
    }
   ],
   "source": [
    "for number in range(2, 100):\n",
    "    found_factors = False\n",
    "    for factor in range(2, int(number ** 0.5) + 1):\n",
    "        if number % factor == 0:\n",
    "            found_factor = True\n",
    "    if not found_factors:\n",
    "        print(f'{number} is prime!')\n",
    "        "
   ]
  },
  {
   "attachments": {},
   "cell_type": "markdown",
   "id": "ce608bb6",
   "metadata": {},
   "source": [
    "## Questions"
   ]
  },
  {
   "cell_type": "code",
   "execution_count": null,
   "id": "d4d6923b",
   "metadata": {},
   "outputs": [],
   "source": [
    "'''\n",
    "Question 1: \n",
    "Use list comprehension to update the code below and\n",
    "assign my_list to be a list of 200 random integers ranging in values\n",
    "between 25 and 500. Hint: Use the randint function\n",
    "'''\n",
    "my_list = [1,2,3,4,5] # replace the code to the left"
   ]
  },
  {
   "cell_type": "code",
   "execution_count": 24,
   "id": "02ea39de",
   "metadata": {},
   "outputs": [],
   "source": [
    "'''\n",
    "Solution 1: \n",
    "Use list comprehension to update the code below and\n",
    "assign my_list to be a list of 200 random integers ranging in values\n",
    "between 25 and 500. Hint: Use the randint function\n",
    "'''\n",
    "from random import randint\n",
    "my_list = [randint(25,500)for i in range(200)] # replace the code to the left"
   ]
  },
  {
   "cell_type": "code",
   "execution_count": null,
   "id": "ed1b421b",
   "metadata": {},
   "outputs": [],
   "source": [
    "'''\n",
    "Question 2 (4 parts): \n",
    "Cast my_list to a set and re-assign to my_list as a list.\n",
    "How many duplicate values were removed?\n",
    "'''\n",
    "initial_size = \"CODE HERE\" # replace the code to the left (len of my_list)\n",
    "print(f\"Initial size of my_list: {initial_size}\")\n",
    "\n",
    "# cast the list to a set to remove duplicates and re-assign to my_list as a list\n",
    "my_list = my_list # replace the code to the left\n",
    "\n",
    "final_size = 5 # replace the code to the left (len of my_list)\n",
    "print(f\"Final size of my_list after removing duplicates: {final_size}\")\n",
    "dups_removed = \"CODE HERE\" # replace the code to the left ( difference of init size and final)\n",
    "print(f\"Number of integers removed: {dups_removed}\")\n",
    "print('-'*40)\n",
    "print()\n",
    "\n"
   ]
  },
  {
   "cell_type": "code",
   "execution_count": 26,
   "id": "997bbebd",
   "metadata": {},
   "outputs": [
    {
     "name": "stdout",
     "output_type": "stream",
     "text": [
      "Initial size of my_list: 159\n",
      "Final size of my_list after removing duplicates: 159\n",
      "Number of integers removed: 0\n",
      "----------------------------------------\n",
      "\n"
     ]
    }
   ],
   "source": [
    "'''\n",
    "Solution 2 (4 parts): \n",
    "Cast my_list to a set and re-assign to my_list as a list.\n",
    "How many duplicate values were removed?\n",
    "'''\n",
    "initial_size = len(my_list) # replace the code to the left\n",
    "print(f\"Initial size of my_list: {initial_size}\")\n",
    "\n",
    "# cast the list to a set to remove duplicates and re-assign to my_list as a list\n",
    "my_list = list(set(my_list)) # replace the code to the left\n",
    "final_size = len(my_list) # replace the code to the left\n",
    "print(f\"Final size of my_list after removing duplicates: {final_size}\")\n",
    "\n",
    "dups_removed = initial_size - final_size # replace the code to the left\n",
    "print(f\"Number of integers removed: {dups_removed}\")\n",
    "print('-'*40)\n",
    "print()\n"
   ]
  },
  {
   "cell_type": "code",
   "execution_count": 28,
   "id": "33f0f082",
   "metadata": {},
   "outputs": [
    {
     "name": "stdout",
     "output_type": "stream",
     "text": [
      "Largest integer in my_list: 498\n",
      "----------------------------------------\n",
      "\n"
     ]
    }
   ],
   "source": [
    "'''\n",
    "Question 3: \n",
    "What is the largest integer in my_list?\n",
    "''' \n",
    "largest_val = \"CODE HERE\" # replace the code to the left\n",
    "print(f\"Largest integer in my_list: {largest_val}\")\n",
    "print('-'*40)\n",
    "print()"
   ]
  },
  {
   "cell_type": "code",
   "execution_count": null,
   "id": "3dc5b8fd",
   "metadata": {},
   "outputs": [
    {
     "name": "stdout",
     "output_type": "stream",
     "text": [
      "Largest integer in my_list: 498\n",
      "----------------------------------------\n",
      "\n"
     ]
    }
   ],
   "source": [
    "'''\n",
    "Solution 3: \n",
    "What is the largest integer in my_list?\n",
    "''' \n",
    "largest_val = max(my_list) # replace the code to the left\n",
    "print(f\"Largest integer in my_list: {largest_val}\")\n",
    "print('-'*40)\n",
    "print()"
   ]
  },
  {
   "cell_type": "code",
   "execution_count": 29,
   "id": "6a7af87d",
   "metadata": {},
   "outputs": [
    {
     "name": "stdout",
     "output_type": "stream",
     "text": [
      "Smallest integer in my_list: 27\n",
      "----------------------------------------\n",
      "\n"
     ]
    }
   ],
   "source": [
    "'''\n",
    " Question 4: \n",
    " What is the smallest value in my_list?\n",
    "'''\n",
    "smallest_val = \"CODE HERE\" # replace the code to the left\n",
    "print(f\"Smallest integer in my_list: {smallest_val}\")\n",
    "print('-'*40)\n",
    "print()"
   ]
  },
  {
   "cell_type": "code",
   "execution_count": null,
   "id": "f06dabb9",
   "metadata": {},
   "outputs": [
    {
     "name": "stdout",
     "output_type": "stream",
     "text": [
      "Smallest integer in my_list: 27\n",
      "----------------------------------------\n",
      "\n"
     ]
    }
   ],
   "source": [
    "'''\n",
    " Solution 4: \n",
    " What is the smallest value in my_list?\n",
    "'''\n",
    "smallest_val = min(my_list) # replace the code to the left\n",
    "print(f\"Smallest integer in my_list: {smallest_val}\")\n",
    "print('-'*40)\n",
    "print()"
   ]
  },
  {
   "cell_type": "code",
   "execution_count": null,
   "id": "37608ad8",
   "metadata": {},
   "outputs": [],
   "source": [
    "'''\n",
    "Question 5: \n",
    "Create a tuple with the exact same values as my_list\n",
    "name it my_tuple\n",
    "'''\n",
    "my_tuple = \"CODE HERE\" # replace the code to the left"
   ]
  },
  {
   "cell_type": "code",
   "execution_count": null,
   "id": "d07e82d0",
   "metadata": {},
   "outputs": [],
   "source": [
    "'''\n",
    "Solution 5: \n",
    "Create a tuple with the exact same values as my_list\n",
    "name it my_tuple\n",
    "'''\n",
    "my_tuple = tuple(my_list) # replace the code to the left\n",
    "my_tuple"
   ]
  },
  {
   "cell_type": "code",
   "execution_count": null,
   "id": "9ef71f69",
   "metadata": {},
   "outputs": [],
   "source": [
    "''''\n",
    "Question 6: \n",
    "What are the last 3 values of my_tuple?\n",
    "\n",
    "'''\n",
    "my_tuple_last_val = \"CODE HERE\" # replace the code to the left\n",
    "my_tuple_sec_last_val = \"CODE HERE\"  # replace the code to the left\n",
    "my_tuple_third_last_val = \"CODE HERE\"  # replace the code to the left\n",
    "print(f\"The last 3 values of the tuple are {(my_tuple_third_last_val,my_tuple_sec_last_val,my_tuple_last_val)}\")\n",
    "print('-'*40)\n",
    "print()"
   ]
  },
  {
   "cell_type": "code",
   "execution_count": 37,
   "id": "e4e075a5",
   "metadata": {},
   "outputs": [
    {
     "name": "stdout",
     "output_type": "stream",
     "text": [
      "The last 3 values of the tuple are (5, 7, 9)\n",
      "----------------------------------------\n",
      "\n"
     ]
    }
   ],
   "source": [
    "''''\n",
    "Solution 6: \n",
    "What are the last 3 values of my_tuple?\n",
    "\n",
    "'''\n",
    "my_tuple_last_val = my_tuple[-1] # replace the code to the left\n",
    "my_tuple_sec_last_val = my_tuple[-2] # replace the code to the left\n",
    "my_tuple_third_last_val = my_tuple[-3] # replace the code to the left\n",
    "print(f\"The last 3 values of the tuple are {(my_tuple_third_last_val,my_tuple_sec_last_val,my_tuple_last_val)}\")\n",
    "print('-'*40)\n",
    "print()"
   ]
  },
  {
   "cell_type": "code",
   "execution_count": 38,
   "id": "0ac8dc46",
   "metadata": {},
   "outputs": [],
   "source": [
    "'''\n",
    "Question 7: \n",
    "Create a new tuple with all the values of my_tuple in\n",
    "reversed order\n",
    "'''\n",
    "my_new_tuple = \"CODE HERE\" # replace the code to the left\n"
   ]
  },
  {
   "cell_type": "code",
   "execution_count": 56,
   "id": "3e4e9439",
   "metadata": {},
   "outputs": [],
   "source": [
    "'''\n",
    "Solution 7: \n",
    "Create a new tuple with all the values of my_tuple in\n",
    "reversed order\n",
    "'''\n",
    "my_new_tuple = my_tuple[::-1] # replace the code to the left"
   ]
  },
  {
   "cell_type": "code",
   "execution_count": 58,
   "id": "0aa70083",
   "metadata": {},
   "outputs": [
    {
     "name": "stdout",
     "output_type": "stream",
     "text": [
      "First integer of my_tuple matches last integer of my_new_tuple is a True statement\n",
      "----------------------------------------\n",
      "\n"
     ]
    }
   ],
   "source": [
    "'''\n",
    "Question 8: \n",
    "Does the first value of my_new_tuple match my_tuple_last_val?\n",
    "Enter in the conditional below that will evaluate to True or False\n",
    "'''\n",
    "\n",
    "comparison = my_new_tuple[0] == my_tuple[-1] # replace the code to the left\n",
    "print(f\"First integer of my_tuple matches last integer of my_new_tuple is a {comparison} statement\")\n",
    "print('-'*40)\n",
    "print()"
   ]
  },
  {
   "cell_type": "code",
   "execution_count": null,
   "id": "23db84cb",
   "metadata": {},
   "outputs": [],
   "source": [
    "''''\n",
    "Question 9: \n",
    "Create a new tuple with the first 5 values of my_new_tuple\n",
    "'''\n",
    "my_other_tuple = \"CODE HERE\" # replace the code to the left\n",
    "print(f\"My newly created 5 integer tuple is {my_other_tuple}\")\n",
    "print('-'*40)\n",
    "print()"
   ]
  },
  {
   "cell_type": "code",
   "execution_count": 59,
   "id": "8b122556",
   "metadata": {},
   "outputs": [
    {
     "name": "stdout",
     "output_type": "stream",
     "text": [
      "My newly created 5 integer tuple is (498, 493, 492, 490, 489)\n",
      "----------------------------------------\n",
      "\n"
     ]
    }
   ],
   "source": [
    "''''\n",
    "Solution 9: \n",
    "Create a new tuple with the first 5 values of my_new_tuple\n",
    "'''\n",
    "my_other_tuple = my_new_tuple[:5] # replace the code to the left\n",
    "print(f\"My newly created 5 integer tuple is {my_other_tuple}\")\n",
    "print('-'*40)\n",
    "print()"
   ]
  },
  {
   "cell_type": "code",
   "execution_count": null,
   "id": "f262213d",
   "metadata": {},
   "outputs": [],
   "source": [
    "'''\n",
    "Question 10: \n",
    "Do the integers (ignore order) of my_other_tuple match the values of\n",
    "the last 5 integers in my_list? replace the boolean below with\n",
    "a conditional that evaluates to True or False. You can use other variables\n",
    "below as you need to complete this.\n",
    "'''\n",
    "tuple_and_list_comp = \"CODE HERE\" # replace the code to the left\n",
    "print(f\"Integers in my_other_tuple match the last 5 integers of my_list is a {tuple_and_list_comp} statement\")\n",
    "print('-'*40)\n",
    "print()"
   ]
  },
  {
   "cell_type": "code",
   "execution_count": 64,
   "id": "913cb08f",
   "metadata": {},
   "outputs": [
    {
     "data": {
      "text/plain": [
       "[4, 5, 6, 7, 8]"
      ]
     },
     "execution_count": 64,
     "metadata": {},
     "output_type": "execute_result"
    }
   ],
   "source": [
    "'''\n",
    "Solution 10: \n",
    "Do the integers (ignore order) of my_other_tuple match the values of\n",
    "the last 5 integers in my_list? replace the boolean below with\n",
    "a conditional that evaluates to True or False. You can use other variables\n",
    "below as you need to complete this.\n",
    "'''\n",
    "tuple_and_list_comp = my_other_tuple[:] == my_list[len(my_list)-5:] # replace the code to the left\n",
    "print(f\"Integers in my_other_tuple match the last 5 integers of my_list is a {tuple_and_list_comp} statement\")\n",
    "print('-'*40)\n",
    "print()\n"
   ]
  },
  {
   "cell_type": "code",
   "execution_count": 65,
   "id": "4ffe6df3",
   "metadata": {},
   "outputs": [
    {
     "name": "stdout",
     "output_type": "stream",
     "text": [
      "I can take {'python'} since I need it and it's available\n",
      "----------------------------------------\n",
      "\n"
     ]
    }
   ],
   "source": [
    "'''\n",
    "Question 11: \n",
    "Find the intersection between the following two sets and\n",
    "store it in my_match\n",
    "'''\n",
    "my_requirements = {'ruby','python'}\n",
    "available_languages = {\"comp sci\", \"physics\", \"elec engr\", \"philosophy\", \"python\"}\n",
    "my_match = \"CODE HERE\" # replace the code to the left\n",
    "print(f\"I can take {my_match} since I need it and it's available\")\n",
    "print('-'*40)\n",
    "print()\n"
   ]
  },
  {
   "cell_type": "code",
   "execution_count": null,
   "id": "0260aa40",
   "metadata": {},
   "outputs": [
    {
     "name": "stdout",
     "output_type": "stream",
     "text": [
      "I can take {'python'} since I need it and it's available\n",
      "----------------------------------------\n",
      "\n"
     ]
    }
   ],
   "source": [
    "'''\n",
    "Solution 11: \n",
    "Find the intersection between the following two sets and\n",
    "store it in my_match\n",
    "'''\n",
    "my_requirements = {'ruby','python'}\n",
    "available_languages = {\"comp sci\", \"physics\", \"elec engr\", \"philosophy\", \"python\"}\n",
    "my_match = available_languages.intersection(my_requirements) # replace the code to the left\n",
    "print(f\"I can take {my_match} since I need it and it's available\")\n",
    "print('-'*40)\n",
    "print()\n"
   ]
  },
  {
   "cell_type": "code",
   "execution_count": 76,
   "id": "263e3115",
   "metadata": {},
   "outputs": [
    {
     "name": "stdout",
     "output_type": "stream",
     "text": [
      "The meanings in the dictionary are [list[dict_values(['the round fruit of a tree of the rose family', 'an insect which cleans up the floor'])], list[dict_values(['of poor quaity or low standard', 'season 8 of GOT'])]]\n"
     ]
    }
   ],
   "source": [
    "'''\n",
    "Question 12: \n",
    "Given the dictionary below, create a list called my_al_list\n",
    "which includes only the values (meaning) associated with each word.\n",
    "my_al_list should look like ['the round fruit of a tree of the rose family',\n",
    "'an insect which cleans up the floor'......].\n",
    "Obviously do this programmatically and don't hardcode it, you may use\n",
    "other lines of code and variables as you see fit. Solution code has a couple of\n",
    "options displayed.\n",
    "'''\n",
    "\n",
    "word_dict = {'a':\n",
    "                {\n",
    "                 'apple': 'the round fruit of a tree of the rose family',\n",
    "                 'ant': 'an insect which cleans up the floor'\n",
    "                },\n",
    "             'b':\n",
    "                {\n",
    "                 'bad': 'of poor quaity or low standard',\n",
    "                 'business': 'season 8 of GOT'\n",
    "                }\n",
    "            }\n",
    "\n",
    "# Option 1\n",
    "my_al_list = []\n",
    "for combo in word_dict.values():\n",
    "    for meaning in combo.values():\n",
    "        my_al_list.append(meaning)\n",
    "print(f\"The meanings in the dictionary are {my_al_list}\")\n",
    "\n",
    "\n",
    "# Option 2\n",
    "my_al_list = [list[val.values()] for val in word_dict.values()]\n",
    "print(f\"The meanings in the dictionary are {my_al_list}\")\n"
   ]
  },
  {
   "cell_type": "code",
   "execution_count": null,
   "id": "25f00ebc",
   "metadata": {},
   "outputs": [],
   "source": []
  }
 ],
 "metadata": {
  "kernelspec": {
   "display_name": "Python 3 (ipykernel)",
   "language": "python",
   "name": "python3"
  },
  "language_info": {
   "codemirror_mode": {
    "name": "ipython",
    "version": 3
   },
   "file_extension": ".py",
   "mimetype": "text/x-python",
   "name": "python",
   "nbconvert_exporter": "python",
   "pygments_lexer": "ipython3",
   "version": "3.11.2"
  }
 },
 "nbformat": 4,
 "nbformat_minor": 5
}
