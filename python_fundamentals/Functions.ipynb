{
 "cells": [
  {
   "attachments": {},
   "cell_type": "markdown",
   "id": "ba586f0c",
   "metadata": {},
   "source": [
    "## Functions"
   ]
  },
  {
   "cell_type": "code",
   "execution_count": 1,
   "id": "dd1cfd33",
   "metadata": {},
   "outputs": [
    {
     "name": "stdout",
     "output_type": "stream",
     "text": [
      "Hello, World!\n"
     ]
    }
   ],
   "source": [
    "print('Hello, World!')"
   ]
  },
  {
   "cell_type": "code",
   "execution_count": 2,
   "id": "ad0049c8",
   "metadata": {},
   "outputs": [
    {
     "data": {
      "text/plain": [
       "12"
      ]
     },
     "execution_count": 2,
     "metadata": {},
     "output_type": "execute_result"
    }
   ],
   "source": [
    "def multiplyByThree(val):\n",
    "    return 3 * val\n",
    "\n",
    "multiplyByThree(4)"
   ]
  },
  {
   "cell_type": "code",
   "execution_count": 3,
   "id": "5b73fcaa",
   "metadata": {},
   "outputs": [],
   "source": [
    "def multiply(val1, val2):\n",
    "    return val1 * val2"
   ]
  },
  {
   "cell_type": "code",
   "execution_count": 4,
   "id": "9b62e051",
   "metadata": {},
   "outputs": [
    {
     "data": {
      "text/plain": [
       "12"
      ]
     },
     "execution_count": 4,
     "metadata": {},
     "output_type": "execute_result"
    }
   ],
   "source": [
    "multiply(3, 4)"
   ]
  },
  {
   "cell_type": "code",
   "execution_count": 5,
   "id": "2cec9e99",
   "metadata": {},
   "outputs": [
    {
     "name": "stdout",
     "output_type": "stream",
     "text": [
      "[1, 2, 3, 4]\n"
     ]
    }
   ],
   "source": [
    "a = [1,2,3]\n",
    "\n",
    "def appendFour(myList):\n",
    "    myList.append(4)\n",
    "    \n",
    "appendFour(a)\n",
    "print(a)"
   ]
  },
  {
   "cell_type": "code",
   "execution_count": 7,
   "id": "beb2bc22",
   "metadata": {},
   "outputs": [
    {
     "name": "stdout",
     "output_type": "stream",
     "text": [
      "Hello, World!\n",
      "None\n"
     ]
    }
   ],
   "source": [
    "print(print('Hello, World!'))"
   ]
  },
  {
   "cell_type": "code",
   "execution_count": 8,
   "id": "ebcd84f9",
   "metadata": {},
   "outputs": [
    {
     "data": {
      "text/plain": [
       "NoneType"
      ]
     },
     "execution_count": 8,
     "metadata": {},
     "output_type": "execute_result"
    }
   ],
   "source": [
    "type(None)"
   ]
  },
  {
   "cell_type": "code",
   "execution_count": 9,
   "id": "856a2d61",
   "metadata": {},
   "outputs": [
    {
     "ename": "TypeError",
     "evalue": "unsupported operand type(s) for +: 'NoneType' and 'int'",
     "output_type": "error",
     "traceback": [
      "\u001b[0;31m---------------------------------------------------------------------------\u001b[0m",
      "\u001b[0;31mTypeError\u001b[0m                                 Traceback (most recent call last)",
      "Input \u001b[0;32mIn [9]\u001b[0m, in \u001b[0;36m<module>\u001b[0;34m\u001b[0m\n\u001b[0;32m----> 1\u001b[0m \u001b[38;5;28;43;01mNone\u001b[39;49;00m\u001b[43m \u001b[49m\u001b[38;5;241;43m+\u001b[39;49m\u001b[43m \u001b[49m\u001b[38;5;241;43m1\u001b[39;49m\n",
      "\u001b[0;31mTypeError\u001b[0m: unsupported operand type(s) for +: 'NoneType' and 'int'"
     ]
    }
   ],
   "source": [
    "None + 1"
   ]
  },
  {
   "attachments": {},
   "cell_type": "markdown",
   "id": "8a011328",
   "metadata": {},
   "source": [
    "## Questions"
   ]
  },
  {
   "cell_type": "code",
   "execution_count": null,
   "id": "f812b316",
   "metadata": {},
   "outputs": [],
   "source": [
    "\n",
    "'''\n",
    "Question 01:\n",
    "How many lines will show up in the console if I run this program?\n",
    "'''\n",
    "\n",
    "def multiply_nums(num_1, num_2):\n",
    "    print(num_1 * num_2)\n",
    " \n",
    "def divide_nums(num_1, num_2):\n",
    "    print(num_1 / num_2)\n",
    " \n",
    "def add_two_nums(num_1, num_2):\n",
    "    return num_1 + num_2\n",
    " \n",
    "print(multiply_nums(4,5))\n",
    "print(divide_nums(80,4))\n",
    "print(add_two_nums(10,10))\n",
    "\n",
    "# Options\n",
    "# 4\n",
    "# 5\n",
    "# 2\n",
    "# Error"
   ]
  },
  {
   "cell_type": "code",
   "execution_count": null,
   "id": "ac2b5f97",
   "metadata": {},
   "outputs": [],
   "source": [
    "'''\n",
    "Solution 01:\n",
    "'''\n",
    "# Answer is 5\n",
    "def multiply_nums(num_1, num_2):\n",
    "    print(num_1 * num_2)\n",
    " \n",
    "def divide_nums(num_1, num_2):\n",
    "    print(num_1 / num_2)\n",
    " \n",
    "def add_two_nums(num_1, num_2):\n",
    "    return num_1 + num_2\n",
    " \n",
    "print(multiply_nums(4,5)) # It will print two lines, line 6 will print 20, line 14 will print None\n",
    "\n",
    "print(divide_nums(80,4)) # It will print two lines, line 9 will print 20, line 15 will print None\n",
    "\n",
    "print(add_two_nums(10,10)) # It will print one lines, line 18 will print 20, line 12 will just return"
   ]
  },
  {
   "cell_type": "code",
   "execution_count": 1,
   "id": "6eb42b3a",
   "metadata": {},
   "outputs": [
    {
     "name": "stdout",
     "output_type": "stream",
     "text": [
      "[6, 5, 4, 9, 10, 23, 12]\n"
     ]
    }
   ],
   "source": [
    "'''\n",
    "Question 02:\n",
    "In Python you can pass in function names as arguments to other functions. \n",
    "I have a function defined below which takes in a function as an argument along with a l\n",
    "ist object and runs the function on the list object. \n",
    "What will the output be of the following program\n",
    "'''\n",
    "\n",
    "def run_func(func_name, some_list):\n",
    "    func_name(some_list)\n",
    " \n",
    "l1 = [6,5,4,9,10,23,12]\n",
    "run_func(sorted, l1)\n",
    "print(l1)\n",
    "\n",
    "# Options\n",
    "# [6,5,4,9,10,23,12]\n",
    "# [4,5,6,9,10,12,23]\n",
    "# None\n",
    "# Error"
   ]
  },
  {
   "cell_type": "code",
   "execution_count": 6,
   "id": "d3a884a7",
   "metadata": {},
   "outputs": [
    {
     "name": "stdout",
     "output_type": "stream",
     "text": [
      "[4, 5, 6, 9, 10, 12, 23]\n",
      "[6, 5, 4, 9, 10, 23, 12]\n"
     ]
    }
   ],
   "source": [
    "'''\n",
    "Solution 02: \n",
    "'''\n",
    "# Answer is [6, 5, 4, 9, 10, 23, 12]\n",
    "\n",
    "def run_func(func_name, some_list):\n",
    "     func_name(some_list) # func_name = sorted function, sorted does not sort in place\n",
    "                          # It has to be returned if want to print\n",
    " \n",
    "l1 = [6,5,4,9,10,23,12]\n",
    "\n",
    "run_func(sorted, l1) # sorted is built-in function that takes iterable and return sorted\n",
    "                     # But here we are not printing run_func, as run_func is not returning\n",
    "\n",
    "print(l1) # Only this line print data\n",
    "\n",
    "# Options\n",
    "# [6,5,4,9,10,23,12]\n",
    "# [4,5,6,9,10,12,23]\n",
    "# None\n",
    "# Error"
   ]
  },
  {
   "cell_type": "code",
   "execution_count": 3,
   "id": "8214be5b",
   "metadata": {},
   "outputs": [
    {
     "data": {
      "text/plain": [
       "[4, 5, 6, 9, 10, 12, 23]"
      ]
     },
     "execution_count": 3,
     "metadata": {},
     "output_type": "execute_result"
    }
   ],
   "source": [
    "'''\n",
    "Question 03:\n",
    "What will the output be of the program as it is below?\n",
    "'''\n",
    "def run_func(func_name, some_list):\n",
    "    return func_name(some_list)\n",
    " \n",
    "l1 = [6,5,4,9,10,23,12]\n",
    "print(run_func(sorted, l1))\n",
    "\n",
    "# Options\n",
    "# [6,5,4,9,10,23,12]\n",
    "# [4,5,6,9,10,12,23]\n",
    "# None\n",
    "# Error\n"
   ]
  },
  {
   "cell_type": "code",
   "execution_count": null,
   "id": "9c719f88",
   "metadata": {},
   "outputs": [
    {
     "data": {
      "text/plain": [
       "[4, 5, 6, 9, 10, 12, 23]"
      ]
     },
     "metadata": {},
     "output_type": "display_data"
    }
   ],
   "source": [
    "'''\n",
    "Solution 03:\n",
    "What will the output be of the program as it is below?\n",
    "'''\n",
    "def run_func(func_name, some_list):\n",
    "    return func_name(some_list)\n",
    " \n",
    "l1 = [6,5,4,9,10,23,12]\n",
    "print(run_func(sorted, l1))\n",
    "\n",
    "# Options\n",
    "# [6,5,4,9,10,23,12]\n",
    "# [4,5,6,9,10,12,23] -- Answer\n",
    "# None\n",
    "# Error\n"
   ]
  },
  {
   "cell_type": "code",
   "execution_count": null,
   "id": "7e5a1e9a",
   "metadata": {},
   "outputs": [],
   "source": [
    "'''\n",
    "Question 04:\n",
    "I can compress the code inside this function to only one line using a python feature, what is that called?\n",
    "\n",
    "'''\n",
    "import random\n",
    "def create_random_list(size, max_val):\n",
    "    ran_list = []\n",
    "    for num in range(size):\n",
    "        ran_list.append(random.randint(1,max_val))\n",
    "    return ran_list\n",
    " \n",
    "print(create_random_list(20, 50))\n",
    "\n",
    "# Options\n",
    "# data compression\n",
    "# comprehension\n",
    "# list comprehension\n",
    "# list translation"
   ]
  },
  {
   "cell_type": "code",
   "execution_count": 9,
   "id": "9f133a94",
   "metadata": {},
   "outputs": [
    {
     "name": "stdout",
     "output_type": "stream",
     "text": [
      "[18, 8, 9, 19, 34, 26, 13, 40, 20, 33, 45, 30, 18, 42, 16, 24, 44, 18, 43, 34]\n"
     ]
    }
   ],
   "source": [
    "'''\n",
    "Solution 04:\n",
    "I can compress the code inside this function to only one line using a python feature, what is that called?\n",
    "\n",
    "'''\n",
    "from random import randint\n",
    "def create_random_list(size, max_val):\n",
    "    # ran_list = []\n",
    "    # for num in range(size):\n",
    "    #     ran_list.append(random.randint(1,max_val))\n",
    "    # return ran_list\n",
    "    return [randint(0,max_val) for i in range(size) ]\n",
    " \n",
    "print(create_random_list(20, 50))\n",
    "\n",
    "# Options\n",
    "# data compression\n",
    "# comprehension\n",
    "# list comprehension ------- Answer\n",
    "# list translation"
   ]
  },
  {
   "cell_type": "code",
   "execution_count": null,
   "id": "06f027e8",
   "metadata": {},
   "outputs": [],
   "source": [
    "'''\n",
    "Question 05:\n",
    "Write a function that takes two integer lists of equal length as parameters \n",
    "and compares elements in the first list with elements in the second \n",
    "and uses the smaller value of each such comparison to form a third list. \n",
    "Once all elements have been compared the function returns the third list. \n",
    "Assume there are no duplicate values. \n",
    "\n",
    "Example below:\n",
    "arr_1 = [5,9,3]\n",
    "\n",
    "arr_2 = [2,16,4]\n",
    "\n",
    "If func_0 was called with the two lists arr_1 and arr_2 above as arguments, \n",
    "it would return the list [2,9,3]\n",
    "'''"
   ]
  },
  {
   "cell_type": "code",
   "execution_count": 11,
   "id": "6aa6602c",
   "metadata": {},
   "outputs": [
    {
     "data": {
      "text/plain": [
       "[2, 9, 3]"
      ]
     },
     "execution_count": 11,
     "metadata": {},
     "output_type": "execute_result"
    }
   ],
   "source": [
    "'''\n",
    "Solution 05:\n",
    "'''\n",
    "def func_0(arr_1, arr_2):\n",
    "    arr_3 = []\n",
    "    for i in range(len(arr_1)):\n",
    "        if(arr_1[i] > arr_2[i]):\n",
    "            arr_3.append(arr_2[i])\n",
    "        else:\n",
    "            arr_3.append(arr_1[i])\n",
    "    return arr_3\n",
    "\n",
    "func_0([5,9,3],[2,16,4])"
   ]
  },
  {
   "cell_type": "code",
   "execution_count": null,
   "id": "f0618276",
   "metadata": {},
   "outputs": [],
   "source": [
    "'''\n",
    "Question 06:\n",
    "Write function takes two lists of equal length as parameters \n",
    "and performs a sort on each list to get a copy of the lists in ascending order. \n",
    "It then calls func_0 with these two sorted lists and gets back one list containing \n",
    "the lower values at each index from func_0. \n",
    "It then returns this list. Assume there are no duplicate values in either list. \n",
    "\n",
    "Example below:\n",
    "arr_1 = [6,3,9]\n",
    "\n",
    "arr_2 = [11,2,4]\n",
    "\n",
    "If func_1 was called with the two lists arr_1 and arr_2 above as arguments, \n",
    "it would return [2,4,9]\n",
    "'''"
   ]
  },
  {
   "cell_type": "code",
   "execution_count": 12,
   "id": "fa902188",
   "metadata": {},
   "outputs": [
    {
     "data": {
      "text/plain": [
       "[2, 4, 9]"
      ]
     },
     "execution_count": 12,
     "metadata": {},
     "output_type": "execute_result"
    }
   ],
   "source": [
    "'''\n",
    "Solution 06:\n",
    "'''\n",
    "def func_1(arr_1, arr_2):\n",
    "    arr_1 = sorted(arr_1)\n",
    "    arr_2 = sorted(arr_2)\n",
    "    return(func_0(arr_1,arr_2))\n",
    "\n",
    "arr_1 = [6,3,9]\n",
    "arr_2 = [11,2,4]\n",
    "func_1(arr_1,arr_2)"
   ]
  },
  {
   "cell_type": "code",
   "execution_count": null,
   "id": "39e69796",
   "metadata": {},
   "outputs": [],
   "source": [
    "'''\n",
    "Question 07:\n",
    "Write a function takes a string and adds an -> in-between each character\n",
    "in the string. \n",
    "If func_2 was called with the string \"hello\", \n",
    "it would return the string \"h->e->l->l->o\". Assume there are no empty spaces in the string.\n",
    "'''"
   ]
  },
  {
   "cell_type": "code",
   "execution_count": 20,
   "id": "f12fc7af",
   "metadata": {},
   "outputs": [
    {
     "data": {
      "text/plain": [
       "'h->e->l->l->o'"
      ]
     },
     "execution_count": 20,
     "metadata": {},
     "output_type": "execute_result"
    }
   ],
   "source": [
    "'''\n",
    "Solution 07:\n",
    "'''\n",
    "def func_2(my_string):\n",
    "    newStr = \"\"\n",
    "    for i in my_string:\n",
    "        newStr += i + \"->\"\n",
    "        \n",
    "    return newStr[:-2]\n",
    "\n",
    "func_2(\"hello\")"
   ]
  },
  {
   "cell_type": "code",
   "execution_count": null,
   "id": "87347bba",
   "metadata": {},
   "outputs": [],
   "source": []
  }
 ],
 "metadata": {
  "kernelspec": {
   "display_name": "Python 3 (ipykernel)",
   "language": "python",
   "name": "python3"
  },
  "language_info": {
   "codemirror_mode": {
    "name": "ipython",
    "version": 3
   },
   "file_extension": ".py",
   "mimetype": "text/x-python",
   "name": "python",
   "nbconvert_exporter": "python",
   "pygments_lexer": "ipython3",
   "version": "3.10.11"
  }
 },
 "nbformat": 4,
 "nbformat_minor": 5
}
