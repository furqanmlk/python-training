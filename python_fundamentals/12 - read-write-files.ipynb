{
 "cells": [
  {
   "attachments": {},
   "cell_type": "markdown",
   "metadata": {},
   "source": [
    "### Reading from a file:\n",
    "> To read from a file in Python, \n",
    "you can use the __open()__ function in combination with the __read()__ method."
   ]
  },
  {
   "cell_type": "code",
   "execution_count": 2,
   "metadata": {},
   "outputs": [
    {
     "name": "stdout",
     "output_type": "stream",
     "text": [
      "mashrur,hossain:python,ruby,javascript\n",
      "joe,schmo:python,ruby,javascript\n",
      "john,schmoe:python,ruby,javascript\n"
     ]
    }
   ],
   "source": [
    "\n",
    "# data.txt contents\n",
    "'''mashrur,hossain:python,ruby,javascript\n",
    "joe,schmo:python,ruby,javascript\n",
    "john,schmoe:python,ruby,javascript\n",
    "'''\n",
    "\n",
    "# Open the file in read mode\n",
    "file = open('12 - data.txt', 'r')\n",
    "\n",
    "# Read the contents of the file\n",
    "content = file.read()\n",
    "\n",
    "# Print the content\n",
    "print(content)\n",
    "\n",
    "# Close the file\n",
    "file.close()\n"
   ]
  },
  {
   "attachments": {},
   "cell_type": "markdown",
   "metadata": {},
   "source": [
    "### Writing to a file:\n",
    "\n",
    "> To write to a file in Python, you can again use the __open()__ function but this time with the mode set to __'w' (write)__.\n",
    "\n",
    "> __write()__ method with the __'w' (write) mode__, it will __overwrite__ the existing text in the file.\n",
    "\n"
   ]
  },
  {
   "cell_type": "code",
   "execution_count": 3,
   "metadata": {},
   "outputs": [],
   "source": [
    "# Open the file in write mode\n",
    "file = open('12 - data.txt', 'w')\n",
    "\n",
    "# Write content to the file\n",
    "file.write('This is some example text.')\n",
    "\n",
    "# Read the file content, notice that exiting data has been replaced with line 5 data\n",
    "print(file.read()) # Output: 'This is some example text.'\n",
    "\n",
    "# Close the file\n",
    "file.close()\n"
   ]
  },
  {
   "attachments": {},
   "cell_type": "markdown",
   "metadata": {},
   "source": [
    "### Append new content\n",
    "> To append new content to an existing file without overwriting it, \n",
    "you can use the __'a' (append)__ mode instead. "
   ]
  },
  {
   "cell_type": "code",
   "execution_count": null,
   "metadata": {},
   "outputs": [],
   "source": [
    "# Open the file in append mode\n",
    "file = open('12 - data.txt', 'a')\n",
    "\n",
    "# Write content to the file\n",
    "file.write('\\nThis is some additional text.')\n",
    "\n",
    "# Read file contect, notice that exiting data stil remains\n",
    "print(file.read())\n",
    "# Close the file\n",
    "file.close()\n"
   ]
  },
  {
   "attachments": {},
   "cell_type": "markdown",
   "metadata": {},
   "source": [
    "### Read and Write using with block\n",
    "> It's important to note that when opening files, you should always close them after you're done with them to free up system resources.<br>\n",
    "Alternatively, you can use the __with__ statement to automatically close the file once you're done"
   ]
  },
  {
   "cell_type": "code",
   "execution_count": 4,
   "metadata": {},
   "outputs": [
    {
     "name": "stdout",
     "output_type": "stream",
     "text": [
      "This is some example text.\n"
     ]
    }
   ],
   "source": [
    "with open('12 - data.txt', 'r') as file:\n",
    "    content = file.read()\n",
    "    print(content)\n"
   ]
  },
  {
   "cell_type": "code",
   "execution_count": null,
   "metadata": {},
   "outputs": [],
   "source": [
    "## Reading from and writing to files\n",
    "# We learned the basics of using context managers to read data\n",
    "# from a file, make sure to have the data.txt file in the same\n",
    "# directory as this file, otherwise you have to provide the full\n",
    "# path to the file\n",
    "filename = 'data.txt'\n",
    "with open(filename) as f:\n",
    "    for line in f:\n",
    "        print(line.strip())\n",
    "\n",
    "# We then looked at how to append a new line to the file\n",
    "record_to_add = \"jane,doe:c,ruby,javascript\"\n",
    "with open(filename, \"a+\") as to_write:\n",
    "    to_write.write(record_to_add+\"\\n\")\n"
   ]
  }
 ],
 "metadata": {
  "kernelspec": {
   "display_name": "Python 3",
   "language": "python",
   "name": "python3"
  },
  "language_info": {
   "codemirror_mode": {
    "name": "ipython",
    "version": 3
   },
   "file_extension": ".py",
   "mimetype": "text/x-python",
   "name": "python",
   "nbconvert_exporter": "python",
   "pygments_lexer": "ipython3",
   "version": "3.10.11"
  },
  "orig_nbformat": 4
 },
 "nbformat": 4,
 "nbformat_minor": 2
}
