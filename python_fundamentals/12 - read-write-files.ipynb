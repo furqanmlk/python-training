{
 "cells": [
  {
   "attachments": {},
   "cell_type": "markdown",
   "metadata": {},
   "source": [
    "## Read and Write File\n",
    "\n",
    "> __[Documentation](https://docs.python.org/3/tutorial/inputoutput.html#methods-of-file-objects)__"
   ]
  },
  {
   "attachments": {},
   "cell_type": "markdown",
   "metadata": {},
   "source": [
    "### Reading from a file:\n",
    "> To read from a file in Python, \n",
    "you can use the __open()__ function in combination with the __read()__ method."
   ]
  },
  {
   "cell_type": "code",
   "execution_count": 2,
   "metadata": {},
   "outputs": [
    {
     "name": "stdout",
     "output_type": "stream",
     "text": [
      "mashrur,hossain:python,ruby,javascript\n",
      "joe,schmo:python,ruby,javascript\n",
      "john,schmoe:python,ruby,javascript\n"
     ]
    }
   ],
   "source": [
    "\n",
    "# data.txt contents\n",
    "'''mashrur,hossain:python,ruby,javascript\n",
    "joe,schmo:python,ruby,javascript\n",
    "john,schmoe:python,ruby,javascript\n",
    "'''\n",
    "\n",
    "# Open the file in read mode\n",
    "file = open('12 - data.txt', 'r')\n",
    "\n",
    "# Read the contents of the file\n",
    "content = file.read()\n",
    "\n",
    "# Print the content\n",
    "print(content)\n",
    "\n",
    "# Close the file\n",
    "file.close()\n"
   ]
  },
  {
   "attachments": {},
   "cell_type": "markdown",
   "metadata": {},
   "source": [
    "### Writing to a file:\n",
    "\n",
    "> To write to a file in Python, you can again use the __open()__ function but this time with the mode set to __'w' (write)__.\n",
    "\n",
    "> __write()__ method with the __'w' (write) mode__, it will __overwrite__ the existing text in the file.\n",
    "\n"
   ]
  },
  {
   "cell_type": "code",
   "execution_count": 3,
   "metadata": {},
   "outputs": [],
   "source": [
    "# Open the file in write mode\n",
    "file = open('12 - data.txt', 'w')\n",
    "\n",
    "# Write content to the file\n",
    "file.write('This is some example text.')\n",
    "\n",
    "# Read the file content, notice that exiting data has been replaced with line 5 data\n",
    "print(file.read()) # Output: 'This is some example text.'\n",
    "\n",
    "# Close the file\n",
    "file.close()\n"
   ]
  },
  {
   "attachments": {},
   "cell_type": "markdown",
   "metadata": {},
   "source": [
    "### Append new content\n",
    "> To append new content to an existing file without overwriting it, \n",
    "you can use the __'a' (append)__ mode instead. "
   ]
  },
  {
   "cell_type": "code",
   "execution_count": null,
   "metadata": {},
   "outputs": [],
   "source": [
    "# Open the file in append mode\n",
    "file = open('12 - data.txt', 'a')\n",
    "\n",
    "# Write content to the file\n",
    "file.write('\\nThis is some additional text.')\n",
    "\n",
    "# Read file contect, notice that exiting data stil remains\n",
    "print(file.read())\n",
    "# Close the file\n",
    "file.close()\n"
   ]
  },
  {
   "attachments": {},
   "cell_type": "markdown",
   "metadata": {},
   "source": [
    "### Read and Write using with block\n",
    "> It's important to note that when opening files, you should always close them after you're done with them to free up system resources.<br>\n",
    "Alternatively, you can use the __with__ statement to automatically close the file once you're done"
   ]
  },
  {
   "cell_type": "code",
   "execution_count": 4,
   "metadata": {},
   "outputs": [
    {
     "name": "stdout",
     "output_type": "stream",
     "text": [
      "This is some example text.\n"
     ]
    }
   ],
   "source": [
    "with open('12 - data.txt', 'r') as file:\n",
    "    content = file.read()\n",
    "    print(content)\n"
   ]
  },
  {
   "cell_type": "code",
   "execution_count": null,
   "metadata": {},
   "outputs": [],
   "source": [
    "## Reading from and writing to files\n",
    "# We learned the basics of using context managers to read data\n",
    "# from a file, make sure to have the data.txt file in the same\n",
    "# directory as this file, otherwise you have to provide the full\n",
    "# path to the file\n",
    "filename = 'data.txt'\n",
    "with open(filename) as f:\n",
    "    for line in f:\n",
    "        print(line.strip())\n",
    "\n",
    "# We then looked at how to append a new line to the file\n",
    "record_to_add = \"jane,doe:c,ruby,javascript\"\n",
    "with open(filename, \"a+\") as to_write:\n",
    "    to_write.write(record_to_add+\"\\n\")\n"
   ]
  },
  {
   "attachments": {},
   "cell_type": "markdown",
   "metadata": {},
   "source": [
    "### Readline\n",
    "\n",
    "> The __readline()__ method in Python is used to read a single line from a file. <br>\n",
    "It reads characters from the current position in the file until it encounters a newline character (\"\\n\") or reaches the end of the line."
   ]
  },
  {
   "cell_type": "code",
   "execution_count": null,
   "metadata": {},
   "outputs": [],
   "source": [
    "# Open the file in read mode\n",
    "file = open(\"12 - data.txt\", \"r\")\n",
    "\n",
    "# Read the first line from the file\n",
    "line1 = file.readline()\n",
    "\n",
    "# Read the second line from the file\n",
    "line2 = file.readline()\n",
    "\n",
    "# Close the file\n",
    "file.close()\n",
    "\n",
    "# Print the lines\n",
    "print(\"Line 1:\", line1)\n",
    "print(\"Line 2:\", line2)\n",
    "\n",
    "# Assuming the file \"12 - data.txt\" contains the following content:\n",
    "'''\n",
    "Hello, world!\n",
    "This is a test file.\n",
    "'''\n",
    "# The output of the above code will be:\n",
    "# Line 1: Hello, world!\n",
    "# Line 2: This is a test file.\n",
    "\n",
    "\n"
   ]
  },
  {
   "attachments": {},
   "cell_type": "markdown",
   "metadata": {},
   "source": [
    "### Readlines\n",
    "> To read __all lines__ from a file in Python, you can use the __readlines()__ method. <br>\n",
    "It reads all the lines from the file and returns them as a list of strings, where each string represents a line from the file.\n",
    "\n"
   ]
  },
  {
   "cell_type": "code",
   "execution_count": null,
   "metadata": {},
   "outputs": [],
   "source": [
    "# Open the file in read mode\n",
    "file = open(\"12 - data.txt\", \"r\")\n",
    "\n",
    "# Read all lines from the file\n",
    "lines = file.readlines()\n",
    "\n",
    "# Close the file\n",
    "file.close()\n",
    "\n",
    "# Print all lines\n",
    "for line in lines:\n",
    "    print(line)\n",
    "\n",
    "# Alternatively, you can use the following single line to print all lines:\n",
    "# print(*lines, sep='')\n"
   ]
  }
 ],
 "metadata": {
  "kernelspec": {
   "display_name": "Python 3",
   "language": "python",
   "name": "python3"
  },
  "language_info": {
   "codemirror_mode": {
    "name": "ipython",
    "version": 3
   },
   "file_extension": ".py",
   "mimetype": "text/x-python",
   "name": "python",
   "nbconvert_exporter": "python",
   "pygments_lexer": "ipython3",
   "version": "3.10.11"
  },
  "orig_nbformat": 4
 },
 "nbformat": 4,
 "nbformat_minor": 2
}
