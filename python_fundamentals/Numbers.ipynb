{
 "cells": [
  {
   "attachments": {},
   "cell_type": "markdown",
   "id": "3c846f84",
   "metadata": {},
   "source": [
    "__[Int and Float](#int-float)__\n",
    "\n",
    "__[Maths](#maths)__\n",
    "\n",
    "__[Assignment](#assignment)__"
   ]
  },
  {
   "attachments": {},
   "cell_type": "markdown",
   "id": "4fede27d",
   "metadata": {},
   "source": [
    "## Int Float\n",
    " >  Numbers - Integers, floats, math, type casting, user input\n",
    " \n",
    " >  Documentation on integers and floats can be found below:\n",
    " >https://docs.python.org/3/library/stdtypes.html#numeric-types-int-float-complex"
   ]
  },
  {
   "cell_type": "code",
   "execution_count": 1,
   "id": "faae41ec",
   "metadata": {},
   "outputs": [
    {
     "name": "stdout",
     "output_type": "stream",
     "text": [
      "<class 'int'>\n"
     ]
    }
   ],
   "source": [
    "# To check the type of an object, use the type function, example below\n",
    "num_1 = 10\n",
    "print(type(num_1)) # This should return class 'int'"
   ]
  },
  {
   "cell_type": "code",
   "execution_count": 2,
   "id": "d06b2c19",
   "metadata": {},
   "outputs": [
    {
     "name": "stdout",
     "output_type": "stream",
     "text": [
      "8\n",
      "5\n",
      "20\n",
      "5.0\n"
     ]
    }
   ],
   "source": [
    "# Standard math operations can be performed using +, -, *, /\n",
    "print(4+4) # output 8\n",
    "print(10-5) # output 5\n",
    "print(10*2) # output 20\n",
    "print(10/2) # output 5.0"
   ]
  },
  {
   "cell_type": "code",
   "execution_count": 3,
   "id": "b05716ba",
   "metadata": {},
   "outputs": [
    {
     "name": "stdout",
     "output_type": "stream",
     "text": [
      "3\n"
     ]
    }
   ],
   "source": [
    "# Division will give you a float (decimal value number) by default\n",
    "# To perform floor division, or remove the decimal you can use //\n",
    "print(10//3) # output 3"
   ]
  },
  {
   "cell_type": "code",
   "execution_count": 4,
   "id": "5d8ff4fa",
   "metadata": {},
   "outputs": [
    {
     "name": "stdout",
     "output_type": "stream",
     "text": [
      "1\n",
      "0\n"
     ]
    }
   ],
   "source": [
    "# You can use the mod operator % to find the remainder\n",
    "print(10%3) # output 1\n",
    "print(10%2) # output 0"
   ]
  },
  {
   "cell_type": "code",
   "execution_count": 5,
   "id": "568ecbef",
   "metadata": {},
   "outputs": [
    {
     "name": "stdout",
     "output_type": "stream",
     "text": [
      "25\n",
      "125\n"
     ]
    }
   ],
   "source": [
    "# To take a number to the power of another number, you can use\n",
    "# the ** operator\n",
    "print(5**2) # output 25 (this is 5 squared)\n",
    "print(5**3) # output 125 (this is 5 cubed)"
   ]
  },
  {
   "cell_type": "code",
   "execution_count": 6,
   "id": "8c708650",
   "metadata": {},
   "outputs": [
    {
     "name": "stdout",
     "output_type": "stream",
     "text": [
      "100000.0\n"
     ]
    }
   ],
   "source": [
    "# You can import the math module and use functions provided by it\n",
    "import math\n",
    "print(math.pow(10,5)) # output 100000.0, this is 10 to the power 5"
   ]
  },
  {
   "cell_type": "code",
   "execution_count": 7,
   "id": "ed353c00",
   "metadata": {},
   "outputs": [
    {
     "name": "stdout",
     "output_type": "stream",
     "text": [
      "405\n"
     ]
    }
   ],
   "source": [
    "# Similarly you can import the random module and generate random\n",
    "# integers using the randint function\n",
    "import random\n",
    "print(random.randint(0,1000))   \n",
    "# output random integer between 0 and 1000"
   ]
  },
  {
   "cell_type": "code",
   "execution_count": 8,
   "id": "bb8eafca",
   "metadata": {},
   "outputs": [
    {
     "name": "stdout",
     "output_type": "stream",
     "text": [
      "10\n"
     ]
    }
   ],
   "source": [
    "# You can use other functions on numbers as well\n",
    "# abs or absolute value function will remove the negative sign from the number, output 10\n",
    "num_2 = -10\n",
    "print(abs(num_2))   "
   ]
  },
  {
   "cell_type": "code",
   "execution_count": 9,
   "id": "adb9a616",
   "metadata": {},
   "outputs": [
    {
     "name": "stdout",
     "output_type": "stream",
     "text": [
      "<class 'int'>\n"
     ]
    }
   ],
   "source": [
    "# To convert the string \"10\" to the int 10, you can cast it to an int\n",
    "my_string = \"10\"\n",
    "my_num = int(my_string) # this will convert \"10\" to int 10\n",
    "print(type(my_num)) # output will be class 'int'"
   ]
  },
  {
   "cell_type": "code",
   "execution_count": 10,
   "id": "7cdb5433",
   "metadata": {},
   "outputs": [
    {
     "name": "stdout",
     "output_type": "stream",
     "text": [
      "<class 'str'>\n"
     ]
    }
   ],
   "source": [
    "# Similarly you can convert an int to a string, 10 to \"10\"\n",
    "# by casting it to a string\n",
    "my_new_string = str(my_num) # this will convert 10 to \"10\"\n",
    "print(type(my_new_string)) # output will be class 'str'"
   ]
  },
  {
   "cell_type": "code",
   "execution_count": 11,
   "id": "71030110",
   "metadata": {},
   "outputs": [
    {
     "name": "stdout",
     "output_type": "stream",
     "text": [
      "Welcome to the multiplication program\n",
      "------------------------------\n",
      "4\n"
     ]
    }
   ],
   "source": [
    "# using input from the user using the input function\n",
    "print(\"Welcome to the multiplication program\")\n",
    "print(\"-\"*30)\n",
    "num_1 = int(input(\"Enter a number to multiply-> \"))\n",
    "num_2 = int(input(\"Enter a second number to multiply-> \"))\n",
    "result = num_1 * num_2\n",
    "print(result)\n"
   ]
  },
  {
   "cell_type": "code",
   "execution_count": 7,
   "id": "7080d9ae",
   "metadata": {},
   "outputs": [
    {
     "name": "stdout",
     "output_type": "stream",
     "text": [
      "number 12 is even\n"
     ]
    }
   ],
   "source": [
    "\"\"\"\n",
    "Question 1:\n",
    "A way to test if a number, let's say num, is even or odd is to use the mod operator\n",
    " and check the remainder when mod of 2 is used on the number.\n",
    " So if num % 2  is 1, is the number even or odd? \n",
    " What if num % 2 is 0, is the number even or odd?\n",
    "\"\"\"\n",
    "num = int(input(\"Enter number to check if it is even/odd: \"))\n",
    "if (num % 2 == 0): \n",
    "    print(f'number {num} is even')\n",
    "elif (num % 2 == 1): print(f'number {num} is odd')\n",
    "\n",
    "else:\n",
    "    print(f'{num} is not a number')\n"
   ]
  },
  {
   "attachments": {},
   "cell_type": "markdown",
   "id": "1433045d",
   "metadata": {},
   "source": [
    "## Maths"
   ]
  },
  {
   "cell_type": "code",
   "execution_count": 2,
   "id": "620f3454",
   "metadata": {},
   "outputs": [
    {
     "data": {
      "text/plain": [
       "5.0"
      ]
     },
     "execution_count": 2,
     "metadata": {},
     "output_type": "execute_result"
    }
   ],
   "source": [
    "20 / 4"
   ]
  },
  {
   "cell_type": "code",
   "execution_count": 3,
   "id": "20679daa",
   "metadata": {},
   "outputs": [
    {
     "data": {
      "text/plain": [
       "8.0"
      ]
     },
     "execution_count": 3,
     "metadata": {},
     "output_type": "execute_result"
    }
   ],
   "source": [
    "4 + 4.0"
   ]
  },
  {
   "cell_type": "code",
   "execution_count": 4,
   "id": "1715beac",
   "metadata": {},
   "outputs": [
    {
     "data": {
      "text/plain": [
       "16.0"
      ]
     },
     "execution_count": 4,
     "metadata": {},
     "output_type": "execute_result"
    }
   ],
   "source": [
    "4 * 4.0"
   ]
  },
  {
   "cell_type": "code",
   "execution_count": 5,
   "id": "2b5bc9df",
   "metadata": {},
   "outputs": [
    {
     "data": {
      "text/plain": [
       "256.0"
      ]
     },
     "execution_count": 5,
     "metadata": {},
     "output_type": "execute_result"
    }
   ],
   "source": [
    "4 ** 4.0"
   ]
  },
  {
   "cell_type": "code",
   "execution_count": 6,
   "id": "638697a4",
   "metadata": {},
   "outputs": [
    {
     "data": {
      "text/plain": [
       "256"
      ]
     },
     "execution_count": 6,
     "metadata": {},
     "output_type": "execute_result"
    }
   ],
   "source": [
    "int(4 ** 4.0)"
   ]
  },
  {
   "cell_type": "code",
   "execution_count": 7,
   "id": "4fd9aa8c",
   "metadata": {},
   "outputs": [
    {
     "data": {
      "text/plain": [
       "8"
      ]
     },
     "execution_count": 7,
     "metadata": {},
     "output_type": "execute_result"
    }
   ],
   "source": [
    "int(8.9)"
   ]
  },
  {
   "cell_type": "code",
   "execution_count": 8,
   "id": "d364df95",
   "metadata": {},
   "outputs": [
    {
     "data": {
      "text/plain": [
       "8"
      ]
     },
     "execution_count": 8,
     "metadata": {},
     "output_type": "execute_result"
    }
   ],
   "source": [
    "int(8.99999999)"
   ]
  },
  {
   "cell_type": "code",
   "execution_count": 9,
   "id": "bab7fcd4",
   "metadata": {},
   "outputs": [
    {
     "data": {
      "text/plain": [
       "4"
      ]
     },
     "execution_count": 9,
     "metadata": {},
     "output_type": "execute_result"
    }
   ],
   "source": [
    "int(14/3)"
   ]
  },
  {
   "cell_type": "code",
   "execution_count": 11,
   "id": "6d7617e5",
   "metadata": {},
   "outputs": [
    {
     "data": {
      "text/plain": [
       "4.67"
      ]
     },
     "execution_count": 11,
     "metadata": {},
     "output_type": "execute_result"
    }
   ],
   "source": [
    "round(14/3, 2)"
   ]
  },
  {
   "cell_type": "code",
   "execution_count": 12,
   "id": "397778a3",
   "metadata": {},
   "outputs": [
    {
     "data": {
      "text/plain": [
       "0.19999999999999996"
      ]
     },
     "execution_count": 12,
     "metadata": {},
     "output_type": "execute_result"
    }
   ],
   "source": [
    "1.2 - 1.0"
   ]
  },
  {
   "cell_type": "code",
   "execution_count": 13,
   "id": "a5e9a0d1",
   "metadata": {},
   "outputs": [
    {
     "data": {
      "text/plain": [
       "4.666666666666667"
      ]
     },
     "execution_count": 13,
     "metadata": {},
     "output_type": "execute_result"
    }
   ],
   "source": [
    "14/3"
   ]
  },
  {
   "cell_type": "code",
   "execution_count": 15,
   "id": "d3e4911c",
   "metadata": {},
   "outputs": [
    {
     "data": {
      "text/plain": [
       "0.2"
      ]
     },
     "execution_count": 15,
     "metadata": {},
     "output_type": "execute_result"
    }
   ],
   "source": [
    "round(1.2 - 1.0, 2)"
   ]
  },
  {
   "attachments": {},
   "cell_type": "markdown",
   "id": "d983067e",
   "metadata": {},
   "source": [
    "## Assignment"
   ]
  },
  {
   "cell_type": "code",
   "execution_count": null,
   "id": "0b35e06d",
   "metadata": {},
   "outputs": [],
   "source": [
    "'''\n",
    "Question 1: \n",
    "Given the 4 numbers below, fill in the code\n",
    "for the 8 lines below to provide the appropriate output\n",
    "'''\n",
    "num_1 = 10\n",
    "num_2 = 300\n",
    "num_3 = 27.0\n",
    "num_4 = -10\n",
    "print(f\"Calculations section:\\nnum_1-> {num_1}\\nnum_2-> {num_2}\\nnum_3-> {num_3}\\nnum_4-> {num_4}\")\n",
    "print(f\"{num_1} multiplied by {num_2} is: **fill in the code here**\")\n",
    "print(f\"{num_3} divided by {num_1} is: **fill in the code here**\")\n",
    "print(f\"If I use floor division instead I get: **fill in the code here**\")\n",
    "print(f\"The absolute value of {num_4} is: **fill in the code here**\")\n",
    "print(f\"I converted {num_1} and {num_2} to strings, if I add them I get: **fill in the code here**\")\n",
    "print(f\"{num_4} is of the **fill in the code here** class\")\n",
    "print(\"-\"*40)\n",
    "print()"
   ]
  },
  {
   "cell_type": "code",
   "execution_count": 10,
   "id": "76d8087f",
   "metadata": {},
   "outputs": [
    {
     "name": "stdout",
     "output_type": "stream",
     "text": [
      "Calculations section:\n",
      "num_1-> 10\n",
      "num_2-> 300\n",
      "num_3-> 27.0\n",
      "num_4-> -10\n",
      "10 multiplied by 300 is: 3000\n",
      "27.0 divided by 10 is: 2.7\n",
      "If I use floor division instead I get: **fill in the code here**\n",
      "The absolute value of -10 is: 10\n",
      "I converted 10 and 300 to strings, if I add them I get: 10 and 300\n",
      "-10 is of the <class 'int'> class\n",
      "----------------------------------------\n",
      "\n"
     ]
    }
   ],
   "source": [
    "'''\n",
    "Solution 1: \n",
    "Given the 4 numbers below, fill in the code\n",
    "for the 8 lines below to provide the appropriate output\n",
    "'''\n",
    "num_1 = 10\n",
    "num_2 = 300\n",
    "num_3 = 27.0\n",
    "num_4 = -10\n",
    "print(f\"Calculations section:\\nnum_1-> {num_1}\\nnum_2-> {num_2}\\nnum_3-> {num_3}\\nnum_4-> {num_4}\")\n",
    "print(f\"{num_1} multiplied by {num_2} is: {num_1*num_2}\")\n",
    "print(f\"{num_3} divided by {num_1} is: {num_3/num_1}\")\n",
    "print(f\"If I use floor division instead I get: **fill in the code here**\")\n",
    "print(f\"The absolute value of {num_4} is: {abs(num_4)}\")\n",
    "print(f\"I converted {num_1} and {num_2} to strings, if I add them I get: {str(num_1)} and {str(num_2)}\")\n",
    "print(f\"{num_4} is of the {type(num_4)} class\")\n",
    "print(\"-\"*40)\n",
    "print()"
   ]
  },
  {
   "cell_type": "code",
   "execution_count": 3,
   "id": "433935f6",
   "metadata": {},
   "outputs": [
    {
     "name": "stdout",
     "output_type": "stream",
     "text": [
      "Added: Price updater\n",
      "Begin: 17:30:00\n",
      "End: 18:30:00\n",
      "----------------------------------------\n",
      "\n"
     ]
    }
   ],
   "source": [
    "'''\n",
    "Question 2a: Use two tabs to separate the evaluated variables in the string\n",
    "below. \n",
    "Expected output:\n",
    "Added:     Price updater\n",
    "Begin:     17:30:00\n",
    "End:       18:30:00\n",
    "'''\n",
    "name_of_job = \"Price updater\"\n",
    "begin_time = \"17:30:00\"\n",
    "end_time = \"18:30:00\"\n",
    "print(f\"Added: {name_of_job}\")\n",
    "print(f\"Begin: {begin_time}\")\n",
    "print(f\"End: {end_time}\")\n",
    "print(\"-\"*40)\n",
    "print()"
   ]
  },
  {
   "cell_type": "code",
   "execution_count": null,
   "id": "ed52d801",
   "metadata": {},
   "outputs": [
    {
     "name": "stdout",
     "output_type": "stream",
     "text": [
      "Added:\t\t Price updater\n",
      "Begin:\t\t 17:30:00\n",
      "End:\t\t 18:30:00\n",
      "----------------------------------------\n",
      "\n"
     ]
    }
   ],
   "source": [
    "'''\n",
    "Solution 2a: Use two tabs to separate the evaluated variables in the string\n",
    "below. \n",
    "Expected output:\n",
    "Added:     Price updater\n",
    "Begin:     17:30:00\n",
    "End:       18:30:00\n",
    "'''\n",
    "name_of_job = \"Price updater\"\n",
    "begin_time = \"17:30:00\"\n",
    "end_time = \"18:30:00\"\n",
    "print(f\"Added:\\t\\t {name_of_job}\")\n",
    "print(f\"Begin:\\t\\t {begin_time}\")\n",
    "print(f\"End:\\t\\t {end_time}\")\n",
    "print(\"-\"*40)\n",
    "print()"
   ]
  },
  {
   "cell_type": "code",
   "execution_count": 4,
   "id": "357fb687",
   "metadata": {},
   "outputs": [
    {
     "name": "stdout",
     "output_type": "stream",
     "text": [
      "Added: Price updater Begin: 17:30:00 End: 18:30:00\n",
      "----------------------------------------\n",
      "\n"
     ]
    }
   ],
   "source": [
    "'''\n",
    "Question 2b: Use new lines in addition to the two tabs noted above to\n",
    "separate the evaluated variables in the string below.\n",
    "Expected output:\n",
    "Added:     Price updater\n",
    "Begin:     17:30:00\n",
    "End:       18:30:00\n",
    "'''\n",
    "print(f\"Added: {name_of_job} Begin: {begin_time} End: {end_time}\")\n",
    "print(\"-\"*40)\n",
    "print()"
   ]
  },
  {
   "cell_type": "code",
   "execution_count": 5,
   "id": "b4950a9f",
   "metadata": {},
   "outputs": [
    {
     "name": "stdout",
     "output_type": "stream",
     "text": [
      "Added:\t\tPrice updater \n",
      "Begin: \t\t17:30:00 \n",
      "End: \t\t18:30:00\n",
      "----------------------------------------\n",
      "\n"
     ]
    }
   ],
   "source": [
    "'''\n",
    "Solution 2b: Use new lines in addition to the two tabs noted above to\n",
    "separate the evaluated variables in the string below.\n",
    "Expected output:\n",
    "Added:     Price updater\n",
    "Begin:     17:30:00\n",
    "End:       18:30:00\n",
    "'''\n",
    "print(f\"Added:\\t\\t{name_of_job} \\nBegin: \\t\\t{begin_time} \\nEnd: \\t\\t{end_time}\")\n",
    "print(\"-\"*40)\n",
    "print()"
   ]
  },
  {
   "cell_type": "code",
   "execution_count": 6,
   "id": "ceb31ce2",
   "metadata": {},
   "outputs": [
    {
     "name": "stdout",
     "output_type": "stream",
     "text": [
      "Price updater scheduled to begin at 17:30:00 and end at 18:30:00\n",
      "----------------------------------------\n",
      "\n"
     ]
    }
   ],
   "source": [
    "# Question 3: Use the .format method to update the line below\n",
    "print(name_of_job, \"scheduled to begin at\", begin_time, \"and end at\", end_time)\n",
    "print(\"-\"*40)\n",
    "print()"
   ]
  },
  {
   "cell_type": "code",
   "execution_count": 7,
   "id": "c9cd217c",
   "metadata": {},
   "outputs": [
    {
     "name": "stdout",
     "output_type": "stream",
     "text": [
      "Price updater scheduled to begin at 17:30:00 and end at 18:30:00\n",
      "Price updater scheduled to begin at 17:30:00 and end at 18:30:00\n",
      "----------------------------------------\n",
      "\n"
     ]
    }
   ],
   "source": [
    "# Solution 3: Use the .format method to update the line below\n",
    "print(name_of_job, \"scheduled to begin at\", begin_time, \"and end at\", end_time)\n",
    "print(\"{} scheduled to begin at {} and end at {}\".format(name_of_job,begin_time,end_time))\n",
    "print(\"-\"*40)\n",
    "print()"
   ]
  },
  {
   "cell_type": "code",
   "execution_count": null,
   "id": "5f71c865",
   "metadata": {},
   "outputs": [],
   "source": [
    "# Question 4: Use the pow function from math module to evaluate 2 to the\n",
    "# power of 5, or 2^5\n",
    "import math\n",
    "print(\"2 to the power of 5 is listed below...\")\n",
    "print(\"**fill in code here**\")\n",
    "print(\"-\"*40)\n",
    "print()"
   ]
  },
  {
   "cell_type": "code",
   "execution_count": 8,
   "id": "73fd33f0",
   "metadata": {},
   "outputs": [
    {
     "name": "stdout",
     "output_type": "stream",
     "text": [
      "2 to the power of 5 is listed below...\n",
      "32.0\n",
      "----------------------------------------\n",
      "\n"
     ]
    }
   ],
   "source": [
    "# Solution 4: Use the pow function from math module to evaluate 2 to the\n",
    "# power of 5, or 2^5\n",
    "import math\n",
    "print(\"2 to the power of 5 is listed below...\")\n",
    "print(math.pow(2,5)) #Return x**y (x to the power of y).\n",
    "print(\"-\"*40)\n",
    "print()"
   ]
  },
  {
   "cell_type": "code",
   "execution_count": 9,
   "id": "e873dd1e",
   "metadata": {},
   "outputs": [
    {
     "name": "stdout",
     "output_type": "stream",
     "text": [
      "log base 2 of 32 is listed below...\n",
      "5.0\n",
      "----------------------------------------\n",
      "\n"
     ]
    }
   ],
   "source": [
    "# Question 5: Use the log2 function from math module to evalute log base 2\n",
    "# of 32\n",
    "from math import log2\n",
    "print(\"log base 2 of 32 is listed below...\")\n",
    "print(log2(32))\n",
    "print(\"-\"*40)\n",
    "print()\n"
   ]
  },
  {
   "cell_type": "code",
   "execution_count": null,
   "id": "b0c05ff6",
   "metadata": {},
   "outputs": [],
   "source": [
    "'''\n",
    "Question 6: Use slicing notation to print the last 6 letters of the string\n",
    "below. Assume you donot know the start index or the length of the string upfront.\n",
    "Hint: You will need to use a function to find the length first and then use that,\n",
    "in combination with the number to come up with the start index\n",
    "'''\n",
    "welcome_message = \"Hello and welcome to the land of Python\"\n",
    "print(f\"The last 6 letters of the welcome message:\\n'{welcome_message}'\\nare: '**fill in the code here**'\")\n"
   ]
  },
  {
   "cell_type": "code",
   "execution_count": 12,
   "id": "edc9d78f",
   "metadata": {},
   "outputs": [
    {
     "name": "stdout",
     "output_type": "stream",
     "text": [
      "Python\n"
     ]
    },
    {
     "data": {
      "text/plain": [
       "39"
      ]
     },
     "execution_count": 12,
     "metadata": {},
     "output_type": "execute_result"
    }
   ],
   "source": [
    "'''\n",
    "Solution 6: Use slicing notation to print the last 6 letters of the string\n",
    "below. Assume you donot know the start index or the length of the string upfront.\n",
    "Hint: You will need to use a function to find the length first and then use that,\n",
    "in combination with the number to come up with the start index\n",
    "'''\n",
    "welcome_message = \"Hello and welcome to the land of Python\"\n",
    "# print(f\"The last 6 letters of the welcome message:\\n'{welcome_message}'\\nare: '**fill in the code here**'\")\n",
    "print(welcome_message[len(welcome_message)-6::]) \n",
    "# welcome_message[39-6]:empty(i.e till end):empty(i.e one step right)\n"
   ]
  },
  {
   "cell_type": "code",
   "execution_count": null,
   "id": "3730a99d",
   "metadata": {},
   "outputs": [],
   "source": []
  }
 ],
 "metadata": {
  "kernelspec": {
   "display_name": "Python 3 (ipykernel)",
   "language": "python",
   "name": "python3"
  },
  "language_info": {
   "codemirror_mode": {
    "name": "ipython",
    "version": 3
   },
   "file_extension": ".py",
   "mimetype": "text/x-python",
   "name": "python",
   "nbconvert_exporter": "python",
   "pygments_lexer": "ipython3",
   "version": "3.10.11"
  }
 },
 "nbformat": 4,
 "nbformat_minor": 5
}
