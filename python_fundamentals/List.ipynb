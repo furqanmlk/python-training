{
 "cells": [
  {
   "attachments": {},
   "cell_type": "markdown",
   "id": "aec5c7a9",
   "metadata": {},
   "source": [
    "## Lists\n",
    "> __[List Official Documentation](https://docs.python.org/3/tutorial/datastructures.html#more-on-lists)__"
   ]
  },
  {
   "attachments": {},
   "cell_type": "markdown",
   "id": "6b95c52f",
   "metadata": {},
   "source": [
    "### List Slicing\n",
    "> slicing with three parameters: start, stop, and step."
   ]
  },
  {
   "cell_type": "code",
   "execution_count": 2,
   "id": "f3869ca7",
   "metadata": {},
   "outputs": [
    {
     "data": {
      "text/plain": [
       "[4, 5]"
      ]
     },
     "execution_count": 2,
     "metadata": {},
     "output_type": "execute_result"
    }
   ],
   "source": [
    "# To retrieve all the elements of myList starting from the index 3 (inclusive) to the end of the list\n",
    "myList = [1,2,3,4,5]\n",
    "myList[3:]"
   ]
  },
  {
   "cell_type": "code",
   "execution_count": 3,
   "id": "e6fef4b7",
   "metadata": {},
   "outputs": [
    {
     "data": {
      "text/plain": [
       "[1, 3, 5]"
      ]
     },
     "execution_count": 3,
     "metadata": {},
     "output_type": "execute_result"
    }
   ],
   "source": [
    "# It will return a new list containing elements from myList starting at index 0, \n",
    "# up to (but not including) index 6, with a step size of 2. \n",
    "myList[0:6:2]"
   ]
  },
  {
   "cell_type": "code",
   "execution_count": 4,
   "id": "6d587461",
   "metadata": {},
   "outputs": [
    {
     "data": {
      "text/plain": [
       "[1, 4]"
      ]
     },
     "execution_count": 4,
     "metadata": {},
     "output_type": "execute_result"
    }
   ],
   "source": [
    "# Remeber slice[start : stop : step]\n",
    "myList[0:6:3]"
   ]
  },
  {
   "cell_type": "code",
   "execution_count": 5,
   "id": "3103c64d",
   "metadata": {},
   "outputs": [
    {
     "data": {
      "text/plain": [
       "[1, 3, 5]"
      ]
     },
     "execution_count": 5,
     "metadata": {},
     "output_type": "execute_result"
    }
   ],
   "source": [
    "# Remeber slice[start : stop : step]\n",
    "# It will geneate new list that contains elements from myList starting \n",
    "# at the first index (0) up to the end, \n",
    "# but only including every second element. \n",
    "# Therefore, the resulting slice will include elements at indices 0, 2, and 4.\n",
    "# Output : [1, 3, 5]\n",
    "myList[::2]"
   ]
  },
  {
   "cell_type": "code",
   "execution_count": null,
   "id": "3dc127d5",
   "metadata": {},
   "outputs": [],
   "source": [
    "for i in range(100):\n",
    "    print(i)"
   ]
  },
  {
   "cell_type": "code",
   "execution_count": 6,
   "id": "57f1b769",
   "metadata": {},
   "outputs": [],
   "source": [
    "myList = list(range(100))"
   ]
  },
  {
   "cell_type": "code",
   "execution_count": 10,
   "id": "6b968843",
   "metadata": {},
   "outputs": [
    {
     "data": {
      "text/plain": [
       "[0, 10, 20, 30, 40, 50, 60, 70, 80, 90]"
      ]
     },
     "execution_count": 10,
     "metadata": {},
     "output_type": "execute_result"
    }
   ],
   "source": [
    "# It will geneate new list that contains elements from myList starting \n",
    "# at the first index (0) up to the end, \n",
    "# but only including every 10th element.\n",
    "# i.e (starting from 0 keep adding 10 till 99 element)\n",
    "myList[::10]"
   ]
  },
  {
   "cell_type": "code",
   "execution_count": 7,
   "id": "d6b81548",
   "metadata": {},
   "outputs": [
    {
     "data": {
      "text/plain": [
       "[99, 89, 79, 69, 59, 49, 39, 29, 19, 9]"
      ]
     },
     "execution_count": 7,
     "metadata": {},
     "output_type": "execute_result"
    }
   ],
   "source": [
    "# myList is a list that contains the numbers from 0 to 99: [0, 1, 2, 3, ..., 99].\n",
    "# Below code retrieves a new list that contains elements from myList \n",
    "# starting at the last index (-1) and going towards the beginning of the list, \n",
    "# including every 10th element. \n",
    "# i.e (starting from 99 keep subtracting 10 till 0 element)\n",
    "myList[::-10]"
   ]
  },
  {
   "attachments": {},
   "cell_type": "markdown",
   "id": "d138451b",
   "metadata": {},
   "source": [
    "### Modifying Lists"
   ]
  },
  {
   "cell_type": "code",
   "execution_count": 17,
   "id": "5c065aff",
   "metadata": {},
   "outputs": [
    {
     "name": "stdout",
     "output_type": "stream",
     "text": [
      "[1, 2, 3, 4, 5]\n"
     ]
    }
   ],
   "source": [
    "# mylist.append(element): Adds an element to the end of the list.\n",
    "myList = [1,2,3,4]\n",
    "myList.append(5)\n",
    "print(myList)"
   ]
  },
  {
   "cell_type": "code",
   "execution_count": 36,
   "id": "515e2068",
   "metadata": {},
   "outputs": [],
   "source": [
    "# myList.extend(iterable): The extend() method is used to add multiple elements to a list \n",
    "# from an iterable such as another list, tuple, or string. \n",
    "# It also modifies the list in place and does not return a new list. \n",
    "# The elements in the iterable are individually added to the list.\n",
    "\n",
    "myList = [1, 2, 3]\n",
    "myList.extend([4, 5, 6])\n",
    "print(myList)  # Output: [1, 2, 3, 4, 5, 6]\n"
   ]
  },
  {
   "cell_type": "code",
   "execution_count": null,
   "id": "26536e0b",
   "metadata": {},
   "outputs": [],
   "source": [
    "# append vs extend\n",
    "'''\n",
    "The key difference between append() and extend() is that,\n",
    "append() adds a single element to the end of the list, \n",
    "extend() adds each individual element from an iterable to the end of the list.\n",
    "\n",
    "If you want to add a single element as a separate item, use append(). \n",
    "If you want to add multiple elements from an iterable, use extend().\n",
    "'''"
   ]
  },
  {
   "cell_type": "code",
   "execution_count": 18,
   "id": "93e06c86",
   "metadata": {},
   "outputs": [
    {
     "name": "stdout",
     "output_type": "stream",
     "text": [
      "[1, 2, 3, 'a new value', 4, 5]\n"
     ]
    }
   ],
   "source": [
    "# myList.insert(index, element): Inserts an element at a specific position in the list.\n",
    "myList.insert(3, 'a new value')\n",
    "print(myList)"
   ]
  },
  {
   "cell_type": "code",
   "execution_count": 13,
   "id": "860ff53b",
   "metadata": {},
   "outputs": [
    {
     "ename": "ValueError",
     "evalue": "list.remove(x): x not in list",
     "output_type": "error",
     "traceback": [
      "\u001b[0;31m---------------------------------------------------------------------------\u001b[0m",
      "\u001b[0;31mValueError\u001b[0m                                Traceback (most recent call last)",
      "Cell \u001b[0;32mIn[13], line 2\u001b[0m\n\u001b[1;32m      1\u001b[0m \u001b[39m# myList.remove(element): Removes the first occurrence of a specified element from the list.\u001b[39;00m\n\u001b[0;32m----> 2\u001b[0m myList\u001b[39m.\u001b[39;49mremove(\u001b[39m'\u001b[39;49m\u001b[39mvalue not exist\u001b[39;49m\u001b[39m'\u001b[39;49m)\n",
      "\u001b[0;31mValueError\u001b[0m: list.remove(x): x not in list"
     ]
    }
   ],
   "source": [
    "# myList.remove(element): Removes the first occurrence of a specified element from the list.\n",
    "# Throws ValueError if values does not exists\n",
    "\n",
    "myList.remove('value not exist')"
   ]
  },
  {
   "cell_type": "code",
   "execution_count": 19,
   "id": "83863968",
   "metadata": {},
   "outputs": [
    {
     "data": {
      "text/plain": [
       "[1, 2, 3, 4, 5]"
      ]
     },
     "execution_count": 19,
     "metadata": {},
     "output_type": "execute_result"
    }
   ],
   "source": [
    "# myList.remove(element): Removes the first occurrence of a specified element from the list.\n",
    "myList.remove('a new value')\n",
    "myList"
   ]
  },
  {
   "cell_type": "code",
   "execution_count": 20,
   "id": "d5a8f0cd",
   "metadata": {},
   "outputs": [
    {
     "data": {
      "text/plain": [
       "[1, 2, 3, 4]"
      ]
     },
     "execution_count": 20,
     "metadata": {},
     "output_type": "execute_result"
    }
   ],
   "source": [
    "# myList.pop([index]): Removes and returns the element at the specified index. If no index is \n",
    "# provided, it removes and returns the last element.\n",
    "myList.pop()\n",
    "myList"
   ]
  },
  {
   "cell_type": "code",
   "execution_count": 25,
   "id": "2356b2a6",
   "metadata": {},
   "outputs": [
    {
     "name": "stdout",
     "output_type": "stream",
     "text": [
      "4\n",
      "3\n",
      "2\n",
      "1\n",
      "0\n"
     ]
    },
    {
     "data": {
      "text/plain": [
       "[]"
      ]
     },
     "execution_count": 25,
     "metadata": {},
     "output_type": "execute_result"
    }
   ],
   "source": [
    "# Remove list element using pop method\n",
    "# Notice that it returns list in reverse order :)\n",
    "for i in range(5): myList.append(i) # myList[0,1,2,3,4]\n",
    "\n",
    "while len(myList):\n",
    "    print(myList.pop()) #pop removes last item and returns it\n",
    "\n",
    "# Empty list\n",
    "myList"
   ]
  },
  {
   "cell_type": "code",
   "execution_count": 26,
   "id": "501f1468",
   "metadata": {},
   "outputs": [
    {
     "name": "stdout",
     "output_type": "stream",
     "text": [
      "[1, 2, 3, 4, 5, 6]\n"
     ]
    }
   ],
   "source": [
    "# Note that b is not a copy of a; \n",
    "# it is just another reference to the same list object in memory. \n",
    "a = [1,2,3,4,5]\n",
    "b = a # both a and b now point to the same list.\n",
    "a.append(6) \n",
    "print(b)"
   ]
  },
  {
   "cell_type": "code",
   "execution_count": 23,
   "id": "89a368d1",
   "metadata": {},
   "outputs": [
    {
     "name": "stdout",
     "output_type": "stream",
     "text": [
      "[1, 2, 3, 4, 5, 6]\n",
      "[1, 2, 3, 4, 5]\n"
     ]
    }
   ],
   "source": [
    "# list.copy() returns a copy of the list\n",
    "a = [1,2,3,4,5]\n",
    "b = a.copy() # Both a and b poiting to different list same value\n",
    "a.append(6) # Only 6 is added list \"a\"\n",
    "print(a) # list will contain 6\n",
    "print(b) # list will not contain 6"
   ]
  },
  {
   "cell_type": "code",
   "execution_count": null,
   "id": "d6c1f222",
   "metadata": {},
   "outputs": [],
   "source": [
    "# myList.count(element) \"counts the number of occurrences of the specified element in the list\". \n",
    "# In the example below, we count the number of occurrences of the element 2 in myList, which returns 3.\n",
    "myList = [1, 2, 3, 4, 2, 1, 2, 5]\n",
    "count = myList.count(2)\n",
    "print(count)  # Output: 3"
   ]
  },
  {
   "cell_type": "code",
   "execution_count": null,
   "id": "46e3a583",
   "metadata": {},
   "outputs": [],
   "source": [
    "# myList.reverse() reverses the order of elements in the list. \n",
    "# In the example below, we reverse the order of elements in myList.\n",
    "myList = [1, 2, 3, 4, 5]\n",
    "myList.reverse()\n",
    "print(myList)  # Output: [5, 4, 3, 2, 1]"
   ]
  },
  {
   "cell_type": "code",
   "execution_count": null,
   "id": "7c307e2c",
   "metadata": {},
   "outputs": [],
   "source": [
    "# myList.clear() removes all elements from the list, \n",
    "# effectively emptying it. In the example below, we clear all elements from myList.\n",
    "myList = [1, 2, 3, 4, 5]\n",
    "myList.clear()\n",
    "print(myList)  # Output: []"
   ]
  },
  {
   "cell_type": "code",
   "execution_count": null,
   "id": "3502d4a1",
   "metadata": {},
   "outputs": [],
   "source": [
    "# min(myList) returns the smallest element in the list, \n",
    "# max(myList) returns the largest element. \n",
    "# In the example below, we find the minimum and maximum values in myList.\n",
    "myList = [3, 6, 2, 8, 1]\n",
    "minimum = min(myList)\n",
    "maximum = max(myList)\n",
    "print(minimum)  # Output: 1\n",
    "print(maximum)  # Output: 8"
   ]
  },
  {
   "cell_type": "code",
   "execution_count": null,
   "id": "a4730304",
   "metadata": {},
   "outputs": [],
   "source": [
    "# myList.index(element) returns the index of the first occurrence of the specified element in the list. \n",
    "# In the example below, we find the index of the element 30 in myList, which returns 2.\n",
    "myList = [10, 20, 30, 40, 50]\n",
    "index = myList.index(30)\n",
    "print(index)  # Output: 2"
   ]
  },
  {
   "cell_type": "code",
   "execution_count": null,
   "id": "5f6b0cb8",
   "metadata": {},
   "outputs": [],
   "source": [
    "# the \"in\" operator is used to check if a value is present in a list. \n",
    "# It returns a boolean value of True if the value is found in the list and False otherwise.\n",
    "myList = [1, 2, 3, 4, 5]\n",
    "\n",
    "print(3 in myList)  # Output: True\n",
    "print(6 in myList)  # Output: False\n"
   ]
  },
  {
   "cell_type": "code",
   "execution_count": null,
   "id": "980a95e9",
   "metadata": {},
   "outputs": [],
   "source": [
    "# myList.sort() is a method that sorts the elements of a list in ascending order in-place. \n",
    "# In the example below , myList.sort() sorts the elements of myList in ascending order, \n",
    "# modifying the list directly.\n",
    "myList = [5, 2, 8, 1, 3]\n",
    "myList.sort()\n",
    "print(myList)  # Output: [1, 2, 3, 5, 8]"
   ]
  },
  {
   "cell_type": "code",
   "execution_count": null,
   "id": "205e1fea",
   "metadata": {},
   "outputs": [],
   "source": [
    "# sorted() is a built-in function that returns a new list containing the sorted elements of the input list. \n",
    "# It does not modify the original list\n",
    "myList = [5, 2, 8, 1, 3]\n",
    "sortedList = sorted(myList)\n",
    "print(sortedList)  # Output: [1, 2, 3, 5, 8]"
   ]
  },
  {
   "cell_type": "code",
   "execution_count": 33,
   "id": "fa62943a",
   "metadata": {},
   "outputs": [
    {
     "name": "stdout",
     "output_type": "stream",
     "text": [
      "True\n"
     ]
    }
   ],
   "source": [
    "my_list = [903,373,223,4031,2033,535,677,601,403,340,370,352,441,293,567,8888,1031,788,161]\n",
    "## Write your code below, 1 line\n",
    "my_sorted_list = sorted(my_list)\n",
    "my_list.sort()\n",
    "print(my_sorted_list == my_list)\n"
   ]
  },
  {
   "attachments": {},
   "cell_type": "markdown",
   "id": "345ce831",
   "metadata": {},
   "source": [
    "## List Comprehensions\n",
    "\n",
    "> list comprehension is a concise way to create lists based on existing lists or other iterable objects. It allows you to combine loops and conditional statements in a single line, resulting in a more compact and readable code. \n",
    "**new_list = [expression for item in iterable if condition]**\n",
    "Here's an explanation of the list comprehension syntax and an example:"
   ]
  },
  {
   "cell_type": "code",
   "execution_count": 1,
   "id": "1ac3c215",
   "metadata": {},
   "outputs": [
    {
     "data": {
      "text/plain": [
       "[2, 4, 6, 8, 10]"
      ]
     },
     "execution_count": 1,
     "metadata": {},
     "output_type": "execute_result"
    }
   ],
   "source": [
    "# Any expression, you want to repeat with or without condition\n",
    "# use list comprehension\n",
    "# Here we want to assign X**2 (x power 2) to list\n",
    "# where x should be even from numbers list\n",
    "numbers = [1, 2, 3, 4, 5, 6, 7, 8, 9, 10]\n",
    "squared_evens = [x**2 for x in numbers if x % 2 == 0]\n",
    "print(squared_evens)\n"
   ]
  },
  {
   "cell_type": "code",
   "execution_count": null,
   "id": "c6f929b5",
   "metadata": {},
   "outputs": [],
   "source": [
    "# You can generate a list of random integers using the range function\n",
    "# in combination with the randint function from the random module\n",
    "from random import randint\n",
    "l1 = []\n",
    "for num in range(25):\n",
    "    l1.append(randint(1, 100))\n",
    "print(l1)\n",
    "print(len(l1)) # Checking the number of integers generated"
   ]
  },
  {
   "cell_type": "code",
   "execution_count": null,
   "id": "a49b59ca",
   "metadata": {},
   "outputs": [],
   "source": [
    "# You can do the same using list comprehension in 1 line below\n",
    "# newList = [expression for item in iterable if condition]\n",
    "l1 = [randint(1,100) for num in range(25)]\n",
    "\n",
    "print(l1)\n",
    "print(len(l1)) # Checking the number of integers generated"
   ]
  },
  {
   "cell_type": "code",
   "execution_count": 27,
   "id": "6daa94d8",
   "metadata": {},
   "outputs": [
    {
     "name": "stdout",
     "output_type": "stream",
     "text": [
      "True\n",
      "False\n",
      "True\n"
     ]
    }
   ],
   "source": [
    "# The all() function in Python is a built-in function that returns True if all elements \n",
    "# in an iterable are considered \"truthy\" (evaluate to True), \n",
    "# or if the iterable is empty. Otherwise, it returns False.\n",
    "\n",
    "# Since all elements satisfy the condition, the all() function returns True\n",
    "numbers = [2, 4, 6, 8, 10]\n",
    "result = all(num % 2 == 0 for num in numbers)\n",
    "print(result)  # Output: True\n",
    "\n",
    "# Not all numbers in numbers satisfy the condition of being even, \n",
    "# so the all() function returns False.\n",
    "numbers = [2, 4, 6, 7, 8, 10]\n",
    "result = all(num % 2 == 0 for num in numbers)\n",
    "print(result)  # Output: False\n",
    "\n",
    "\n",
    "# Since there are no elements to evaluate, \n",
    "# the all() function returns True. \n",
    "# This is because there are no elements that would make the condition false.\n",
    "empty_list = []\n",
    "result = all(empty_list)\n",
    "print(result)  # Output: True"
   ]
  },
  {
   "attachments": {},
   "cell_type": "markdown",
   "id": "21948942",
   "metadata": {},
   "source": [
    "### List comprehensions with filters"
   ]
  },
  {
   "cell_type": "code",
   "execution_count": 3,
   "id": "4d3e4c21",
   "metadata": {},
   "outputs": [
    {
     "data": {
      "text/plain": [
       "[0, 10, 20, 30, 40, 50, 60, 70, 80, 90]"
      ]
     },
     "execution_count": 3,
     "metadata": {},
     "output_type": "execute_result"
    }
   ],
   "source": [
    "myList = list(range(100))\n",
    "filteredList = [item for item in myList if item % 10 == 0]\n",
    "filteredList"
   ]
  },
  {
   "cell_type": "code",
   "execution_count": 5,
   "id": "677c0c15",
   "metadata": {},
   "outputs": [
    {
     "name": "stdout",
     "output_type": "stream",
     "text": [
      "[0, 1, 2, 10, 11, 12, 20, 21, 22, 30, 31, 32, 40, 41, 42, 50, 51, 52, 60, 61, 62, 70, 71, 72, 80, 81, 82, 90, 91, 92]\n"
     ]
    }
   ],
   "source": [
    "filteredList = [item for item in myList if item % 10 < 3]\n",
    "print(filteredList)"
   ]
  },
  {
   "attachments": {},
   "cell_type": "markdown",
   "id": "6463db7f",
   "metadata": {},
   "source": [
    "### List comprehensions with functions"
   ]
  },
  {
   "cell_type": "code",
   "execution_count": 6,
   "id": "18b7d353",
   "metadata": {},
   "outputs": [
    {
     "data": {
      "text/plain": [
       "['My name is Ryan Mitchell', ' I live in Boston']"
      ]
     },
     "execution_count": 6,
     "metadata": {},
     "output_type": "execute_result"
    }
   ],
   "source": [
    "myString = 'My name is Ryan Mitchell. I live in Boston'\n",
    "myString.split('.')"
   ]
  },
  {
   "cell_type": "code",
   "execution_count": 7,
   "id": "097bb41d",
   "metadata": {},
   "outputs": [
    {
     "data": {
      "text/plain": [
       "['My', 'name', 'is', 'Ryan', 'Mitchell.', 'I', 'live', 'in', 'Boston']"
      ]
     },
     "execution_count": 7,
     "metadata": {},
     "output_type": "execute_result"
    }
   ],
   "source": [
    "myString.split()"
   ]
  },
  {
   "cell_type": "code",
   "execution_count": 8,
   "id": "bbcdc319",
   "metadata": {},
   "outputs": [
    {
     "data": {
      "text/plain": [
       "['my', 'name', 'is', 'ryan', 'mitchell', 'i', 'live', 'in', 'boston']"
      ]
     },
     "execution_count": 8,
     "metadata": {},
     "output_type": "execute_result"
    }
   ],
   "source": [
    "def cleanWord(word):\n",
    "    return word.replace('.', '').lower()\n",
    "\n",
    "[cleanWord(word) for word in myString.split()]"
   ]
  },
  {
   "cell_type": "code",
   "execution_count": 9,
   "id": "34281955",
   "metadata": {},
   "outputs": [
    {
     "data": {
      "text/plain": [
       "['my', 'is', 'i', 'in']"
      ]
     },
     "execution_count": 9,
     "metadata": {},
     "output_type": "execute_result"
    }
   ],
   "source": [
    "[cleanWord(word) for word in myString.split() if len(cleanWord(word)) < 3]"
   ]
  },
  {
   "attachments": {},
   "cell_type": "markdown",
   "id": "fcdadece",
   "metadata": {},
   "source": [
    "### Nested list comprehensions"
   ]
  },
  {
   "cell_type": "code",
   "execution_count": 10,
   "id": "08a10fed",
   "metadata": {},
   "outputs": [
    {
     "data": {
      "text/plain": [
       "[['my', 'name', 'is', 'ryan', 'mitchell'], ['i', 'live', 'in', 'boston']]"
      ]
     },
     "execution_count": 10,
     "metadata": {},
     "output_type": "execute_result"
    }
   ],
   "source": [
    "[[cleanWord(word) for word in sentence.split()] for sentence in myString.split('.')]"
   ]
  },
  {
   "cell_type": "code",
   "execution_count": 3,
   "id": "9653eb8d",
   "metadata": {},
   "outputs": [
    {
     "name": "stdout",
     "output_type": "stream",
     "text": [
      "[1, 3, 4, 7, 8, 10, 13, 14, 15, 16, 17, 19, 21, 22, 23, 24, 25, 26, 29, 32, 33, 35, 43, 44, 45, 46, 48, 49, 50, 51, 52, 53, 57, 58, 59, 60, 61, 63, 64, 65, 66, 67, 68, 70, 71, 73, 74, 75, 79, 80, 81, 83, 84, 85, 86, 88, 90, 91, 93, 96, 98, 100]\n"
     ]
    }
   ],
   "source": [
    "# Create a list of random integers in random order \n",
    "# with values between 1 and 1000 with no duplicates?\n",
    "from random import randint\n",
    "print(list(set(randint(1,100) for num in range(1,100))))"
   ]
  },
  {
   "attachments": {},
   "cell_type": "markdown",
   "id": "87801103",
   "metadata": {},
   "source": [
    "## Questions"
   ]
  },
  {
   "cell_type": "code",
   "execution_count": null,
   "id": "9c75bb9a",
   "metadata": {},
   "outputs": [],
   "source": [
    "'''\n",
    "Question 1:\n",
    "Toward the end of the video, we briefly saw how to iterate through a list using a simple for loop. \n",
    "What would be the output of the code below?\n",
    "'''\n",
    "\n",
    "my_list = [1,2,3,4,5]\n",
    "my_new_list = []\n",
    "for num in my_list:\n",
    "    my_new_list.append(num-my_list[num-1]) # 1 - (1-1), 2 - (3-1), 3 - (4-1), 4 - (5-1)\n",
    "print(my_new_list)\n",
    "\n",
    "# a: [0,0,0,0,0]\n",
    "# b: [1,2,3,4]\n",
    "# c: [1,2,3,4,5]\n",
    "# d: IndexError: list out of range"
   ]
  },
  {
   "cell_type": "code",
   "execution_count": 35,
   "id": "cea78e51",
   "metadata": {},
   "outputs": [
    {
     "data": {
      "text/plain": [
       "'\\nQuestion 2:\\nI have the following lists\\nmy_list = [1,2,3,4,5]\\nmy_new_list = [6,7,8,9,10]\\nI want my_list to include all the integers in both lists, \\nconsisting of only integers as items. \\nWhich line of code should I use?\\n'"
      ]
     },
     "execution_count": 35,
     "metadata": {},
     "output_type": "execute_result"
    }
   ],
   "source": [
    "'''\n",
    "Question 2:\n",
    "I have the following lists\n",
    "my_list = [1,2,3,4,5]\n",
    "my_new_list = [6,7,8,9,10]\n",
    "I want my_list to include all the integers in both lists, \n",
    "consisting of only integers as items. \n",
    "Which line of code should I use?\n",
    "'''\n",
    "# Options\n",
    "# a: my_list.append(my_new_list)\n",
    "# b: my_list.extend(my_new_list)\n"
   ]
  },
  {
   "cell_type": "code",
   "execution_count": 37,
   "id": "62e830d4",
   "metadata": {},
   "outputs": [
    {
     "data": {
      "text/plain": [
       "'\\nQuestion 3:\\nI can iterate through strings the same way I can iterate through lists using the for loop.\\nWhat would the output be of the following code?\\n\\nmy_string = \"level\"\\nfor letter in my_string[::-1]:\\n    print(letter, end=\" \")\\nprint()\\n'"
      ]
     },
     "execution_count": 37,
     "metadata": {},
     "output_type": "execute_result"
    }
   ],
   "source": [
    "'''\n",
    "Question 3:\n",
    "I can iterate through strings the same way I can iterate through lists using the for loop.\n",
    "What would the output be of the following code?\n",
    "\n",
    "my_string = \"level\"\n",
    "for letter in my_string[::-1]:\n",
    "    print(letter, end=\" \")\n",
    "print()\n",
    "'''\n",
    "# options\n",
    "\n",
    "# a: level\n",
    "# b: error\n",
    "# c: l e v e l"
   ]
  },
  {
   "cell_type": "code",
   "execution_count": 45,
   "id": "a9c82237",
   "metadata": {},
   "outputs": [
    {
     "name": "stdout",
     "output_type": "stream",
     "text": [
      "['comp sci', 'economics', 'physics', 'astronomy', 'climate studies', 'artificial intelligence']\n"
     ]
    }
   ],
   "source": [
    "'''\n",
    "Question 4: Given the two lists below, add all the elements in the second list\n",
    "to the end of the first list, then print out the first list. Choose the\n",
    "appropriate method to add these elements so that you don't end up with a list\n",
    "within a list (as in the first list 'my_courses' should only have string data, \n",
    "not lists of strings).\n",
    "'''\n",
    "my_courses = ['comp sci','economics','physics','astronomy']\n",
    "new_courses = ['climate studies','artificial intelligence']\n",
    "## Write your code below, 2 lines ##"
   ]
  },
  {
   "cell_type": "code",
   "execution_count": null,
   "id": "29e5a06e",
   "metadata": {},
   "outputs": [
    {
     "name": "stdout",
     "output_type": "stream",
     "text": [
      "['comp sci', 'economics', 'physics', 'astronomy', 'climate studies', 'artificial intelligence']\n"
     ]
    }
   ],
   "source": [
    "'''\n",
    "Solution 4: Given the two lists below, add all the elements in the second list\n",
    "to the end of the first list, then print out the first list. Choose the\n",
    "appropriate method to add these elements so that you don't end up with a list\n",
    "within a list (as in the first list 'my_courses' should only have string data, \n",
    "not lists of strings).\n",
    "'''\n",
    "my_courses = ['comp sci','economics','physics','astronomy']\n",
    "new_courses = ['climate studies','artificial intelligence']\n",
    "## Write your code below, 2 lines ##\n",
    "my_courses.extend(new_courses)\n",
    "print(my_courses)\n"
   ]
  },
  {
   "cell_type": "code",
   "execution_count": null,
   "id": "545ff75b",
   "metadata": {},
   "outputs": [],
   "source": [
    "'''\n",
    "Question 5: Given the string below, add it to the end of my_courses list which\n",
    "you printed at the end of above question , then print out my_courses\n",
    "'''\n",
    "new_course = 'tennis'\n",
    "## Write your code below, 2 lines\n"
   ]
  },
  {
   "cell_type": "code",
   "execution_count": null,
   "id": "237703cf",
   "metadata": {},
   "outputs": [],
   "source": [
    "'''\n",
    "Solution 5: Given the string below, add it to the end of my_courses list which\n",
    "you printed at the end of above question , then print out my_courses\n",
    "'''\n",
    "new_course = 'tennis'\n",
    "## Write your code below, 2 lines\n",
    "my_courses.append(new_course)\n",
    "print(my_courses)"
   ]
  },
  {
   "cell_type": "code",
   "execution_count": null,
   "id": "ce191cba",
   "metadata": {},
   "outputs": [],
   "source": [
    "'''\n",
    "Question 6: Choose the approprite method to delete 'economics' from my_courses\n",
    "list and print the resulting my_courses list.\n",
    "'''\n",
    "# Write your code below, 2 lines\n",
    "my_courses.remove('economics')\n",
    "print(my_courses)"
   ]
  },
  {
   "cell_type": "code",
   "execution_count": null,
   "id": "f649c83b",
   "metadata": {},
   "outputs": [],
   "source": [
    "'''\n",
    "Solution 6: Choose the approprite method to delete 'economics' from my_courses\n",
    "list and print the resulting my_courses list.\n",
    "'''\n",
    "# Write your code below, 2 lines\n",
    "my_courses.remove('economics')\n",
    "print(my_courses)"
   ]
  },
  {
   "cell_type": "code",
   "execution_count": null,
   "id": "0c1e8cc4",
   "metadata": {},
   "outputs": [],
   "source": [
    "'''\n",
    "Question 7: Given the integer list below, print the length of the list (number\n",
    "of integers in the list).\n",
    "'''\n",
    "my_int_list = [9,6,13,7,27,99,104,100,10,16,42,64]\n",
    "\n",
    "## Write your code below, 1 line"
   ]
  },
  {
   "cell_type": "code",
   "execution_count": null,
   "id": "1fecaf8d",
   "metadata": {},
   "outputs": [],
   "source": [
    "'''\n",
    "Solution 7: Given the integer list below, print the length of the list (number\n",
    "of integers in the list).\n",
    "'''\n",
    "my_int_list = [9,6,13,7,27,99,104,100,10,16,42,64]\n",
    "## Write your code below, 1 line\n",
    "print(len(my_int_list))"
   ]
  },
  {
   "cell_type": "code",
   "execution_count": null,
   "id": "09feaa9a",
   "metadata": {},
   "outputs": [],
   "source": [
    "'''\n",
    "Question 8: Grab the second half of my_int_list using slice notation and print\n",
    "it to the screen\n",
    "'''\n",
    "## Write your code below, 1 line\n"
   ]
  },
  {
   "cell_type": "code",
   "execution_count": null,
   "id": "59281c30",
   "metadata": {},
   "outputs": [],
   "source": [
    "'''\n",
    "Question 8: Grab the second half of my_int_list using slice notation and print\n",
    "it to the screen\n",
    "'''\n",
    "## Write your code below, 1 line\n",
    "print(my_int_list[int(len(my_int_list)/2)::]) # casting to int as len returns float (i.e 5.0)\n"
   ]
  },
  {
   "attachments": {},
   "cell_type": "markdown",
   "id": "2ea9935d",
   "metadata": {},
   "source": []
  }
 ],
 "metadata": {
  "kernelspec": {
   "display_name": "Python 3 (ipykernel)",
   "language": "python",
   "name": "python3"
  },
  "language_info": {
   "codemirror_mode": {
    "name": "ipython",
    "version": 3
   },
   "file_extension": ".py",
   "mimetype": "text/x-python",
   "name": "python",
   "nbconvert_exporter": "python",
   "pygments_lexer": "ipython3",
   "version": "3.11.2"
  }
 },
 "nbformat": 4,
 "nbformat_minor": 5
}
