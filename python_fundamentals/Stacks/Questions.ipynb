{
 "cells": [
  {
   "cell_type": "code",
   "execution_count": null,
   "id": "035347bb",
   "metadata": {},
   "outputs": [],
   "source": [
    "import math"
   ]
  },
  {
   "attachments": {},
   "cell_type": "markdown",
   "id": "02d18456",
   "metadata": {},
   "source": [
    "## Strings"
   ]
  },
  {
   "attachments": {},
   "cell_type": "markdown",
   "id": "a3daa1cd",
   "metadata": {},
   "source": [
    "[Slicing](#slicing)\n",
    "\n",
    "[Formatting](#print-formatting)\n",
    "\n",
    "[Functions](#functions)"
   ]
  },
  {
   "attachments": {},
   "cell_type": "markdown",
   "id": "bfc860a0",
   "metadata": {},
   "source": [
    "### Slicing"
   ]
  },
  {
   "cell_type": "code",
   "execution_count": null,
   "id": "a3aa5755",
   "metadata": {},
   "outputs": [],
   "source": [
    "# We can use string concatenation and add strings\n",
    "# together\n",
    "message = \"Welcome to the course\"\n",
    "name = \"Mashrur\"\n",
    "print(message + name)"
   ]
  },
  {
   "cell_type": "code",
   "execution_count": null,
   "id": "c263f286",
   "metadata": {},
   "outputs": [],
   "source": [
    "# Strings are sequences of characters which are indexed\n",
    "# We can index into a string by using square bracket notation\n",
    "movie_name = \"Interstellar\"\n",
    "print(movie_name[0]) # This will print 'I' which is at index 0\n",
    "print(movie_name[1]) # This will print 'n' which is at index 1\n",
    "print(movie_name[11]) # This will print 'r' which is the last character\n",
    "print(movie_name[-1]) # This will print 'r', last character\n",
    "print(movie_name[-2]) # This will print 'a', second to last character"
   ]
  },
  {
   "cell_type": "code",
   "execution_count": null,
   "id": "90d4277c",
   "metadata": {},
   "outputs": [],
   "source": [
    "# We can use slicing to select portions of the string\n",
    "movie_name = \"Interstellar\"\n",
    "\n",
    "print(movie_name[0:5]) # This will print 'Inter'\n",
    "\n",
    "# We can leave the starting 0 out if we start at at the beginning to get 'Inter' as well\n",
    "print(movie_name[:5])   "
   ]
  },
  {
   "cell_type": "code",
   "execution_count": null,
   "id": "4b6c21b9",
   "metadata": {},
   "outputs": [],
   "source": [
    "movie_name = \"Interstellar\"\n",
    "print(movie_name[5:]) # This will print 'stellar', begin index to end\n",
    "print(movie_name[:]) # This will print \"Interstellar\", begin to end\n",
    "print(movie_name[5:9]) # This will print 'stel'"
   ]
  },
  {
   "cell_type": "code",
   "execution_count": null,
   "id": "91ceaacd",
   "metadata": {},
   "outputs": [],
   "source": [
    "# You can specify step size as optional third argument\n",
    "# This will print 'se', moving forward by 2 steps instead of the default 1\n",
    "movie_name = \"Interstellar\"\n",
    "\n",
    "print(movie_name[5:9:2]) \n",
    "print(movie_name[::2]) # This will print \"Itrtla\"\n",
    "# This will reverse the string and print 'ralletsretnI'\n",
    "print(movie_name[::-1]) "
   ]
  },
  {
   "cell_type": "code",
   "execution_count": null,
   "id": "e697c822",
   "metadata": {},
   "outputs": [],
   "source": [
    "# We can add an empty space in there too\n",
    "print(message + \" \" + name)"
   ]
  },
  {
   "cell_type": "code",
   "execution_count": 19,
   "id": "387a2e6e",
   "metadata": {},
   "outputs": [],
   "source": [
    "name = 'My name is Ryan Mitchell'"
   ]
  },
  {
   "cell_type": "code",
   "execution_count": 2,
   "id": "1ebc90d0",
   "metadata": {},
   "outputs": [
    {
     "data": {
      "text/plain": [
       "'M'"
      ]
     },
     "execution_count": 2,
     "metadata": {},
     "output_type": "execute_result"
    }
   ],
   "source": [
    "name[0]"
   ]
  },
  {
   "cell_type": "code",
   "execution_count": 3,
   "id": "927b4d55",
   "metadata": {},
   "outputs": [
    {
     "data": {
      "text/plain": [
       "'y'"
      ]
     },
     "execution_count": 3,
     "metadata": {},
     "output_type": "execute_result"
    }
   ],
   "source": [
    "name[1]"
   ]
  },
  {
   "cell_type": "code",
   "execution_count": 4,
   "id": "37f585af",
   "metadata": {},
   "outputs": [
    {
     "data": {
      "text/plain": [
       "'My name'"
      ]
     },
     "execution_count": 4,
     "metadata": {},
     "output_type": "execute_result"
    }
   ],
   "source": [
    "name[0:7]"
   ]
  },
  {
   "cell_type": "code",
   "execution_count": 5,
   "id": "147d51d5",
   "metadata": {},
   "outputs": [
    {
     "data": {
      "text/plain": [
       "'My name'"
      ]
     },
     "execution_count": 5,
     "metadata": {},
     "output_type": "execute_result"
    }
   ],
   "source": [
    "name[:7]"
   ]
  },
  {
   "cell_type": "code",
   "execution_count": 6,
   "id": "8642d491",
   "metadata": {},
   "outputs": [
    {
     "data": {
      "text/plain": [
       "'Ryan Mitchell'"
      ]
     },
     "execution_count": 6,
     "metadata": {},
     "output_type": "execute_result"
    }
   ],
   "source": [
    "name[11:]"
   ]
  },
  {
   "cell_type": "code",
   "execution_count": 7,
   "id": "0eb13957",
   "metadata": {},
   "outputs": [],
   "source": [
    "myList = [1,2,3,4,5]"
   ]
  },
  {
   "cell_type": "code",
   "execution_count": 8,
   "id": "11dc06e6",
   "metadata": {},
   "outputs": [
    {
     "data": {
      "text/plain": [
       "[3, 4]"
      ]
     },
     "execution_count": 8,
     "metadata": {},
     "output_type": "execute_result"
    }
   ],
   "source": [
    "myList[2:4]"
   ]
  },
  {
   "cell_type": "code",
   "execution_count": 9,
   "id": "6644ab0b",
   "metadata": {},
   "outputs": [
    {
     "data": {
      "text/plain": [
       "24"
      ]
     },
     "execution_count": 9,
     "metadata": {},
     "output_type": "execute_result"
    }
   ],
   "source": [
    "len(name)"
   ]
  },
  {
   "cell_type": "code",
   "execution_count": 10,
   "id": "75b57667",
   "metadata": {},
   "outputs": [
    {
     "data": {
      "text/plain": [
       "5"
      ]
     },
     "execution_count": 10,
     "metadata": {},
     "output_type": "execute_result"
    }
   ],
   "source": [
    "len(myList)"
   ]
  },
  {
   "attachments": {},
   "cell_type": "markdown",
   "id": "60a8a60a",
   "metadata": {},
   "source": []
  },
  {
   "attachments": {},
   "cell_type": "markdown",
   "id": "2daf4ab5",
   "metadata": {},
   "source": [
    "### Functions\n",
    "__[Resource](https://docs.python.org/3/library/stdtypes.html#string-methods)__"
   ]
  },
  {
   "cell_type": "code",
   "execution_count": null,
   "id": "4b48019b",
   "metadata": {},
   "outputs": [],
   "source": [
    "# Sample list\n",
    "my_list = [1, 2, 3, 4, 5]\n",
    "\n",
    "# len() - Returns the length of the list\n",
    "print(len(my_list))  # Output: 5\n",
    "\n",
    "# type() - Returns the type of an object\n",
    "print(type(my_list))  # Output: <class 'list'>\n",
    "\n",
    "# id() - Returns the unique identifier of an object\n",
    "print(id(my_list))  # Output: <unique identifier>\n",
    "\n",
    "# dir() - Returns a list of attributes and methods of an object\n",
    "print(dir(my_list))"
   ]
  },
  {
   "cell_type": "code",
   "execution_count": null,
   "id": "5e2cdb70",
   "metadata": {},
   "outputs": [],
   "source": [
    "# Sample string\n",
    "my_string = \"   hello world!   \"\n",
    "\n",
    "# capitalize() - Capitalizes the first character of a string\n",
    "print(my_string.capitalize())  # Output: \"   hello world!   \"\n",
    "\n",
    "# upper() - Converts a string to uppercase\n",
    "print(my_string.upper())  # Output: \"   HELLO WORLD!   \"\n",
    "\n",
    "# lower() - Converts a string to lowercase\n",
    "print(my_string.lower())  # Output: \"   hello world!   \"\n",
    "\n",
    "# strip() - Removes leading and trailing whitespace from a string\n",
    "print(my_string.strip())  # Output: \"hello world!\"\n",
    "\n",
    "# find() - Returns the index of the first occurrence of a substring within a string\n",
    "print(my_string.find(\"world\"))  # Output: 7\n",
    "\n",
    "# split() - Splits a string into a list of substrings based on a delimiter\n",
    "print(my_string.split())  # Output: ['hello', 'world!']\n",
    "\n",
    "# join() - Concatenates a list of strings into a single string using a specified delimiter\n",
    "my_list = ['hello', 'world!']\n",
    "print(' '.join(my_list))  # Output: \"hello world!\"\n"
   ]
  },
  {
   "attachments": {},
   "cell_type": "markdown",
   "id": "1e23c079",
   "metadata": {},
   "source": [
    "### Print Formatting"
   ]
  },
  {
   "cell_type": "code",
   "execution_count": 12,
   "id": "a6ae2f68",
   "metadata": {},
   "outputs": [
    {
     "name": "stdout",
     "output_type": "stream",
     "text": [
      "Today's price for google stock is: 1100\n",
      "Today's price for google stock is: 1100\n",
      "Today's price for google stock is: 1100\n"
     ]
    }
   ],
   "source": [
    "## Print formatting\n",
    "# We'll check out 3 ways to format print statements.\n",
    "# String interpolation using format and f'strings\n",
    "# and simple usage of comma\n",
    "# String Interpolation: String interpolation is embedding variables\n",
    "# or other objects to be evaluated within the String\n",
    "\n",
    "stock_price = 1100\n",
    "print(\"Today's price for google stock is:\", stock_price)\n",
    "print(\"Today's price for google stock is: {}\".format(stock_price))\n",
    "print(f\"Today's price for google stock is: {stock_price}\")"
   ]
  },
  {
   "cell_type": "code",
   "execution_count": 13,
   "id": "7f8894d8",
   "metadata": {},
   "outputs": [
    {
     "name": "stdout",
     "output_type": "stream",
     "text": [
      "Today's price: 1100 yesterday's price: 1000\n",
      "Today's price: 1100, yesterday's price: 1000\n",
      "Today's price: 1100, yesterday's price: 1000\n"
     ]
    }
   ],
   "source": [
    "# We can interpolate multiple values\n",
    "today_price = 1100\n",
    "yesterday_price = 1000\n",
    "print(\"Today's price:\", today_price, \"yesterday's price:\", yesterday_price)\n",
    "print(\"Today's price: {}, yesterday's price: {}\".format(today_price, yesterday_price))\n",
    "print(f\"Today's price: {today_price}, yesterday's price: {yesterday_price}\")"
   ]
  },
  {
   "cell_type": "code",
   "execution_count": 14,
   "id": "124f1978",
   "metadata": {},
   "outputs": [
    {
     "name": "stdout",
     "output_type": "stream",
     "text": [
      "My name is jon snow and not only do I know nothing but I also do nothing\n",
      "My name is jon snow and not only do I know nothing but I also do nothing\n"
     ]
    }
   ],
   "source": [
    "# Special characters\n",
    "# \\ - is an escape character, it escapes the special character\n",
    "# following it in a string\n",
    "# \\n - species new line within the string\n",
    "# \\t - adds a tab in it's place within the string\n",
    "print(\"My name is jon snow and not only do I know nothing but I also do nothing\")\n",
    "\n",
    "# This statement can be broken into multiple lines with \\\n",
    "print(\"My name is jon snow and \\\n",
    "not only do I know nothing but \\\n",
    "I also do nothing\")"
   ]
  },
  {
   "cell_type": "code",
   "execution_count": 16,
   "id": "9895d568",
   "metadata": {},
   "outputs": [
    {
     "name": "stdout",
     "output_type": "stream",
     "text": [
      "My name is jon snow\n",
      "I know nothing\n",
      "I also do nothing\n"
     ]
    }
   ],
   "source": [
    "# \\n can be used to print in multiple lines with\n",
    "print(\"My name is jon snow\\nI know nothing\\nI also do nothing\")"
   ]
  },
  {
   "cell_type": "code",
   "execution_count": 17,
   "id": "153b9a7c",
   "metadata": {},
   "outputs": [
    {
     "name": "stdout",
     "output_type": "stream",
     "text": [
      "My name is jon snow\n",
      " \tI know nothing\n",
      "\t\tI also do nothing\n"
     ]
    }
   ],
   "source": [
    "# \\t can be used to introduce tabs in the lines\n",
    "print(\"My name is jon snow\\n \\tI know nothing\\n\\t\\tI also do nothing\")"
   ]
  },
  {
   "cell_type": "code",
   "execution_count": 18,
   "id": "cf323b02",
   "metadata": {},
   "outputs": [
    {
     "name": "stdout",
     "output_type": "stream",
     "text": [
      "My name is jon snow\n",
      "\tI know\t\tNOTHING\n",
      "\t\tI also DO nothing\n"
     ]
    }
   ],
   "source": [
    "# \\t usage elsewhere\n",
    "print(\"My name is jon snow\\n\\tI know\\t\\tNOTHING\\n\\t\\tI also DO nothing\")"
   ]
  },
  {
   "cell_type": "code",
   "execution_count": 19,
   "id": "3b66cbef",
   "metadata": {},
   "outputs": [
    {
     "name": "stdout",
     "output_type": "stream",
     "text": [
      "I'm using the \\n special character to create new lines\n"
     ]
    }
   ],
   "source": [
    "# \\ can be used to escape the special character meaning\n",
    "print(\"I'm using the \\\\n special character to create new lines\")\n"
   ]
  },
  {
   "cell_type": "code",
   "execution_count": null,
   "id": "8bc2bf1b",
   "metadata": {},
   "outputs": [],
   "source": [
    "# Question:\n",
    "# What would be the output of the program below:\n",
    "\n",
    "name_of_book = \"Harry Potter\"\n",
    "name_of_book.upper()\n",
    "name_of_book = name_of_book[::-1]\n",
    "new_name_of_book = name_of_book\n",
    "new_name_of_book.lower()\n",
    "name_of_book = new_name_of_book.upper()\n",
    "new_name_of_book = name_of_book[::-1]\n",
    "print(name_of_book)\n",
    "print(new_name_of_book) "
   ]
  },
  {
   "cell_type": "code",
   "execution_count": 11,
   "id": "46e3eee4",
   "metadata": {},
   "outputs": [
    {
     "data": {
      "text/plain": [
       "'My number is: 5'"
      ]
     },
     "execution_count": 11,
     "metadata": {},
     "output_type": "execute_result"
    }
   ],
   "source": [
    "'My number is: '+str(5)"
   ]
  },
  {
   "cell_type": "code",
   "execution_count": 12,
   "id": "50b4d13a",
   "metadata": {},
   "outputs": [
    {
     "data": {
      "text/plain": [
       "'My number is: 5'"
      ]
     },
     "execution_count": 12,
     "metadata": {},
     "output_type": "execute_result"
    }
   ],
   "source": [
    "f'My number is: {5}'"
   ]
  },
  {
   "cell_type": "code",
   "execution_count": 14,
   "id": "bd3f66d7",
   "metadata": {},
   "outputs": [
    {
     "data": {
      "text/plain": [
       "'My number is: 5 and twice that is 10'"
      ]
     },
     "execution_count": 14,
     "metadata": {},
     "output_type": "execute_result"
    }
   ],
   "source": [
    "f'My number is: {5} and twice that is {2*5}'"
   ]
  },
  {
   "cell_type": "code",
   "execution_count": 16,
   "id": "9581a9bc",
   "metadata": {},
   "outputs": [
    {
     "data": {
      "text/plain": [
       "'Pi is: 3.14'"
      ]
     },
     "execution_count": 16,
     "metadata": {},
     "output_type": "execute_result"
    }
   ],
   "source": [
    "f'Pi is: {math.pi:.2f}'"
   ]
  },
  {
   "cell_type": "code",
   "execution_count": 17,
   "id": "4ac812ce",
   "metadata": {},
   "outputs": [
    {
     "data": {
      "text/plain": [
       "'Pi is: 3.141592653589793'"
      ]
     },
     "execution_count": 17,
     "metadata": {},
     "output_type": "execute_result"
    }
   ],
   "source": [
    "'Pi is: {}'.format(math.pi)"
   ]
  },
  {
   "attachments": {},
   "cell_type": "markdown",
   "id": "9f153341",
   "metadata": {},
   "source": [
    "### Multi-line Strings"
   ]
  },
  {
   "cell_type": "code",
   "execution_count": 21,
   "id": "92cb7feb",
   "metadata": {},
   "outputs": [],
   "source": [
    "myString = '''\n",
    "Here is a long block of text\n",
    "I can add newlines!\n",
    "the text doesn't stop until it sees \\'\\'\\'\n",
    "\n",
    "'''"
   ]
  },
  {
   "cell_type": "code",
   "execution_count": 22,
   "id": "496129f8",
   "metadata": {},
   "outputs": [
    {
     "data": {
      "text/plain": [
       "\"\\nHere is a long block of text\\nI can add newlines!\\nthe text doesn't stop until it sees '''\\n\\n\""
      ]
     },
     "execution_count": 22,
     "metadata": {},
     "output_type": "execute_result"
    }
   ],
   "source": [
    "myString"
   ]
  },
  {
   "cell_type": "code",
   "execution_count": 23,
   "id": "a9b4ddec",
   "metadata": {},
   "outputs": [
    {
     "name": "stdout",
     "output_type": "stream",
     "text": [
      "\n",
      "Here is a long block of text\n",
      "I can add newlines!\n",
      "the text doesn't stop until it sees '''\n",
      "\n",
      "\n"
     ]
    }
   ],
   "source": [
    "print(myString)"
   ]
  },
  {
   "cell_type": "code",
   "execution_count": null,
   "id": "5fb8f96a",
   "metadata": {},
   "outputs": [],
   "source": []
  }
 ],
 "metadata": {
  "kernelspec": {
   "display_name": "Python 3 (ipykernel)",
   "language": "python",
   "name": "python3"
  },
  "language_info": {
   "codemirror_mode": {
    "name": "ipython",
    "version": 3
   },
   "file_extension": ".py",
   "mimetype": "text/x-python",
   "name": "python",
   "nbconvert_exporter": "python",
   "pygments_lexer": "ipython3",
   "version": "3.11.2"
  }
 },
 "nbformat": 4,
 "nbformat_minor": 5
}
