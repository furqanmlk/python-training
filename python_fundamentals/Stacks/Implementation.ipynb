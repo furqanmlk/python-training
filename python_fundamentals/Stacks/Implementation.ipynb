{
 "cells": [
  {
   "cell_type": "markdown",
   "id": "84510656",
   "metadata": {},
   "source": [
    "### Implementation\n",
    "A stack is a linear data structure that follows the **Last-In-First-Out (LIFO)** principle\n",
    "Imagine a stack of plates at a cafeteria, where plates are added on top of each other, and when someone takes a plate, they take it from the top of the stack (last plate).\n",
    "\n",
    "The stack data structure supports two main operations:\n",
    "\n",
    "**Push:** This operation adds an element to the top of the stack. It's like placing an item on top of the stack of plates. The new element becomes the most recently added item, and it's the one that will be removed first when a pop operation is performed.\n",
    "\n",
    "**Pop:** This operation removes the top element from the stack. It's similar to taking the top plate from the stack of plates. The element that was added most recently is the one that gets removed.\n",
    "\n",
    "Other common operations for stacks include:\n",
    "\n",
    "**Peek (or Top):** This operation returns the top element of the stack without removing it. It allows you to look at the top item without actually popping it.\n",
    "\n",
    "**is_empty:** This operation checks whether the stack is empty or not. It returns True if the stack has no elements and False otherwise.\n",
    "\n",
    "**Size:** This operation returns the number of elements currently present in the stack.\n",
    "\n",
    "Stacks are widely used in various computer algorithms, especially when it comes to managing function calls, handling expression evaluations, implementing undo/redo functionalities, and parsing data structures like parsing arithmetic expressions.\n",
    "\n",
    "One of the primary applications of stacks is in function call management during the execution of programs. When a function is called, its return address and local variables are pushed onto the stack, and when the function completes its execution, the return address and local variables are popped off the stack to resume the previous execution.\n",
    "\n",
    "In summary, a stack is a fundamental data structure that operates on a Last-In-First-Out basis. It's relatively simple to implement and can be used in many different scenarios to manage data and control program flow."
   ]
  },
  {
   "cell_type": "code",
   "execution_count": 1,
   "id": "035347bb",
   "metadata": {},
   "outputs": [],
   "source": [
    "class Stack:\n",
    "    def __init__(self):\n",
    "        self.items = []\n",
    "\n",
    "    def is_empty(self):\n",
    "        return len(self.items) == 0\n",
    "\n",
    "    def push(self, item):\n",
    "        self.items.append(item)\n",
    "\n",
    "    def pop(self):\n",
    "        if not self.is_empty():\n",
    "            return self.items.pop()\n",
    "        else:\n",
    "            raise IndexError(\"Pop from an empty stack\")\n",
    "\n",
    "    def peek(self):\n",
    "        if not self.is_empty():\n",
    "            return self.items[-1]\n",
    "        else:\n",
    "            raise IndexError(\"Peek from an empty stack\")\n",
    "\n",
    "    def size(self):\n",
    "        return len(self.items)\n"
   ]
  },
  {
   "cell_type": "markdown",
   "id": "27ba4918",
   "metadata": {},
   "source": [
    "### Here's an example of how you can use this stack"
   ]
  },
  {
   "cell_type": "markdown",
   "id": "e3d81048",
   "metadata": {},
   "source": []
  },
  {
   "cell_type": "code",
   "execution_count": 2,
   "id": "23688f9d",
   "metadata": {},
   "outputs": [
    {
     "name": "stdout",
     "output_type": "stream",
     "text": [
      "Current stack size: 3\n",
      "Top element: 3\n",
      "Popped element: 3\n",
      "Current stack size: 2\n"
     ]
    }
   ],
   "source": [
    "stack = Stack()\n",
    "\n",
    "stack.push(1)\n",
    "stack.push(2)\n",
    "stack.push(3)\n",
    "\n",
    "print(\"Current stack size:\", stack.size())  # Output: 3\n",
    "print(\"Top element:\", stack.peek())        # Output: 3\n",
    "\n",
    "popped_item = stack.pop()\n",
    "print(\"Popped element:\", popped_item)      # Output: 3\n",
    "print(\"Current stack size:\", stack.size())  # Output: 2\n"
   ]
  }
 ],
 "metadata": {
  "kernelspec": {
   "display_name": "Python 3 (ipykernel)",
   "language": "python",
   "name": "python3"
  },
  "language_info": {
   "codemirror_mode": {
    "name": "ipython",
    "version": 3
   },
   "file_extension": ".py",
   "mimetype": "text/x-python",
   "name": "python",
   "nbconvert_exporter": "python",
   "pygments_lexer": "ipython3",
   "version": "3.10.11"
  }
 },
 "nbformat": 4,
 "nbformat_minor": 5
}
