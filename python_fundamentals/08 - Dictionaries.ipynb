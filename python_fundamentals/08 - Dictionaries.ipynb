{
 "cells": [
  {
   "cell_type": "code",
   "execution_count": null,
   "id": "a6cd1c0a",
   "metadata": {},
   "outputs": [],
   "source": [
    "from collections import defaultdict"
   ]
  },
  {
   "attachments": {},
   "cell_type": "markdown",
   "id": "f635ede0",
   "metadata": {},
   "source": [
    "## Dictionaries\n",
    "> __[Documentation](https://docs.python.org/3/tutorial/datastructures.html#dictionaries)__\n",
    "\n",
    "> __[Questions](#questions)__"
   ]
  },
  {
   "cell_type": "code",
   "execution_count": null,
   "id": "afaf5906",
   "metadata": {},
   "outputs": [],
   "source": [
    "# Dictionaries are key value pairs and look like below:\n",
    "my_dictionary = {'name': 'mashrur', 'course': 'python', 'fav_food': 'ice cream'}\n",
    "phone_dict = {'mashrur': '555-55-5555',\n",
    "              'zoolander': '999-99-9999',\n",
    "              'jon_snow': 'fail-o-so-bad'}\n",
    "\n",
    "print(my_dictionary)\n",
    "print(phone_dict)\n",
    "\n",
    "# Dictionary keys should be immutable data types like strings and integers\n",
    "# To access a value, provide the key, for example if I wanted\n",
    "# the value associated with 'name' in my_dictionary above, I'd do\n",
    "# the following\n",
    "print(my_dictionary['name'])\n",
    "\n",
    "# I can re-assign the value associated with a key by using the key\n",
    "my_dictionary['name'] = 'john'\n",
    "print(my_dictionary)\n",
    "\n",
    "# I can add in a key value pair that doesn't exist in the dictionary\n",
    "my_dictionary['job'] = 'python programmer'\n",
    "print(my_dictionary)\n"
   ]
  },
  {
   "cell_type": "code",
   "execution_count": null,
   "id": "334bc541",
   "metadata": {},
   "outputs": [],
   "source": [
    "# I can keep going deeper by providing the keys one after the other\n",
    "# To access the value of business in the word_dict, I can do\n",
    "# the following\n",
    "word_dict = {'a':\n",
    "                {\n",
    "                 'apple': 'the round fruit of a tree of the rose family',\n",
    "                 'ant': 'an insect which cleans up the floor'\n",
    "                },\n",
    "             'b':\n",
    "                {\n",
    "                 'bad': 'of poor quaity or low standard',\n",
    "                 'business': 'season 8 of GOT'\n",
    "                }\n",
    "            }\n",
    "print(word_dict['b']['business'])"
   ]
  },
  {
   "cell_type": "code",
   "execution_count": null,
   "id": "a48c869d",
   "metadata": {},
   "outputs": [],
   "source": [
    "# Get a listing of some methods available to dictionaries to test\n",
    "# them out by using the dir function\n",
    "print(dir(my_dictionary))"
   ]
  },
  {
   "cell_type": "code",
   "execution_count": null,
   "id": "0da71c2c",
   "metadata": {},
   "outputs": [],
   "source": [
    "# Use some methods to get keys, values and key, value pair as iterable\n",
    "print(my_dictionary.keys()) \n",
    "# dict_keys(['name', 'course', 'fav_food', 'job'])\n",
    "\n",
    "print(my_dictionary.values()) \n",
    "# dict_values(['john', 'python', 'ice cream', 'python programmer'])\n",
    "\n",
    "print(my_dictionary.items()) \n",
    "# dict_items([('name', 'john'), ('course', 'python'), ('fav_food', 'ice cream'), ('job', 'python programmer')])"
   ]
  },
  {
   "cell_type": "code",
   "execution_count": null,
   "id": "ebe9ea59",
   "metadata": {},
   "outputs": [],
   "source": [
    "# You can iterate through the key value pairs using a for loop\n",
    "for key, value in my_dictionary.items():\n",
    "    print(f'Key: {key}, Value: {value}')"
   ]
  },
  {
   "cell_type": "code",
   "execution_count": null,
   "id": "f6c35bdc",
   "metadata": {},
   "outputs": [],
   "source": [
    "list(my_dictionary.keys())"
   ]
  },
  {
   "cell_type": "code",
   "execution_count": null,
   "id": "7c06306f",
   "metadata": {},
   "outputs": [],
   "source": [
    "print(my_dictionary.get('name'))\n",
    "\n",
    "print(my_dictionary['name'])"
   ]
  },
  {
   "cell_type": "code",
   "execution_count": null,
   "id": "df87bf97",
   "metadata": {},
   "outputs": [],
   "source": [
    "len(my_dictionary)"
   ]
  },
  {
   "cell_type": "code",
   "execution_count": null,
   "id": "e1a8477a",
   "metadata": {},
   "outputs": [],
   "source": [
    "# List in Dictionary\n",
    "animals = {\n",
    "    'a': ['aardvark', 'antelope'],\n",
    "    'b': ['bear'],\n",
    "}\n",
    "\n",
    "# Using list method append\n",
    "animals['b'].append('bison')\n",
    "\n",
    "print(animals)"
   ]
  },
  {
   "cell_type": "code",
   "execution_count": null,
   "id": "f862d71c",
   "metadata": {},
   "outputs": [],
   "source": [
    "# Adding list to Dictionary\n",
    "animals['c'] = ['cat']\n",
    "print(animals)"
   ]
  },
  {
   "cell_type": "code",
   "execution_count": null,
   "id": "ab292c6b",
   "metadata": {},
   "outputs": [],
   "source": [
    "# Adding new element to list in Dictionary\n",
    "if 'c' not in animals:\n",
    "    animals['c'] = []\n",
    "    \n",
    "animals['c'].append('cat2')\n",
    "print(animals)"
   ]
  },
  {
   "attachments": {},
   "cell_type": "markdown",
   "id": "99f7f409",
   "metadata": {},
   "source": [
    "### The Default Dict"
   ]
  },
  {
   "cell_type": "code",
   "execution_count": null,
   "id": "71803fe4",
   "metadata": {},
   "outputs": [],
   "source": [
    "animals = defaultdict(list)"
   ]
  },
  {
   "cell_type": "code",
   "execution_count": null,
   "id": "57e747f6",
   "metadata": {},
   "outputs": [],
   "source": [
    "animals"
   ]
  },
  {
   "cell_type": "code",
   "execution_count": null,
   "id": "faaa95e0",
   "metadata": {},
   "outputs": [],
   "source": [
    "animals['e'].append('elephant')\n",
    "animals"
   ]
  },
  {
   "cell_type": "code",
   "execution_count": null,
   "id": "b8fefdb6",
   "metadata": {},
   "outputs": [],
   "source": [
    "animals['e'].append('emu')\n",
    "animals"
   ]
  },
  {
   "cell_type": "code",
   "execution_count": null,
   "id": "f8f53dc5",
   "metadata": {},
   "outputs": [],
   "source": [
    "animals['f']"
   ]
  },
  {
   "attachments": {},
   "cell_type": "markdown",
   "id": "9b623332",
   "metadata": {},
   "source": [
    "### Dictionary Methods"
   ]
  },
  {
   "cell_type": "code",
   "execution_count": null,
   "id": "6fb7395b",
   "metadata": {},
   "outputs": [],
   "source": [
    "# Create a dictionary\n",
    "my_dict = {'apple': 5, 'banana': 3, 'orange': 7}"
   ]
  },
  {
   "cell_type": "code",
   "execution_count": null,
   "id": "4b13de7c",
   "metadata": {},
   "outputs": [],
   "source": [
    "# Using dict.keys()\n",
    "# `dict.keys()`: Returns a view object containing all the keys in the dictionary.\n",
    "keys = my_dict.keys()\n",
    "print(keys)  # Output: dict_keys(['apple', 'banana', 'orange'])"
   ]
  },
  {
   "cell_type": "code",
   "execution_count": null,
   "id": "166028b3",
   "metadata": {},
   "outputs": [],
   "source": [
    "# Using dict.values()\n",
    "# `dict.values()`: Returns a view object containing all the values in the dictionary.\n",
    "values = my_dict.values()\n",
    "print(values)  # Output: dict_values([5, 3, 7])"
   ]
  },
  {
   "cell_type": "code",
   "execution_count": null,
   "id": "c73f7aa8",
   "metadata": {},
   "outputs": [],
   "source": [
    "# Using dict.items()\n",
    "# `dict.items()`: Returns a view object containing all the key-value pairs in the dictionary.\n",
    "items = my_dict.items()\n",
    "print(items)  # Output: dict_items([('apple', 5), ('banana', 3), ('orange', 7)])"
   ]
  },
  {
   "cell_type": "code",
   "execution_count": null,
   "id": "b44be31b",
   "metadata": {},
   "outputs": [],
   "source": [
    "# Using dict.get()\n",
    "# `dict.get(key[, default])`: Returns the value associated with the specified key. \n",
    "#  If the key does not exist, it returns the default value (or `None` if not provided).\n",
    "quantity = my_dict.get('apple')\n",
    "print(quantity)  # Output: 5\n",
    "\n",
    "noValue = my_dict.get(\"Mango\",\"MyDefault\")\n",
    "print(noValue) # Output: MyDefault"
   ]
  },
  {
   "cell_type": "code",
   "execution_count": null,
   "id": "ff7624fa",
   "metadata": {},
   "outputs": [],
   "source": [
    "# Using dict.update()\n",
    "# `dict.update(other_dict)`: Updates the dictionary with the key-value pairs \n",
    "# from another dictionary or an iterable of key-value pairs.\n",
    "new_dict = {'mango': 4, 'grape': 6}\n",
    "my_dict.update(new_dict)\n",
    "print(my_dict)  # Output: {'apple': 5, 'banana': 3, 'orange': 7, 'mango': 4, 'grape': 6}"
   ]
  },
  {
   "cell_type": "code",
   "execution_count": null,
   "id": "e66e6fa1",
   "metadata": {},
   "outputs": [],
   "source": [
    "# Using dict.pop()\n",
    "# `dict.pop(key[, default])`: Removes the key-value pair with the specified key and returns the corresponding value. \n",
    "# If the key is not found, it returns the default value \n",
    "# (or raises a `KeyError` if not provided).\n",
    "removed_value = my_dict.pop('banana')\n",
    "print(removed_value)  # Output: 3\n",
    "print(my_dict)  # Output: {'apple': 5, 'orange': 7, 'mango': 4, 'grape': 6}"
   ]
  },
  {
   "cell_type": "code",
   "execution_count": null,
   "id": "adfb6bcc",
   "metadata": {},
   "outputs": [],
   "source": [
    "# Using dict.popitem()\n",
    "# `dict.popitem()`: Removes and returns an arbitrary key-value pair from the dictionary \n",
    "# as a tuple. Raises a `KeyError` if the dictionary is empty.\n",
    "removed_item = my_dict.popitem()\n",
    "print(removed_item)  # Output: ('grape', 6)\n",
    "print(my_dict)  # Output: {'apple': 5, 'orange': 7, 'mango': 4}"
   ]
  },
  {
   "cell_type": "code",
   "execution_count": null,
   "id": "2e8259e6",
   "metadata": {},
   "outputs": [],
   "source": [
    "# Using dict.clear()\n",
    "# `dict.clear()`: Removes all the key-value pairs from the dictionary.\n",
    "my_dict.clear()\n",
    "print(my_dict)  # Output: {}"
   ]
  },
  {
   "cell_type": "code",
   "execution_count": null,
   "id": "f2e99b66",
   "metadata": {},
   "outputs": [],
   "source": [
    "# Using dict.copy()\n",
    "# `dict.copy()`: Returns a shallow copy of the dictionary.\n",
    "copy_dict = my_dict.copy()\n",
    "print(copy_dict)  # Output: {}"
   ]
  },
  {
   "cell_type": "code",
   "execution_count": null,
   "id": "b66f9424",
   "metadata": {},
   "outputs": [],
   "source": [
    "# Using key in dict\n",
    "# `key in dict`: Checks if a key exists in the dictionary and returns `True` or `False`.\n",
    "if 'banana' in my_dict:\n",
    "    print(\"Banana is present in the dictionary\")\n",
    "else:\n",
    "    print(\"Banana is not present in the dictionary\")"
   ]
  },
  {
   "cell_type": "code",
   "execution_count": null,
   "id": "0a9a2005",
   "metadata": {},
   "outputs": [],
   "source": [
    "# Using len(dict)\n",
    "# `len(dict)`: Returns the number of key-value pairs in the dictionary.\n",
    "my_dict = {'apple': 5, 'banana': 3, 'orange': 7}\n",
    "length = len(my_dict)\n",
    "print(length)  # Output: 3"
   ]
  },
  {
   "cell_type": "code",
   "execution_count": null,
   "id": "57003f51",
   "metadata": {},
   "outputs": [],
   "source": [
    "# Using dict.fromkeys()\n",
    "# `dict.fromkeys(keys[, value])`: Returns a new dictionary with keys from the specified iterable \n",
    "# and values set to the specified value (or `None` if not provided).\n",
    "keys = ['apple', 'banana', 'orange']\n",
    "values = 0\n",
    "new_dict = dict.fromkeys(keys, values)\n",
    "print(new_dict)  # Output: {'apple': 0, 'banana': 0, 'orange': 0}"
   ]
  },
  {
   "cell_type": "code",
   "execution_count": null,
   "id": "4e66e059",
   "metadata": {},
   "outputs": [],
   "source": [
    "# Using dict.items()\n",
    "# Iterate over key-value pairs using dict.items()\n",
    "for key, value in my_dict.items():\n",
    "    print(key, \"->\", value)\n",
    "\n",
    "# Output:\n",
    "# apple -> 5\n",
    "# banana -> 3\n",
    "# orange -> 7"
   ]
  },
  {
   "cell_type": "code",
   "execution_count": null,
   "id": "37ebe1c5",
   "metadata": {},
   "outputs": [],
   "source": [
    "# Using dict.values()\n",
    "# Access values using dict.values()\n",
    "values = my_dict.values()\n",
    "print(values)  # Output: dict_values([5, 3, 7])\n",
    "\n",
    "# Convert dict_values to a list\n",
    "value_list = list(values)\n",
    "print(value_list)  # Output: [5, 3, 7]\n",
    "\n",
    "# Check if a value exists in the dictionary\n",
    "if 5 in my_dict.values():\n",
    "    print(\"The value 5 exists in the dictionary\")\n",
    "else:\n",
    "    print(\"The value 5 does not exist in the dictionary\")\n",
    "\n",
    "# Output:\n",
    "# The value 5 exists in the dictionary\n"
   ]
  },
  {
   "attachments": {},
   "cell_type": "markdown",
   "id": "7673a842",
   "metadata": {},
   "source": [
    "### Dictionary Comprehension\n",
    "> Dictionary comprehension is a concise way to create dictionaries in Python using a compact syntax. It allows you to create a new dictionary by specifying a key-value expression, similar to how list comprehensions are used to create lists\n",
    "\n",
    "__{key_expression: value_expression for item in iterable if condition}__"
   ]
  },
  {
   "cell_type": "code",
   "execution_count": null,
   "id": "ee934aa3",
   "metadata": {},
   "outputs": [],
   "source": [
    "animalList = [('a', 'aardvark'), ('b', 'bear'), ('c', 'cat'), ('d', 'dog')]\n",
    "animals = {item[0]: item[1] for item in animalList}\n",
    "\n",
    "animals # {'a': 'aardvark', 'b': 'bear', 'c': 'cat', 'd': 'dog'}"
   ]
  },
  {
   "cell_type": "code",
   "execution_count": null,
   "id": "dff01184",
   "metadata": {},
   "outputs": [],
   "source": [
    "animals = {key: value for key, value in animalList}\n",
    "\n",
    "animals # {'a': 'aardvark', 'b': 'bear', 'c': 'cat', 'd': 'dog'}\n"
   ]
  },
  {
   "cell_type": "code",
   "execution_count": null,
   "id": "00275b23",
   "metadata": {},
   "outputs": [],
   "source": [
    "list(animals.items())\n",
    "\n",
    "# Output\n",
    "# [('a', 'aardvark'), ('b', 'bear'), ('c', 'cat'), ('d', 'dog')]"
   ]
  },
  {
   "cell_type": "code",
   "execution_count": null,
   "id": "3a7dc2a3",
   "metadata": {},
   "outputs": [],
   "source": [
    "[{'letter': key, 'name': value} for key, value in animals.items()]\n",
    "\n",
    "# It will produce list of dictionary\n",
    "# [ {'letter': 'a', 'name': 'aardvark'},\n",
    "#  {'letter': 'b', 'name': 'bear'},\n",
    "#  {'letter': 'c', 'name': 'cat'},\n",
    "#  {'letter': 'd', 'name': 'dog'} ]"
   ]
  },
  {
   "cell_type": "code",
   "execution_count": null,
   "id": "ed77d740",
   "metadata": {},
   "outputs": [],
   "source": [
    "# Example 1: Squaring numbers and creating a dictionary\n",
    "numbers = [1, 2, 3, 4, 5]\n",
    "squared_dict = {num: num**2 for num in numbers}\n",
    "print(squared_dict)\n",
    "# Output: {1: 1, 2: 4, 3: 9, 4: 16, 5: 25}\n",
    "\n",
    "# Example 2: Filtering odd numbers and creating a dictionary\n",
    "numbers = [1, 2, 3, 4, 5]\n",
    "odd_dict = {num: num for num in numbers if num % 2 != 0}\n",
    "print(odd_dict)\n",
    "# Output: {1: 1, 3: 3, 5: 5}\n"
   ]
  },
  {
   "attachments": {},
   "cell_type": "markdown",
   "id": "60f335ec",
   "metadata": {},
   "source": [
    "### Questions"
   ]
  },
  {
   "cell_type": "code",
   "execution_count": null,
   "id": "38456ed0",
   "metadata": {},
   "outputs": [],
   "source": [
    "'''\n",
    "Question 1: Add the following key, value pair to the life_book dictionary\n",
    "'pet' -> 'dog', so the key is pet and the value is dog and then print it.\n",
    "'''\n"
   ]
  },
  {
   "cell_type": "code",
   "execution_count": null,
   "id": "624f108d",
   "metadata": {},
   "outputs": [],
   "source": [
    "from collections import OrderedDict\n",
    "'''\n",
    "Solution 1: Add the following key, value pair to the life_book dictionary\n",
    "'pet' -> 'dog', so the key is pet and the value is dog and then print it.\n",
    "'''\n",
    "life_book = {'pet':'dog'}\n",
    "print(life_book['pet'])"
   ]
  },
  {
   "cell_type": "code",
   "execution_count": null,
   "id": "e7975cf3",
   "metadata": {},
   "outputs": [],
   "source": [
    "'''\n",
    "Question 2: Add the following key, value pairs to the dictionary\n",
    "'second_pet' -> 'cat'\n",
    "'first_child' -> 'boy'\n",
    "'second_child' -> 'girl'\n",
    "Once added, print the dictionary.\n",
    "'''\n"
   ]
  },
  {
   "cell_type": "code",
   "execution_count": null,
   "id": "55044a66",
   "metadata": {},
   "outputs": [],
   "source": [
    "'''\n",
    "Soluton 2: Add the following key, value pairs to the dictionary\n",
    "'second_pet' -> 'cat'\n",
    "'first_child' -> 'boy'\n",
    "'second_child' -> 'girl'\n",
    "Once added, print the dictionary.\n",
    "'''\n",
    "life_book['second_pet'] = 'cat'\n",
    "life_book['first_child'] = 'boy'\n",
    "life_book['second_child'] = 'girl'\n",
    "print(life_book)"
   ]
  },
  {
   "cell_type": "code",
   "execution_count": null,
   "id": "952efeb8",
   "metadata": {},
   "outputs": [],
   "source": [
    "'''\n",
    "Question 3: Update the value associated with key 'pet' to be 'hamster', then\n",
    "print the dictionary.\n",
    "'''"
   ]
  },
  {
   "cell_type": "code",
   "execution_count": null,
   "id": "411b6c8e",
   "metadata": {},
   "outputs": [],
   "source": [
    "'''\n",
    "Solution 3: Update the value associated with key 'pet' to be 'hamster', then\n",
    "print the dictionary.\n",
    "'''\n",
    "life_book['pet'] = 'hamster'\n",
    "print(life_book)"
   ]
  },
  {
   "cell_type": "code",
   "execution_count": null,
   "id": "59b0b5bf",
   "metadata": {},
   "outputs": [],
   "source": [
    "'''\n",
    "Question 4: Given the dictionary below, use the items() method and save\n",
    "the value of all the key value pairs to the variable courses_iterable.\n",
    "'''\n",
    "my_courses = {'a':'python', 'b':'javascript', 'c':'ruby on rails', 'd':'machine learning', 'e':'ai'}"
   ]
  },
  {
   "cell_type": "code",
   "execution_count": null,
   "id": "c5047806",
   "metadata": {},
   "outputs": [],
   "source": [
    "'''\n",
    "Solution 4: Given the dictionary below, use the items() method and save\n",
    "the value of all the key value pairs to the variable courses_iterable.\n",
    "'''\n",
    "my_courses = {'a':'python', 'b':'javascript', 'c':'ruby on rails', 'd':'machine learning', 'e':'ai'}\n",
    "courses_iterable = []\n",
    "for kv in my_courses.items():\n",
    "    courses_iterable.append(kv)\n",
    "\n",
    "print(courses_iterable)"
   ]
  }
 ],
 "metadata": {
  "kernelspec": {
   "display_name": "Python 3 (ipykernel)",
   "language": "python",
   "name": "python3"
  },
  "language_info": {
   "codemirror_mode": {
    "name": "ipython",
    "version": 3
   },
   "file_extension": ".py",
   "mimetype": "text/x-python",
   "name": "python",
   "nbconvert_exporter": "python",
   "pygments_lexer": "ipython3",
   "version": "3.11.2"
  }
 },
 "nbformat": 4,
 "nbformat_minor": 5
}
