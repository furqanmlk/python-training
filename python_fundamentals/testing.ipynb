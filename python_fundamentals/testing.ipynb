{
 "cells": [
  {
   "cell_type": "code",
   "execution_count": 4,
   "metadata": {},
   "outputs": [],
   "source": [
    "def get_hand_value(*args):\n",
    "    sum = 0\n",
    "    for i in args:\n",
    "        sum += i\n",
    "    \n",
    "    count11 = args.count(11)\n",
    "    while(sum > 21 and count11 >= 1):\n",
    "        sum -= 10\n",
    "        count11 -= 1\n",
    "\n",
    "    if(sum == 21 and count11 == 1 and args.count(10) == 1):\n",
    "        return  'Winner Winner Chicken Dinner!'\n",
    "    \n",
    "    if(sum <= 21 and count11 == 0):\n",
    "        return \"The value of your hand is {0}\".format(sum)\n",
    "    \n",
    "    if(sum > 21 and count11 == 0):\n",
    "        return 'busted!'\n",
    "    \n",
    "    \n",
    "\n",
    "# hand_1 = get_hand_value(4,4,4,4)\n",
    "#hand_2 = get_hand_value(11,10)\n",
    "#hand_2\n",
    "hand_3 = get_hand_value(11,5,6,4,11,4)\n",
    "hand_3\n",
    "# hand_4 = get_hand_value(11,5,6,10)\n",
    "# hand_5 = get_hand_value(10,5,7)\n",
    "# hand_6 = get_hand_value(5,6,5,10)\n",
    "# hand_7 = get_hand_value(10,11)\n",
    "# hand_8 = get_hand_value(11,11,11,11,10,10)\n",
    "# hand_9 = get_hand_value(5,6,5,5)"
   ]
  }
 ],
 "metadata": {
  "kernelspec": {
   "display_name": "Python 3",
   "language": "python",
   "name": "python3"
  },
  "language_info": {
   "codemirror_mode": {
    "name": "ipython",
    "version": 3
   },
   "file_extension": ".py",
   "mimetype": "text/x-python",
   "name": "python",
   "nbconvert_exporter": "python",
   "pygments_lexer": "ipython3",
   "version": "3.10.11"
  },
  "orig_nbformat": 4
 },
 "nbformat": 4,
 "nbformat_minor": 2
}
