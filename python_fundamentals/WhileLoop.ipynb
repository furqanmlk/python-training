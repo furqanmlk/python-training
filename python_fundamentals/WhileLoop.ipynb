{
 "cells": [
  {
   "cell_type": "code",
   "execution_count": 1,
   "id": "1f3faac8",
   "metadata": {},
   "outputs": [],
   "source": [
    "from datetime import datetime"
   ]
  },
  {
   "attachments": {},
   "cell_type": "markdown",
   "id": "d1bb145a",
   "metadata": {},
   "source": [
    "## While loops\n",
    ">  You can run a simple while loop with a conditional test that\n",
    " evaluates to True or False (or a boolean directly) and the code\n",
    " within the block will keep running while the condition is True\n",
    " and stop only when the condition evaluation turns to False"
   ]
  },
  {
   "cell_type": "code",
   "execution_count": null,
   "id": "7772de16",
   "metadata": {},
   "outputs": [],
   "source": [
    "# The while loop below will print values 0 through 9 and stop when\n",
    "# x reaches value of 10, at which point the condition x < 10 will\n",
    "# be False since 10 < 10 is False and it will exit out of the\n",
    "# while loop\n",
    "x = 0\n",
    "while x < 10:\n",
    "    print(x)\n",
    "    x += 1"
   ]
  },
  {
   "cell_type": "code",
   "execution_count": null,
   "id": "1741b8cc",
   "metadata": {},
   "outputs": [],
   "source": [
    "# list of numbers and the index in which it was found is given below\n",
    "from random import randint\n",
    "l1 = [randint(1,100) for num in range(1000)]\n",
    "# and we want to loop till we find the number 25, and break out once we do\n",
    "i = 0\n",
    "num_to_search = 25\n",
    "while i < len(l1):\n",
    "    if l1[i] == num_to_search:\n",
    "        print(f\"{num_to_search} found at index {i}\")\n",
    "        break\n",
    "    i += 1\n",
    "\n",
    "# The break keyword breaks out of the nearest loop it is in, if there\n",
    "# are nested loops, look for the nearest for/while loop above the break\n",
    "# statement"
   ]
  },
  {
   "cell_type": "code",
   "execution_count": null,
   "id": "e4eebe2c",
   "metadata": {},
   "outputs": [],
   "source": [
    "'''\n",
    "The enumerate() function provides a convenient way to iterate over a sequence and access \n",
    "both the index and value of each element simultaneously. \n",
    "It is particularly useful when you need to keep track of the position or index \n",
    "of items while processing them in a loop.\n",
    "\n",
    "enumerate(iterable, start=0)\n",
    "iterable is the sequence, list, tuple, or any iterable object that you want to iterate over.\n",
    "start is an optional parameter that specifies the starting index. \n",
    "By default, it is set to 0, but you can specify a different value if needed.\n",
    "'''\n",
    "l1 = [\"a\",\"b\",\"c\",\"d\",\"e\"]\n",
    "for index, value in enumerate(l1):\n",
    "    print(f'Index: {index} Value: {value}')\n",
    "\n",
    "# Output\n",
    "# Index: 0 Value: a\n",
    "# Index: 1 Value: b\n",
    "# Index: 2 Value: c\n",
    "# Index: 3 Value: d\n",
    "# Index: 4 Value: e\n",
    "\n",
    "for index, value in enumerate(l1,10):\n",
    "    print(f'Index: {index} Value: {value}')\n",
    "\n",
    "# Output\n",
    "# Index: 10 Value: a\n",
    "# Index: 11 Value: b\n",
    "# Index: 12 Value: c\n",
    "# Index: 13 Value: d\n",
    "# Index: 14 Value: e"
   ]
  },
  {
   "cell_type": "code",
   "execution_count": null,
   "id": "8f2719e7",
   "metadata": {},
   "outputs": [],
   "source": [
    "# You can use the enumerate function to get the index in an iteration\n",
    "# scenario through an iterable. For example if you ran the code above\n",
    "# with a for loop without tracking i, you can use enumerate like below:\n",
    "l1 = [randint(1,100) for num in range(1000)]\n",
    "num_to_search = 50\n",
    "for index, value in enumerate(l1):\n",
    "    if value == num_to_search:\n",
    "        print(f\"{num_to_search} found at index {index}\")\n",
    "        break"
   ]
  },
  {
   "cell_type": "code",
   "execution_count": null,
   "id": "e66aa727",
   "metadata": {},
   "outputs": [],
   "source": [
    "# While loops are most useful when you don't know when the program\n",
    "# execution will end. For example, in a program where a user clicking\n",
    "# on an exit button to exit the program would dictate stopping the\n",
    "# loop or exiting out of the loop, example below:\n",
    "while True:\n",
    "    print(\"Please choose an option from the list below:\")\n",
    "    print(\"Press 1 for selection 1\")\n",
    "    print(\"Press 2 for selection 2\")\n",
    "    print(\"Press 3 to quit\")\n",
    "    selection = input(\"Enter your choice-> \")\n",
    "    if int(selection) == 3:\n",
    "        break"
   ]
  },
  {
   "cell_type": "code",
   "execution_count": 4,
   "id": "ed0abd8f",
   "metadata": {},
   "outputs": [
    {
     "name": "stdout",
     "output_type": "stream",
     "text": [
      "<zip object at 0x10b8d2740>\n"
     ]
    }
   ],
   "source": [
    "# We looked at another generator called zip. The zip function is\n",
    "# used quite often to merge values from two lists together to form\n",
    "# an iterable of the tuple values. It can cast to a list and printed\n",
    "# out to show the merged list of tuples\n",
    "\n",
    "l1 = ['.py','.js','.rb','.java','.c']\n",
    "l2 = ['python','javascript','ruby','java','c']\n",
    "tupled_list = list(zip(l2, l1)) # zip will return object\n",
    "print(tupled_list)\n",
    "\n",
    "# Output (list of tuple)\n",
    "# [('python', '.py'), ('javascript', '.js'), ('ruby', '.rb'), ('java', '.java'), ('c', '.c')]"
   ]
  },
  {
   "cell_type": "code",
   "execution_count": null,
   "id": "93ec125c",
   "metadata": {},
   "outputs": [],
   "source": [
    "# If one list is bigger than the other, the unmatched items are\n",
    "# simply ignored, for example if l2 looked like below\n",
    "l2 = ['python','javascript','ruby','java','c','c++']\n",
    "# and we ran the same code, c++ would be dropped and not included\n",
    "# in any of the tuples\n",
    "tupled_list = list(zip(l2, l1))\n",
    "print(tupled_list)\n"
   ]
  },
  {
   "cell_type": "code",
   "execution_count": 3,
   "id": "ef75cb3c",
   "metadata": {},
   "outputs": [
    {
     "data": {
      "text/plain": [
       "30"
      ]
     },
     "execution_count": 3,
     "metadata": {},
     "output_type": "execute_result"
    }
   ],
   "source": [
    "datetime.now().second"
   ]
  },
  {
   "cell_type": "code",
   "execution_count": null,
   "id": "f328919d",
   "metadata": {},
   "outputs": [],
   "source": [
    "wait_until = datetime.now().second + 2\n",
    "\n",
    "while datetime.now().second != wait_until:\n",
    "    print('Still waiting!')\n",
    "    \n",
    "print(f'We are at {wait_until} seconds!')"
   ]
  },
  {
   "cell_type": "code",
   "execution_count": 6,
   "id": "e6e5a780",
   "metadata": {},
   "outputs": [
    {
     "name": "stdout",
     "output_type": "stream",
     "text": [
      "We are at 38 seconds!\n"
     ]
    }
   ],
   "source": [
    "wait_until = datetime.now().second + 2\n",
    "\n",
    "while datetime.now().second != wait_until:\n",
    "    1 + 1\n",
    "    \n",
    "print(f'We are at {wait_until} seconds!')"
   ]
  },
  {
   "attachments": {},
   "cell_type": "markdown",
   "id": "a1f12c35",
   "metadata": {},
   "source": [
    "### Pass"
   ]
  },
  {
   "cell_type": "code",
   "execution_count": 7,
   "id": "edfe8ebb",
   "metadata": {},
   "outputs": [
    {
     "name": "stdout",
     "output_type": "stream",
     "text": [
      "We are at 51 seconds!\n"
     ]
    }
   ],
   "source": [
    "wait_until = datetime.now().second + 2\n",
    "\n",
    "while datetime.now().second != wait_until:\n",
    "    pass\n",
    "    \n",
    "print(f'We are at {wait_until} seconds!')"
   ]
  },
  {
   "attachments": {},
   "cell_type": "markdown",
   "id": "fa41df5c",
   "metadata": {},
   "source": [
    "### Break"
   ]
  },
  {
   "cell_type": "code",
   "execution_count": 8,
   "id": "36a482fe",
   "metadata": {},
   "outputs": [
    {
     "name": "stdout",
     "output_type": "stream",
     "text": [
      "We are at 5 seconds!\n"
     ]
    }
   ],
   "source": [
    "wait_until = datetime.now().second + 2\n",
    "\n",
    "while True:\n",
    "    if datetime.now().second == wait_until:\n",
    "        print(f'We are at {wait_until} seconds!')\n",
    "        break"
   ]
  },
  {
   "cell_type": "code",
   "execution_count": null,
   "id": "cd9ad5fd",
   "metadata": {},
   "outputs": [],
   "source": [
    "wait_until = datetime.now().second + 2\n",
    "\n",
    "while True:\n",
    "    while datetime.now().second == wait_until:\n",
    "        print(f'We are at {wait_until} seconds!')\n",
    "        break"
   ]
  },
  {
   "attachments": {},
   "cell_type": "markdown",
   "id": "6275aae2",
   "metadata": {},
   "source": [
    "### Continue"
   ]
  },
  {
   "cell_type": "code",
   "execution_count": 10,
   "id": "db03f4b7",
   "metadata": {},
   "outputs": [
    {
     "name": "stdout",
     "output_type": "stream",
     "text": [
      "We are at 14 seconds!\n"
     ]
    }
   ],
   "source": [
    "wait_until = datetime.now().second + 2\n",
    "\n",
    "while datetime.now().second != wait_until:\n",
    "    continue\n",
    "    print('Still waiting!')\n",
    "    \n",
    "    \n",
    "print(f'We are at {wait_until} seconds!')"
   ]
  },
  {
   "cell_type": "code",
   "execution_count": 11,
   "id": "02e3834d",
   "metadata": {},
   "outputs": [
    {
     "name": "stdout",
     "output_type": "stream",
     "text": [
      "We are at 9 seconds!\n"
     ]
    }
   ],
   "source": [
    "wait_until = datetime.now().second + 2\n",
    "\n",
    "while True:\n",
    "    if datetime.now().second < wait_until:\n",
    "        continue\n",
    "    break\n",
    "    \n",
    "    \n",
    "print(f'We are at {wait_until} seconds!')"
   ]
  },
  {
   "attachments": {},
   "cell_type": "markdown",
   "id": "ad1e49ae",
   "metadata": {},
   "source": [
    "## Questions"
   ]
  },
  {
   "cell_type": "code",
   "execution_count": null,
   "id": "1d61a07d",
   "metadata": {},
   "outputs": [],
   "source": [
    "'''\n",
    "Question 1:\n",
    "When is a while loop most appropriate to use instead of a for loop?\n",
    "'''\n"
   ]
  },
  {
   "cell_type": "code",
   "execution_count": null,
   "id": "37dadad4",
   "metadata": {},
   "outputs": [],
   "source": [
    "'''\n",
    "Solution 1:\n",
    "'''\n",
    "# When we don't know the exect end of the program execution, like in a user menu where \n",
    "# user dictates when to exit out the program"
   ]
  }
 ],
 "metadata": {
  "kernelspec": {
   "display_name": "Python 3 (ipykernel)",
   "language": "python",
   "name": "python3"
  },
  "language_info": {
   "codemirror_mode": {
    "name": "ipython",
    "version": 3
   },
   "file_extension": ".py",
   "mimetype": "text/x-python",
   "name": "python",
   "nbconvert_exporter": "python",
   "pygments_lexer": "ipython3",
   "version": "3.11.2"
  }
 },
 "nbformat": 4,
 "nbformat_minor": 5
}
