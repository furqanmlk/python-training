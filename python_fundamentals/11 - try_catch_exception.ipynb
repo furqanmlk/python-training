{
 "cells": [
  {
   "cell_type": "markdown",
   "metadata": {},
   "source": [
    "## Catch Exception\n",
    "\n",
    "#### try: > Something that might cause an exception\n",
    "#### except: > Do this if there was an exception\n",
    "#### else: > Do this if there was no exception\n",
    "#### finally: > Do this no matter what happens"
   ]
  },
  {
   "cell_type": "code",
   "execution_count": 5,
   "metadata": {},
   "outputs": [
    {
     "name": "stdout",
     "output_type": "stream",
     "text": [
      "That key: 'test' does not exist\n"
     ]
    }
   ],
   "source": [
    "try:\n",
    "    file = open(\"a_file.txt\") # Will cause FileNotFoundError\n",
    "    a_dict = {\"MyKey\":\"MyValue\"}\n",
    "    print(a_dict[\"test\"]) # Will cause KeyError\n",
    "    \n",
    "except FileNotFoundError:\n",
    "    file = open(\"a_file.txt\",\"w\") # w creates file if does not exist\n",
    "    file.write(\"Something\")\n",
    "\n",
    "except KeyError as error_message:\n",
    "    print(f\"That key: {error_message} does not exist\")\n",
    "\n",
    "else: # This will execute only when above two except block do not run\n",
    "    print(file.read())\n",
    "\n",
    "finally: # It will get executed no matter what happens\n",
    "    file.close()\n",
    "    print(\"File was closed\")"
   ]
  },
  {
   "cell_type": "code",
   "execution_count": 7,
   "metadata": {},
   "outputs": [
    {
     "name": "stdout",
     "output_type": "stream",
     "text": [
      "0.0049382716049382715\n"
     ]
    }
   ],
   "source": [
    "height = float(input(\"Height In Feet: \"))\n",
    "weight = int(input(\"Weight: \"))\n",
    "\n",
    "if height > 10:\n",
    "    raise ValueError(\"Humanr heights should not be more than 10 fee\")\n",
    "\n",
    "bmi = weight /height **2\n",
    "print(bmi)"
   ]
  }
 ],
 "metadata": {
  "kernelspec": {
   "display_name": "Python 3",
   "language": "python",
   "name": "python3"
  },
  "language_info": {
   "codemirror_mode": {
    "name": "ipython",
    "version": 3
   },
   "file_extension": ".py",
   "mimetype": "text/x-python",
   "name": "python",
   "nbconvert_exporter": "python",
   "pygments_lexer": "ipython3",
   "version": "3.10.11"
  },
  "orig_nbformat": 4
 },
 "nbformat": 4,
 "nbformat_minor": 2
}
