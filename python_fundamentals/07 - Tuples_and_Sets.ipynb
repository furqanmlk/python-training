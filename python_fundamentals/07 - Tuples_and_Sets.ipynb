{
 "cells": [
  {
   "attachments": {},
   "cell_type": "markdown",
   "id": "9ace3b36",
   "metadata": {},
   "source": [
    "## Sets\n",
    "> A set is an unordered collection of unique elements. \n",
    "It is represented by **curly braces {} or the set() function**.<br>\n",
    "Here are some key characteristics and differences of sets compared to lists, dictionaries, and tuples:\n",
    "\n",
    "- **Uniqueness**: Sets only contain unique elements. If you try to add a duplicate element to a set, it will be ignored.\n",
    "\n",
    "- **Ordering**: Sets do not preserve the order of elements. **The elements in a set are unordered**, and the order in which they are stored may not necessarily match the order in which they were added. Lists and tuples maintain the order of elements, while dictionaries and sets do not guarantee any specific order.\n",
    "- **Mutability**: Sets are mutable, meaning you can add or remove elements from a set after it is created. Lists and dictionaries are also mutable, allowing modifications to their elements, while tuples are immutable.\n",
    "- **Elements**: Sets can contain elements of different data types, including numbers, strings, and other objects. However, unlike lists and tuples, sets do not allow elements that are mutable, such as lists or dictionaries. **Each element in a set must be immutable**"
   ]
  },
  {
   "cell_type": "code",
   "execution_count": null,
   "id": "8ad9f061",
   "metadata": {},
   "outputs": [],
   "source": [
    "# set.add(element): Adds an element to the set.\n",
    "fruits = {'apple', 'banana', 'orange'}\n",
    "fruits.add('mango')\n",
    "print(fruits)  # Output: {'apple', 'banana', 'orange', 'mango'}\n",
    "\n",
    "# set.remove(element): Removes an element from the set.\n",
    "fruits = {'apple', 'banana', 'orange'}\n",
    "fruits.remove('banana')\n",
    "print(fruits)  # Output: {'apple', 'orange'}\n",
    "\n",
    "# set.discard(element): Removes an element from the set if it exists, \n",
    "# without raising an error if the element is not found.\n",
    "fruits = {'apple', 'banana', 'orange'}\n",
    "fruits.discard('grape')\n",
    "print(fruits)  # Output: {'apple', 'banana', 'orange'}\n",
    "\n",
    "\n",
    "# set.pop(): Removes and returns an arbitrary element from the set.\n",
    "fruits = {'apple', 'banana', 'orange'}\n",
    "removed_element = fruits.pop()\n",
    "print(removed_element)  # Output: 'apple'\n",
    "print(fruits)  # Output: {'banana', 'orange'}\n",
    "\n",
    "# set.clear(): Removes all elements from the set.\n",
    "fruits = {'apple', 'banana', 'orange'}\n",
    "fruits.clear()\n",
    "print(fruits)  # Output: set()\n",
    "\n",
    "\n",
    "# set.copy(): Returns a shallow copy of the set.\n",
    "fruits = {'apple', 'banana', 'orange'}\n",
    "fruits_copy = fruits.copy()\n",
    "print(fruits_copy)  # Output: {'apple', 'banana', 'orange'}\n",
    "\n",
    "# set.update(iterable): Updates the set by adding elements from an iterable or another set.\n",
    "fruits = {'apple', 'banana'}\n",
    "new_fruits = {'mango', 'grape'}\n",
    "fruits.update(new_fruits)\n",
    "print(fruits)  # Output: {'apple', 'banana', 'mango', 'grape'}\n",
    "\n",
    "# set.union(other_set) or set | other_set: Returns a new set that is the union of the set and another set.\n",
    "set1 = {1, 2, 3}\n",
    "set2 = {3, 4, 5}\n",
    "union_set = set1.union(set2)\n",
    "print(union_set)  # Output: {1, 2, 3, 4, 5}\n",
    "\n",
    "\n",
    "# set.intersection(other_set) or set & other_set: \n",
    "# Returns a new set that is the intersection of the set and another set.\n",
    "set1 = {1, 2, 3}\n",
    "set2 = {3, 4, 5}\n",
    "intersection_set = set1.intersection(set2)\n",
    "print(intersection_set)  # Output: {3}\n",
    "\n",
    "# set.difference(other_set) or set - other_set: \n",
    "# Returns a new set that contains elements in the set but not in another set.\n",
    "set1 = {1, 2, 3}\n",
    "set2 = {3, 4, 5}\n",
    "difference_set = set1.difference(set2)\n",
    "print(difference_set)  # Output: {1, 2}\n",
    "\n",
    "# set.symmetric_difference(other_set) or set ^ other_set: \n",
    "# Returns a new set that contains elements present in either the set or another set, but not both.\n",
    "set1 = {1, 2, 3}\n",
    "set2 = {3, 4, 5}\n",
    "symmetric_difference_set = set1.symmetric_difference(set2)\n",
    "print(symmetric_difference_set)  # Output: {1, 2, 4, 5}\n",
    "\n",
    "# set.issubset(other_set) or set <= other_set: \n",
    "# Checks if all elements of the set are present in another set.\n",
    "set1 = {1, 2}\n",
    "set2 = {1, 2, 3, 4, 5}\n",
    "is_subset = set1.issubset(set2)\n",
    "print(is_subset)  # Output: True\n",
    "\n",
    "# set.issuperset(other_set) or set >= other_set: \n",
    "# Checks if all elements of another set are present in the set.\n",
    "set1 = {1, 2, 3, 4, 5}\n",
    "set2 = {1, 2}\n",
    "is_superset = set1.issuperset(set2)\n",
    "print(is_superset)  # Output: True\n",
    "\n",
    "is_superset = set2.issuperset(set1)\n",
    "print(is_superset)  # Output: False\n",
    "\n",
    "# set.isdisjoint(other_set): \n",
    "# Checks if the set has no elements in common with another set.\n",
    "set1 = {1, 2, 3}\n",
    "set2 = {4, 5, 6}\n",
    "is_disjoint = set1.isdisjoint(set2)\n",
    "print(is_disjoint)  # Output: True\n",
    "\n",
    "# len(set): Returns the number of elements in the set.\n",
    "fruits = {'apple', 'banana', 'orange'}\n",
    "length = len(fruits)\n",
    "print(length)  # Output: 3\n",
    "\n",
    "\n",
    "\n",
    "\n"
   ]
  },
  {
   "cell_type": "code",
   "execution_count": 1,
   "id": "10b51e58",
   "metadata": {},
   "outputs": [
    {
     "name": "stdout",
     "output_type": "stream",
     "text": [
      "{1, 2, 6, 'ruby', 8, 9, 10, 1000, 'python', 21, 'java'}\n"
     ]
    }
   ],
   "source": [
    "## Sets are un-ordered collections of data with no duplicates\n",
    "\n",
    "my_set = {1,6,2,'java','ruby',8,9,10,21,1000,'python'}\n",
    "print(my_set)"
   ]
  },
  {
   "cell_type": "code",
   "execution_count": 2,
   "id": "190a621a",
   "metadata": {},
   "outputs": [
    {
     "name": "stdout",
     "output_type": "stream",
     "text": [
      "[1, 6, 2, 'java', 'ruby', 8, 9, 10, 21, 1000, 6, 'python', 'java']\n",
      "{1, 2, 6, 'ruby', 8, 9, 10, 1000, 'python', 21, 'java'}\n"
     ]
    }
   ],
   "source": [
    "# If you have a list with duplicates, you can cast it to a set\n",
    "# to get rid of duplicates fast\n",
    "my_list = [1,6,2,'java','ruby',8,9,10,21,1000,6,'python','java']\n",
    "print(my_list)\n",
    "my_set = set(my_list)\n",
    "print(my_set)"
   ]
  },
  {
   "cell_type": "code",
   "execution_count": 3,
   "id": "c7fd5209",
   "metadata": {},
   "outputs": [
    {
     "name": "stdout",
     "output_type": "stream",
     "text": [
      "True\n"
     ]
    }
   ],
   "source": [
    "# You can find information in sets using 'in'\n",
    "print('java' in my_set)"
   ]
  },
  {
   "cell_type": "code",
   "execution_count": null,
   "id": "fa00ea3e",
   "metadata": {},
   "outputs": [],
   "source": [
    "# You can iterate through items in a set using a simple for loop\n",
    "for item in my_set:\n",
    "    print(item)"
   ]
  },
  {
   "cell_type": "code",
   "execution_count": 1,
   "id": "d2f6b728",
   "metadata": {},
   "outputs": [
    {
     "data": {
      "text/plain": [
       "{'a', 'b', 'c'}"
      ]
     },
     "execution_count": 1,
     "metadata": {},
     "output_type": "execute_result"
    }
   ],
   "source": [
    "# Creating Set\n",
    "mySet = {'a', 'b', 'c'}\n",
    "mySet"
   ]
  },
  {
   "cell_type": "code",
   "execution_count": 4,
   "id": "8aefd2cd",
   "metadata": {},
   "outputs": [
    {
     "data": {
      "text/plain": [
       "{'a', 'b', 'c'}"
      ]
     },
     "execution_count": 4,
     "metadata": {},
     "output_type": "execute_result"
    }
   ],
   "source": [
    "# Another way to create Set\n",
    "mySet = set(('a', 'b', 'c'))\n",
    "mySet"
   ]
  },
  {
   "cell_type": "code",
   "execution_count": 5,
   "id": "69200543",
   "metadata": {},
   "outputs": [
    {
     "data": {
      "text/plain": [
       "['a', 'b', 'c']"
      ]
     },
     "execution_count": 5,
     "metadata": {},
     "output_type": "execute_result"
    }
   ],
   "source": [
    "# Remove duplicate from the list\n",
    "myList = ['a', 'b', 'b', 'c', 'c']\n",
    "myList = list(set(myList))\n",
    "myList"
   ]
  },
  {
   "cell_type": "code",
   "execution_count": 6,
   "id": "d72cab4d",
   "metadata": {},
   "outputs": [
    {
     "ename": "TypeError",
     "evalue": "'set' object is not subscriptable",
     "output_type": "error",
     "traceback": [
      "\u001b[0;31m---------------------------------------------------------------------------\u001b[0m",
      "\u001b[0;31mTypeError\u001b[0m                                 Traceback (most recent call last)",
      "Input \u001b[0;32mIn [6]\u001b[0m, in \u001b[0;36m<module>\u001b[0;34m\u001b[0m\n\u001b[0;32m----> 1\u001b[0m \u001b[43mmySet\u001b[49m\u001b[43m[\u001b[49m\u001b[38;5;241;43m0\u001b[39;49m\u001b[43m]\u001b[49m\n",
      "\u001b[0;31mTypeError\u001b[0m: 'set' object is not subscriptable"
     ]
    }
   ],
   "source": [
    "mySet[0]"
   ]
  },
  {
   "cell_type": "code",
   "execution_count": 7,
   "id": "a806d16a",
   "metadata": {},
   "outputs": [
    {
     "name": "stderr",
     "output_type": "stream",
     "text": [
      "<>:2: SyntaxWarning: 'int' object is not subscriptable; perhaps you missed a comma?\n",
      "<>:2: SyntaxWarning: 'int' object is not subscriptable; perhaps you missed a comma?\n",
      "/var/folders/fl/tpkdpqfn7qj8x03js4wtflc00000gn/T/ipykernel_85667/2203923273.py:2: SyntaxWarning: 'int' object is not subscriptable; perhaps you missed a comma?\n",
      "  1[0]\n",
      "/var/folders/fl/tpkdpqfn7qj8x03js4wtflc00000gn/T/ipykernel_85667/2203923273.py:2: SyntaxWarning: 'int' object is not subscriptable; perhaps you missed a comma?\n",
      "  1[0]\n",
      "/var/folders/fl/tpkdpqfn7qj8x03js4wtflc00000gn/T/ipykernel_85667/2203923273.py:2: SyntaxWarning: 'int' object is not subscriptable; perhaps you missed a comma?\n",
      "  1[0]\n"
     ]
    },
    {
     "ename": "TypeError",
     "evalue": "'int' object is not subscriptable",
     "output_type": "error",
     "traceback": [
      "\u001b[0;31m---------------------------------------------------------------------------\u001b[0m",
      "\u001b[0;31mTypeError\u001b[0m                                 Traceback (most recent call last)",
      "Input \u001b[0;32mIn [7]\u001b[0m, in \u001b[0;36m<module>\u001b[0;34m\u001b[0m\n\u001b[1;32m      1\u001b[0m number \u001b[38;5;241m=\u001b[39m \u001b[38;5;241m1\u001b[39m\n\u001b[0;32m----> 2\u001b[0m \u001b[38;5;241;43m1\u001b[39;49m\u001b[43m[\u001b[49m\u001b[38;5;241;43m0\u001b[39;49m\u001b[43m]\u001b[49m\n",
      "\u001b[0;31mTypeError\u001b[0m: 'int' object is not subscriptable"
     ]
    }
   ],
   "source": [
    "number = 1\n",
    "1[0]"
   ]
  },
  {
   "cell_type": "code",
   "execution_count": 9,
   "id": "80dc46d0",
   "metadata": {},
   "outputs": [
    {
     "data": {
      "text/plain": [
       "{'a', 'b', 'c', 'd'}"
      ]
     },
     "execution_count": 9,
     "metadata": {},
     "output_type": "execute_result"
    }
   ],
   "source": [
    "# Adding element to Set\n",
    "mySet.add('d')\n",
    "mySet"
   ]
  },
  {
   "cell_type": "code",
   "execution_count": 10,
   "id": "2a98889e",
   "metadata": {},
   "outputs": [
    {
     "data": {
      "text/plain": [
       "True"
      ]
     },
     "execution_count": 10,
     "metadata": {},
     "output_type": "execute_result"
    }
   ],
   "source": [
    "'a' in mySet"
   ]
  },
  {
   "cell_type": "code",
   "execution_count": 11,
   "id": "a921cee9",
   "metadata": {},
   "outputs": [
    {
     "data": {
      "text/plain": [
       "False"
      ]
     },
     "execution_count": 11,
     "metadata": {},
     "output_type": "execute_result"
    }
   ],
   "source": [
    "'z' in mySet"
   ]
  },
  {
   "cell_type": "code",
   "execution_count": 12,
   "id": "ab1b620c",
   "metadata": {},
   "outputs": [
    {
     "data": {
      "text/plain": [
       "4"
      ]
     },
     "execution_count": 12,
     "metadata": {},
     "output_type": "execute_result"
    }
   ],
   "source": [
    "len(mySet)"
   ]
  },
  {
   "cell_type": "code",
   "execution_count": 13,
   "id": "e6e31f21",
   "metadata": {},
   "outputs": [
    {
     "name": "stdout",
     "output_type": "stream",
     "text": [
      "a\n",
      "b\n",
      "c\n",
      "d\n"
     ]
    }
   ],
   "source": [
    "while len(mySet):\n",
    "    print(mySet.pop())"
   ]
  },
  {
   "cell_type": "code",
   "execution_count": 15,
   "id": "feb2c369",
   "metadata": {},
   "outputs": [
    {
     "data": {
      "text/plain": [
       "set()"
      ]
     },
     "execution_count": 15,
     "metadata": {},
     "output_type": "execute_result"
    }
   ],
   "source": [
    "mySet"
   ]
  },
  {
   "cell_type": "code",
   "execution_count": 16,
   "id": "f46ecc23",
   "metadata": {},
   "outputs": [],
   "source": [
    "mySet = {'a', 'b', 'c'}"
   ]
  },
  {
   "cell_type": "code",
   "execution_count": 17,
   "id": "db7970a1",
   "metadata": {},
   "outputs": [],
   "source": [
    "# Removing element from Set\n",
    "mySet.discard('a')"
   ]
  },
  {
   "cell_type": "code",
   "execution_count": 18,
   "id": "8831c30e",
   "metadata": {},
   "outputs": [
    {
     "data": {
      "text/plain": [
       "{'b', 'c'}"
      ]
     },
     "execution_count": 18,
     "metadata": {},
     "output_type": "execute_result"
    }
   ],
   "source": [
    "mySet"
   ]
  },
  {
   "attachments": {},
   "cell_type": "markdown",
   "id": "f39e6aee",
   "metadata": {},
   "source": [
    "## Tuples\n",
    "> A tuple is an ordered, immutable collection of elements. It is represented by parentheses () and can contain elements of different types. Here are some key characteristics and differences of tuples compared to lists, dictionaries, and sets.\n",
    "\n",
    "- **Immutability**: Tuples are immutable, meaning their elements cannot be changed once the tuple is created\n",
    "\n",
    "- **Ordering**: Tuples preserve the order of elements. The position of each element in a tuple is fixed and has a specific index.\n",
    "\n",
    "- **Elements**: Tuples can contain elements of different data types, including numbers, strings, lists, dictionaries, and even other tuples. Lists and tuples allow mixed data types, while dictionaries and sets typically have elements of the same type.\n",
    "\n",
    "- **Indexing and Slicing**: Tuples, like lists, support indexing and slicing operations\n",
    "Usage: Tuples are commonly used to store related pieces of data that are not intended to be modified, such as coordinates, database records, or configuration settings. They are often used in situations where immutability and order preservation are desired\n",
    "\n",
    "> Note: \n",
    "- Lists and tuples allow mixed data types, while dictionaries and sets typically have elements of the same type.\n",
    "- Lists, dictionaries, and sets are more flexible in terms of modifications and can be resized, updated, or modified as needed. They are often used when dynamic changes to the collection are required"
   ]
  },
  {
   "cell_type": "code",
   "execution_count": null,
   "id": "55b666cd",
   "metadata": {},
   "outputs": [],
   "source": [
    "# tuple.count(element): \n",
    "#Returns the number of occurrences of a specified element in the tuple.\n",
    "fruits = ('apple', 'banana', 'orange', 'apple')\n",
    "count = fruits.count('apple')\n",
    "print(count)  # Output: 2\n",
    "\n",
    "# tuple.index(element): \n",
    "# Returns the index of the first occurrence of a specified element in the tuple.\n",
    "fruits = ('apple', 'banana', 'orange', 'apple')\n",
    "index = fruits.index('banana')\n",
    "print(index)  # Output: 1\n",
    "\n",
    "# len(tuple): \n",
    "# Returns the number of elements in the tuple.\n",
    "fruits = ('apple', 'banana', 'orange')\n",
    "length = len(fruits)\n",
    "print(length)  # Output: 3\n",
    "\n",
    "# tuple + another_tuple: \n",
    "# Concatenates two tuples and returns a new tuple.\n",
    "fruits = ('apple', 'banana')\n",
    "more_fruits = ('orange', 'mango')\n",
    "all_fruits = fruits + more_fruits\n",
    "print(all_fruits)  # Output: ('apple', 'banana', 'orange', 'mango')\n",
    "\n",
    "# tuple * n or n * tuple: \n",
    "# Repeats the elements of the tuple n times and returns a new tuple.\n",
    "fruits = ('apple', 'banana')\n",
    "repeated_fruits = fruits * 3\n",
    "print(repeated_fruits)  # Output: ('apple', 'banana', 'apple', 'banana', 'apple', 'banana')\n",
    "\n",
    "# tuple[start:end:step]: \n",
    "# Returns a new tuple with elements from the start index (inclusive) to the end index (exclusive), with a specified step size.\n",
    "numbers = (0, 1, 2, 3, 4, 5, 6, 7, 8, 9)\n",
    "subset = numbers[2:8:2]\n",
    "print(subset)  # Output: (2, 4, 6)\n"
   ]
  },
  {
   "cell_type": "code",
   "execution_count": 19,
   "id": "98151b6a",
   "metadata": {},
   "outputs": [
    {
     "data": {
      "text/plain": [
       "('a', 'b', 'c')"
      ]
     },
     "execution_count": 19,
     "metadata": {},
     "output_type": "execute_result"
    }
   ],
   "source": [
    "myTuple = ('a', 'b', 'c')\n",
    "myTuple"
   ]
  },
  {
   "cell_type": "code",
   "execution_count": 20,
   "id": "2841cbc2",
   "metadata": {},
   "outputs": [
    {
     "data": {
      "text/plain": [
       "'a'"
      ]
     },
     "execution_count": 20,
     "metadata": {},
     "output_type": "execute_result"
    }
   ],
   "source": [
    "myTuple[0]"
   ]
  },
  {
   "cell_type": "code",
   "execution_count": 21,
   "id": "42b2f324",
   "metadata": {},
   "outputs": [
    {
     "ename": "TypeError",
     "evalue": "'tuple' object does not support item assignment",
     "output_type": "error",
     "traceback": [
      "\u001b[0;31m---------------------------------------------------------------------------\u001b[0m",
      "\u001b[0;31mTypeError\u001b[0m                                 Traceback (most recent call last)",
      "Input \u001b[0;32mIn [21]\u001b[0m, in \u001b[0;36m<module>\u001b[0;34m\u001b[0m\n\u001b[0;32m----> 1\u001b[0m myTuple[\u001b[38;5;241m0\u001b[39m] \u001b[38;5;241m=\u001b[39m \u001b[38;5;124m'\u001b[39m\u001b[38;5;124md\u001b[39m\u001b[38;5;124m'\u001b[39m\n",
      "\u001b[0;31mTypeError\u001b[0m: 'tuple' object does not support item assignment"
     ]
    }
   ],
   "source": [
    "# Tuple is immutable\n",
    "myTuple[0] = 'd'"
   ]
  },
  {
   "cell_type": "code",
   "execution_count": 27,
   "id": "1f64ecd4",
   "metadata": {},
   "outputs": [
    {
     "data": {
      "text/plain": [
       "tuple"
      ]
     },
     "execution_count": 27,
     "metadata": {},
     "output_type": "execute_result"
    }
   ],
   "source": [
    "def returnsMultipleValues():\n",
    "    return 1,2,3\n",
    "\n",
    "type(returnsMultipleValues())"
   ]
  },
  {
   "cell_type": "code",
   "execution_count": 26,
   "id": "ecca91c0",
   "metadata": {},
   "outputs": [],
   "source": [
    "myTuple = (1,2,3)"
   ]
  },
  {
   "cell_type": "code",
   "execution_count": 25,
   "id": "08d209bb",
   "metadata": {},
   "outputs": [
    {
     "data": {
      "text/plain": [
       "tuple"
      ]
     },
     "execution_count": 25,
     "metadata": {},
     "output_type": "execute_result"
    }
   ],
   "source": [
    "type(myTuple)"
   ]
  },
  {
   "cell_type": "code",
   "execution_count": 28,
   "id": "0c5c57a0",
   "metadata": {},
   "outputs": [],
   "source": [
    "a, b, c = returnsMultipleValues()"
   ]
  },
  {
   "cell_type": "code",
   "execution_count": 29,
   "id": "d8f3b2cf",
   "metadata": {},
   "outputs": [
    {
     "name": "stdout",
     "output_type": "stream",
     "text": [
      "1\n",
      "2\n",
      "3\n"
     ]
    }
   ],
   "source": [
    "print(a)\n",
    "print(b)\n",
    "print(c)"
   ]
  },
  {
   "cell_type": "code",
   "execution_count": 12,
   "id": "de8a9af3",
   "metadata": {},
   "outputs": [
    {
     "name": "stdout",
     "output_type": "stream",
     "text": [
      "first\n",
      "4\n",
      "5\n",
      "8\n",
      "hi there\n",
      "5\n",
      "2\n",
      "1\n",
      "9\n",
      "10\n"
     ]
    }
   ],
   "source": [
    "my_random_tuple = ('first',4,5,8,'hi there',5,2,1,9,10)\n",
    "## Write your code below\n",
    "\n",
    "for item in my_random_tuple:\n",
    "    print(item)"
   ]
  },
  {
   "attachments": {},
   "cell_type": "markdown",
   "id": "d923235f",
   "metadata": {},
   "source": [
    "## Questions"
   ]
  },
  {
   "cell_type": "code",
   "execution_count": null,
   "id": "43a265d3",
   "metadata": {},
   "outputs": [],
   "source": [
    "'''\n",
    "Question 1: \n",
    "Create an empty set called my_ints, once it's created\n",
    "use the type function (along with print) to print the type of my_ints.\n",
    "'''"
   ]
  },
  {
   "cell_type": "code",
   "execution_count": null,
   "id": "fdcf6843",
   "metadata": {},
   "outputs": [],
   "source": [
    "'''\n",
    "Solution 1: \n",
    "Create an empty set called my_ints, once it's created\n",
    "use the type function (along with print) to print the type of my_ints.\n",
    "'''\n",
    "my_ints = set()\n",
    "print(type(my_ints))"
   ]
  },
  {
   "cell_type": "code",
   "execution_count": null,
   "id": "f101db59",
   "metadata": {},
   "outputs": [],
   "source": [
    "'''\n",
    "Question 2: \n",
    "Given the list below, convert it to a set named my_set and then\n",
    "cast it back to a list called my_unique_list which only includes unique\n",
    "elements. No print required.\n",
    "'''"
   ]
  },
  {
   "cell_type": "code",
   "execution_count": null,
   "id": "36806b5e",
   "metadata": {},
   "outputs": [],
   "source": [
    "'''\n",
    "Solution 2: \n",
    "Given the list below, convert it to a set named my_set and then\n",
    "cast it back to a list called my_unique_list which only includes unique\n",
    "elements. No print required.\n",
    "'''\n",
    "my_list = [1,1,'rails',7,6,2,'java','ruby',8,9,10,21,'rails',7,2,1000,6,'python','java']\n",
    "my_set = set(my_list)\n",
    "my_unique_list = list(my_set)"
   ]
  },
  {
   "cell_type": "code",
   "execution_count": null,
   "id": "67319ab3",
   "metadata": {},
   "outputs": [],
   "source": [
    "'''\n",
    "Question 3: \n",
    "Add the int 8 to my_ints you created in question 1. Print the\n",
    "output when you run the intersection method on my_ints and pass it my_set\n",
    "(created in question 2) as the argument.\n",
    "'''"
   ]
  },
  {
   "cell_type": "code",
   "execution_count": null,
   "id": "bc81ac01",
   "metadata": {},
   "outputs": [],
   "source": [
    "'''\n",
    "Solution 3: \n",
    "Add the int 8 to my_ints you created in question 1. Print the\n",
    "output when you run the intersection method on my_ints and pass it my_set\n",
    "(created in question 2) as the argument.\n",
    "'''\n",
    "my_ints.add(8)\n",
    "print(my_ints.intersection(my_set))"
   ]
  },
  {
   "cell_type": "code",
   "execution_count": null,
   "id": "79d7ec8b",
   "metadata": {},
   "outputs": [],
   "source": [
    "'''\n",
    " Question 4: \n",
    " Test (and print) if 'rails' is in my_set\n",
    "'''"
   ]
  },
  {
   "cell_type": "code",
   "execution_count": null,
   "id": "294debaf",
   "metadata": {},
   "outputs": [],
   "source": [
    "'''\n",
    " Solution 4: \n",
    " Test (and print) if 'rails' is in my_set\n",
    "'''\n",
    "print('rails' in my_set)"
   ]
  },
  {
   "cell_type": "code",
   "execution_count": null,
   "id": "9cc6839f",
   "metadata": {},
   "outputs": [],
   "source": [
    "'''\n",
    "Question 5: \n",
    "Given the tuple below, use a simple for loop and print out all\n",
    "the elements in it (no special formatting).\n",
    "'''"
   ]
  },
  {
   "cell_type": "code",
   "execution_count": null,
   "id": "f517fbae",
   "metadata": {},
   "outputs": [],
   "source": [
    "'''\n",
    "Solution 5: \n",
    "Given the tuple below, use a simple for loop and print out all\n",
    "the elements in it (no special formatting).\n",
    "'''\n",
    "my_random_tuple = ('first',4,5,8,'hi there',5,2,1,9,10)\n",
    "\n",
    "for item in my_random_tuple:\n",
    "    print(item)"
   ]
  }
 ],
 "metadata": {
  "kernelspec": {
   "display_name": "Python 3 (ipykernel)",
   "language": "python",
   "name": "python3"
  },
  "language_info": {
   "codemirror_mode": {
    "name": "ipython",
    "version": 3
   },
   "file_extension": ".py",
   "mimetype": "text/x-python",
   "name": "python",
   "nbconvert_exporter": "python",
   "pygments_lexer": "ipython3",
   "version": "3.11.2"
  }
 },
 "nbformat": 4,
 "nbformat_minor": 5
}
