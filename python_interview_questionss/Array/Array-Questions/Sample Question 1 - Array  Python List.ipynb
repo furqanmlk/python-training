{
 "cells": [
  {
   "cell_type": "code",
   "execution_count": null,
   "metadata": {},
   "outputs": [],
   "source": [
    "# Input:\n",
    "#  a: The given list/array of integers.  Example: [1, -2, 3, 4]\n",
    "# Returns:\n",
    "#  The second largest number in the list or None if\n",
    "#  the array's length is only 1 or 2.\n",
    "def second_largest_01(given_list):\n",
    "    if len(given_list) == 1 or len(given_list) == 0:\n",
    "        return None\n",
    "    given_list.sort()\n",
    "    return given_list[-2]\n",
    "\n",
    "def second_largest_02(given_list):\n",
    "    if len(given_list) == 1 or len(given_list) == 0:\n",
    "        return None\n",
    "    \n",
    "    largestElem = given_list[0]\n",
    "    for e in given_list:\n",
    "        if e > largestElem:\n",
    "            largestElem = e\n",
    "            \n",
    "    secondLargeElem = given_list[0]\n",
    "    for e in given_list:\n",
    "        if e > secondLargeElem and e < largestElem:\n",
    "            secondLargeElem = e\n",
    "    \n",
    "    return secondLargeElem\n",
    "    \n",
    "def second_largest(given_list):\n",
    "    if len(given_list) == 1 or len(given_list) == 0:\n",
    "            return None\n",
    "    largest = given_list[0]\n",
    "    secondLargest = given_list[0]\n",
    "    for e in given_list:\n",
    "        if e > largest:\n",
    "            secondLargest = largest\n",
    "            largest = e\n",
    "    return secondLargest\n",
    "            \n",
    "\n",
    "print(second_largest([1,-2,3,4]))"
   ]
  },
  {
   "attachments": {},
   "cell_type": "markdown",
   "metadata": {},
   "source": [
    "# Use the code below to test your function."
   ]
  },
  {
   "cell_type": "code",
   "execution_count": null,
   "metadata": {},
   "outputs": [],
   "source": [
    "print('The second largest number in [1, 3, 4, 5, 0, 2] is (should be 4):')\n",
    "print(second_largest([1, 3, 4, 5, 0, 2]))"
   ]
  },
  {
   "cell_type": "code",
   "execution_count": null,
   "metadata": {},
   "outputs": [],
   "source": [
    "print('The second largest number in [-2, -1] is: (should be -2)')\n",
    "print(second_largest([-2, -1]))"
   ]
  },
  {
   "cell_type": "code",
   "execution_count": null,
   "metadata": {},
   "outputs": [],
   "source": [
    "print('The second largest number in [2, 2, 1] is: (should be 2)')\n",
    "print(second_largest([2, 2, 1]))"
   ]
  },
  {
   "cell_type": "code",
   "execution_count": null,
   "metadata": {},
   "outputs": [],
   "source": [
    "print('The second largest number in [2] is: (should be None)')\n",
    "print(second_largest([2]))"
   ]
  },
  {
   "cell_type": "code",
   "execution_count": null,
   "metadata": {},
   "outputs": [],
   "source": [
    "print('The second largest number in [] is: (should be None)')\n",
    "print(second_largest([]))"
   ]
  },
  {
   "cell_type": "code",
   "execution_count": null,
   "metadata": {},
   "outputs": [],
   "source": []
  }
 ],
 "metadata": {
  "kernelspec": {
   "display_name": "Python 3",
   "language": "python",
   "name": "python3"
  },
  "language_info": {
   "codemirror_mode": {
    "name": "ipython",
    "version": 3
   },
   "file_extension": ".py",
   "mimetype": "text/x-python",
   "name": "python",
   "nbconvert_exporter": "python",
   "pygments_lexer": "ipython3",
   "version": "3.11.2"
  },
  "orig_nbformat": 4
 },
 "nbformat": 4,
 "nbformat_minor": 2
}
